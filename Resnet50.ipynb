{
 "cells": [
  {
   "cell_type": "markdown",
   "id": "6f8cb426-e177-4359-aaa1-6d995fdcaaa7",
   "metadata": {
    "tags": []
   },
   "source": [
    "### import libraries"
   ]
  },
  {
   "cell_type": "code",
   "execution_count": 10,
   "id": "4864816e-4ee8-47a7-9884-15535da5e883",
   "metadata": {
    "collapsed": true,
    "jupyter": {
     "outputs_hidden": true
    },
    "tags": []
   },
   "outputs": [
    {
     "name": "stderr",
     "output_type": "stream",
     "text": [
      "2023-08-17 13:56:09.637501: I tensorflow/core/platform/cpu_feature_guard.cc:182] This TensorFlow binary is optimized to use available CPU instructions in performance-critical operations.\n",
      "To enable the following instructions: SSE4.1 SSE4.2 AVX AVX2 AVX512F FMA, in other operations, rebuild TensorFlow with the appropriate compiler flags.\n"
     ]
    }
   ],
   "source": [
    "import os\n",
    "import cv2\n",
    "import pandas as pd\n",
    "import numpy as np\n",
    "from sklearn.model_selection import train_test_split\n",
    "from sklearn.preprocessing import LabelEncoder\n",
    "import math   # for mathematical operations\n",
    "# import matplotlib.pyplot as plt    # for plotting the images\n",
    "# %matplotlib inline\n",
    "import pandas as pd\n",
    "from tensorflow.keras.preprocessing import image   # for preprocessing the images\n",
    "from skimage.transform import resize   # for resizing images\n",
    "from glob import glob\n",
    "from tqdm import tqdm\n",
    "import random\n",
    "import pathlib\n",
    "import itertools\n",
    "import collections\n",
    "import tensorflow as tf\n",
    "import imageio\n",
    "from IPython import display\n",
    "from urllib import request\n",
    "# from tensorflow_docs.vis import embed\n",
    "import keras"
   ]
  },
  {
   "cell_type": "markdown",
   "id": "ded0a0c8-8886-4575-903e-7ee523b34537",
   "metadata": {},
   "source": [
    "## **Reading and spletting the dataset**"
   ]
  },
  {
   "cell_type": "code",
   "execution_count": 63,
   "id": "25216a34-a43c-4a3e-9877-6aca67088b72",
   "metadata": {
    "tags": []
   },
   "outputs": [],
   "source": [
    "#readind the dataset\n",
    "model_df = pd.read_csv('model_df.csv')\n",
    "\n",
    "#spletting the dataset using train_test_split\n",
    "def split_dataset(df, test_size=0.2, random_state=42):\n",
    "    X = df.drop('label', axis=1)\n",
    "    y = df['label']\n",
    "    X_train, X_test, y_train, y_test = train_test_split(X, y, test_size=0.2, random_state=42, stratify=y)\n",
    "    train_df = X_train\n",
    "    train_df['label'] = y_train\n",
    "    test_df = X_test\n",
    "    test_df['label'] = y_test\n",
    "    return train_df, test_df\n",
    "\n",
    "train_df, test_df = split_dataset(model_df)"
   ]
  },
  {
   "cell_type": "code",
   "execution_count": 4,
   "id": "215ce5eb-b83a-4a63-a13c-26ee72188219",
   "metadata": {},
   "outputs": [
    {
     "data": {
      "text/html": [
       "<div>\n",
       "<style scoped>\n",
       "    .dataframe tbody tr th:only-of-type {\n",
       "        vertical-align: middle;\n",
       "    }\n",
       "\n",
       "    .dataframe tbody tr th {\n",
       "        vertical-align: top;\n",
       "    }\n",
       "\n",
       "    .dataframe thead th {\n",
       "        text-align: right;\n",
       "    }\n",
       "</style>\n",
       "<table border=\"1\" class=\"dataframe\">\n",
       "  <thead>\n",
       "    <tr style=\"text-align: right;\">\n",
       "      <th></th>\n",
       "      <th>Unnamed: 0.2</th>\n",
       "      <th>Unnamed: 0.1</th>\n",
       "      <th>Unnamed: 0</th>\n",
       "      <th>id</th>\n",
       "      <th>title</th>\n",
       "      <th>path</th>\n",
       "      <th>new_path</th>\n",
       "      <th>label</th>\n",
       "    </tr>\n",
       "  </thead>\n",
       "  <tbody>\n",
       "    <tr>\n",
       "      <th>1012</th>\n",
       "      <td>1012</td>\n",
       "      <td>1012</td>\n",
       "      <td>1013.0</td>\n",
       "      <td>6967707383166536962</td>\n",
       "      <td>Trả lời @uyenthanh204 uiya tui che mắt rồi ko ...</td>\n",
       "      <td>/content/drive/My Drive/videos/</td>\n",
       "      <td>videos/videos/</td>\n",
       "      <td>1</td>\n",
       "    </tr>\n",
       "    <tr>\n",
       "      <th>1653</th>\n",
       "      <td>1653</td>\n",
       "      <td>1653</td>\n",
       "      <td>1685.0</td>\n",
       "      <td>8EZ941fazGQ</td>\n",
       "      <td>Jealous Kisses - Sweet Kiss #lgbt #lgbtq #blsh...</td>\n",
       "      <td>/content/drive/My Drive/youtubeShort/</td>\n",
       "      <td>youtubeShort/youtubeShort/</td>\n",
       "      <td>1</td>\n",
       "    </tr>\n",
       "    <tr>\n",
       "      <th>1785</th>\n",
       "      <td>1785</td>\n",
       "      <td>1785</td>\n",
       "      <td>1835.0</td>\n",
       "      <td>5FM0ARekfOU</td>\n",
       "      <td>PRANKING MY BI FRIEND 🏳️‍🌈 #shorts #pride</td>\n",
       "      <td>/content/drive/My Drive/youtubeShort/</td>\n",
       "      <td>youtubeShort/youtubeShort/</td>\n",
       "      <td>1</td>\n",
       "    </tr>\n",
       "  </tbody>\n",
       "</table>\n",
       "</div>"
      ],
      "text/plain": [
       "      Unnamed: 0.2  Unnamed: 0.1  Unnamed: 0                   id  \\\n",
       "1012          1012          1012      1013.0  6967707383166536962   \n",
       "1653          1653          1653      1685.0          8EZ941fazGQ   \n",
       "1785          1785          1785      1835.0          5FM0ARekfOU   \n",
       "\n",
       "                                                  title  \\\n",
       "1012  Trả lời @uyenthanh204 uiya tui che mắt rồi ko ...   \n",
       "1653  Jealous Kisses - Sweet Kiss #lgbt #lgbtq #blsh...   \n",
       "1785          PRANKING MY BI FRIEND 🏳️‍🌈 #shorts #pride   \n",
       "\n",
       "                                       path                    new_path  label  \n",
       "1012        /content/drive/My Drive/videos/              videos/videos/      1  \n",
       "1653  /content/drive/My Drive/youtubeShort/  youtubeShort/youtubeShort/      1  \n",
       "1785  /content/drive/My Drive/youtubeShort/  youtubeShort/youtubeShort/      1  "
      ]
     },
     "execution_count": 4,
     "metadata": {},
     "output_type": "execute_result"
    }
   ],
   "source": [
    "#the dataset containes the id, title, path, and label of the video\n",
    "train_df.head(3)"
   ]
  },
  {
   "cell_type": "code",
   "execution_count": 5,
   "id": "08168047-bbf2-467c-a15f-eb99932c2945",
   "metadata": {},
   "outputs": [
    {
     "name": "stdout",
     "output_type": "stream",
     "text": [
      "Number of the training videos: 1804\n",
      "Number of the testing videos: 451\n"
     ]
    }
   ],
   "source": [
    "print(\"Number of the training videos:\", len(train_df))\n",
    "print(\"Number of the testing videos:\", len(test_df))"
   ]
  },
  {
   "cell_type": "code",
   "execution_count": 66,
   "id": "a9317a2a-4f01-412f-9fb0-d508c3d2bdc8",
   "metadata": {},
   "outputs": [
    {
     "data": {
      "text/plain": [
       "1804"
      ]
     },
     "execution_count": 66,
     "metadata": {},
     "output_type": "execute_result"
    }
   ],
   "source": [
    "len(train_df)"
   ]
  },
  {
   "cell_type": "code",
   "execution_count": 65,
   "id": "b1d91dcc-fa24-49ca-a785-8053f5c65754",
   "metadata": {},
   "outputs": [
    {
     "data": {
      "text/plain": [
       "942"
      ]
     },
     "execution_count": 65,
     "metadata": {},
     "output_type": "execute_result"
    }
   ],
   "source": [
    "(train_df.label == 1).sum()"
   ]
  },
  {
   "cell_type": "markdown",
   "id": "3763ac1b-752e-441a-985e-3eccddc66363",
   "metadata": {
    "tags": []
   },
   "source": [
    "## **using CNN-RNN to extract images features**"
   ]
  },
  {
   "cell_type": "markdown",
   "id": "ec6e9e82-1ca3-4ecd-b655-c572e3506ad0",
   "metadata": {},
   "source": [
    "### **CNN features extraction**"
   ]
  },
  {
   "cell_type": "markdown",
   "id": "c9dcded5-0c75-4c96-b7e9-8be103dee707",
   "metadata": {},
   "source": [
    "**definind the CNN model (Resnet50)**"
   ]
  },
  {
   "cell_type": "code",
   "execution_count": 55,
   "id": "e8e34b5b-1e85-4bd8-831b-bcd24b9d2741",
   "metadata": {
    "tags": []
   },
   "outputs": [],
   "source": [
    "import tensorflow as tf\n",
    "from tensorflow import keras\n",
    "\n",
    "# Defining the 'Resnet50' feature extraction model\n",
    "# Takes the video frame and returns a 2048 representation of the frame\n",
    "def CNN_MODEL():\n",
    "    \n",
    "    # Importing the necessary functions and models\n",
    "    from tensorflow.keras.applications import ResNet50\n",
    "    from tensorflow.keras.applications.resnet50 import preprocess_input\n",
    "\n",
    "    # Define the feature extractor using ResNet50\n",
    "    base_model = ResNet50(\n",
    "        weights=\"imagenet\",\n",
    "        include_top=False,\n",
    "        pooling=\"max\",\n",
    "        input_shape=(224, 126, 3),\n",
    "    )\n",
    "    \n",
    "    # Define the input and the necessary preprocessing\n",
    "    inputs = keras.Input((224, 126, 3))\n",
    "    preprocessed = preprocess_input(inputs)\n",
    "    \n",
    "    # Use the base model for feature extraction\n",
    "    outputs = base_model(preprocessed)\n",
    "    \n",
    "    # Finalize defining the model\n",
    "    model = keras.Model(inputs, outputs, name=\"feature_extractor\")\n",
    "    return model\n",
    "    \n",
    "# Run the model and extract frame features\n",
    "feature_extractor = CNN_MODEL()"
   ]
  },
  {
   "cell_type": "markdown",
   "id": "d7dc45b2-e8e7-4dcf-bd29-f969b90298ff",
   "metadata": {},
   "source": [
    "**processing videos and extracting features functions**,\n",
    "these 2 functions were taken from this tutorial and modified:\n",
    "https://www.tensorflow.org/hub/tutorials/action_recognition_with_tf_hub"
   ]
  },
  {
   "cell_type": "code",
   "execution_count": 104,
   "id": "991cd297-176a-417d-97e0-2c58d95a8b95",
   "metadata": {
    "tags": []
   },
   "outputs": [],
   "source": [
    "#load video funcation takees the video and return a numpy array of resized frames from it.\n",
    "def get_frames(idx, path, max_frames=0, resize=(126, 244)):\n",
    "    cap = cv2.VideoCapture(path)\n",
    "    frames = []\n",
    "    try:\n",
    "        while True:\n",
    "            #ret is true if the video's frames are read successfully\n",
    "            ret, frame = cap.read()\n",
    "            if not ret:\n",
    "                break\n",
    "            #resize and append the frames to the frame array\n",
    "            frame = cv2.resize(frame, resize)\n",
    "            frame = frame[:, :, [2, 1, 0]]\n",
    "            frames.append(frame)\n",
    "\n",
    "            if len(frames) == max_frames:\n",
    "                break\n",
    "                \n",
    "    finally:\n",
    "        cap.release()\n",
    "    return np.array(frames)"
   ]
  },
  {
   "cell_type": "code",
   "execution_count": 105,
   "id": "8b2a449b-846a-444c-81c6-c903fe7eb21d",
   "metadata": {},
   "outputs": [],
   "source": [
    "#loop over all videos, load frames then extract cnn features\n",
    "#you don't have to run this function, there's pre-extracted save features you can load in the cell bellow\n",
    "def get_cnn_features(df):\n",
    "    num_samples = len(df)\n",
    "    video_ids = df['id']\n",
    "    labels = df['label']\n",
    "    video_filenames = [f'{id}.mp4' for id in video_ids]\n",
    "    video_directory = df['new_path']\n",
    "    video_paths = [os.path.join(vd, vf) for vd, vf in zip(video_directory, video_filenames)]\n",
    "    MAX_SEQ_LENGTH = 20\n",
    "    NUM_FEATURES = 2048\n",
    "    \n",
    "    # `frame_masks` and `frame_features` are what we will feed to our sequence model.\n",
    "    # `frame_masks` will contain a bunch of booleans denoting if a timestep is\n",
    "    # masked with padding or not.\n",
    "    frame_masks = np.zeros(shape=(num_samples, MAX_SEQ_LENGTH), dtype=\"bool\")\n",
    "    frame_features = np.zeros(\n",
    "        shape=(num_samples, MAX_SEQ_LENGTH, NUM_FEATURES), dtype=\"float32\")\n",
    "\n",
    "    # For each video.\n",
    "    for idx, path in tqdm(enumerate(video_paths), total=len(video_paths), desc=\"Processing videos\"):\n",
    "        if(os.path.isfile(path)):\n",
    "            \n",
    "            # Gather all its frames and add a batch dimension.\n",
    "            frames = get_frames(idx, path)\n",
    "            frames = frames[None, ...]\n",
    "\n",
    "            # Initialize placeholders to store the masks and features of the current video.\n",
    "            temp_frame_mask = np.zeros(shape=(1, MAX_SEQ_LENGTH,), dtype=\"bool\")\n",
    "            temp_frame_features = np.zeros(\n",
    "                shape=(1, MAX_SEQ_LENGTH, NUM_FEATURES), dtype=\"float32\"\n",
    "            )\n",
    "\n",
    "            # Extract features from the frames of the current video.\n",
    "            for i, batch in enumerate(frames):\n",
    "                video_length = batch.shape[0]\n",
    "                length = min(MAX_SEQ_LENGTH, video_length)\n",
    "                for j in range(length):\n",
    "                    resized_frame = tf.image.resize(batch[None, j, :], [224, 126])\n",
    "                    temp_frame_features[i, j, :] = feature_extractor.predict(\n",
    "                        resized_frame, verbose=0\n",
    "                    )\n",
    "                temp_frame_mask[i, :length] = 1  # 1 = not masked, 0 = masked\n",
    "\n",
    "            frame_features[idx,] = temp_frame_features.squeeze()\n",
    "            frame_masks[idx,] = temp_frame_mask.squeeze()\n",
    "        else:\n",
    "            print(idx, 'this file do not exist')\n",
    "    return (frame_features, frame_masks), labels"
   ]
  },
  {
   "cell_type": "markdown",
   "id": "970a77df-bfc3-413f-8044-858a6b9fba16",
   "metadata": {},
   "source": [
    "**run the function and extract features**"
   ]
  },
  {
   "cell_type": "code",
   "execution_count": 106,
   "id": "4959b8a8-7518-45b6-b21a-9c6ea33ce6b2",
   "metadata": {
    "collapsed": true,
    "jupyter": {
     "outputs_hidden": true
    }
   },
   "outputs": [
    {
     "name": "stderr",
     "output_type": "stream",
     "text": [
      "Processing videos:   3%|▎         | 49/1804 [03:26<2:03:01,  4.21s/it][NULL @ 0x55b61528de40] Invalid NAL unit size (6855 > 1304).\n",
      "[NULL @ 0x55b61528de40] missing picture in access unit with size 1308\n",
      "[h264 @ 0x55b615596400] Invalid NAL unit size (6855 > 1304).\n",
      "[h264 @ 0x55b615596400] Error splitting the input into NAL units.\n",
      "[mov,mp4,m4a,3gp,3g2,mj2 @ 0x55b6153ffec0] stream 1, offset 0x56cb30: partial file\n",
      "[mov,mp4,m4a,3gp,3g2,mj2 @ 0x55b6153ffec0] stream 0, offset 0x56cbe3: partial file\n",
      "Processing videos:  16%|█▌        | 282/1804 [20:25<1:42:28,  4.04s/it][mov,mp4,m4a,3gp,3g2,mj2 @ 0x55b6500d9f40] moov atom not found\n",
      "[ERROR:0@2959.239] global cap.cpp:164 open VIDEOIO(CV_IMAGES): raised OpenCV exception:\n",
      "\n",
      "OpenCV(4.8.0) /io/opencv/modules/videoio/src/cap_images.cpp:267: error: (-215:Assertion failed) number < max_number in function 'icvExtractPattern'\n",
      "\n",
      "\n",
      "Processing videos:  28%|██▊       | 500/1804 [36:15<1:29:28,  4.12s/it][NULL @ 0x55b695114e00] Invalid NAL unit size (8094 > 5488).\n",
      "[NULL @ 0x55b695114e00] missing picture in access unit with size 5492\n",
      "[h264 @ 0x55b695117000] Invalid NAL unit size (8094 > 5488).\n",
      "[h264 @ 0x55b695117000] Error splitting the input into NAL units.\n",
      "[mov,mp4,m4a,3gp,3g2,mj2 @ 0x55b6951486c0] stream 1, offset 0x100a2e: partial file\n",
      "[mov,mp4,m4a,3gp,3g2,mj2 @ 0x55b6951486c0] stream 0, offset 0x100ae3: partial file\n",
      "Processing videos:  47%|████▋     | 848/1804 [1:02:18<1:13:38,  4.62s/it][mov,mp4,m4a,3gp,3g2,mj2 @ 0x55b6f45296c0] moov atom not found\n",
      "[ERROR:0@5471.644] global cap.cpp:164 open VIDEOIO(CV_IMAGES): raised OpenCV exception:\n",
      "\n",
      "OpenCV(4.8.0) /io/opencv/modules/videoio/src/cap_images.cpp:267: error: (-215:Assertion failed) number < max_number in function 'icvExtractPattern'\n",
      "\n",
      "\n",
      "Processing videos:  70%|███████   | 1263/1804 [1:33:09<37:48,  4.19s/it]  [mov,mp4,m4a,3gp,3g2,mj2 @ 0x55b76753b340] moov atom not found\n",
      "[ERROR:0@7323.535] global cap.cpp:164 open VIDEOIO(CV_IMAGES): raised OpenCV exception:\n",
      "\n",
      "OpenCV(4.8.0) /io/opencv/modules/videoio/src/cap_images.cpp:267: error: (-215:Assertion failed) number < max_number in function 'icvExtractPattern'\n",
      "\n",
      "\n",
      "Processing videos:  83%|████████▎ | 1494/1804 [1:50:29<23:11,  4.49s/it][mov,mp4,m4a,3gp,3g2,mj2 @ 0x55b7b9688ac0] moov atom not found\n",
      "[ERROR:0@8363.111] global cap.cpp:164 open VIDEOIO(CV_IMAGES): raised OpenCV exception:\n",
      "\n",
      "OpenCV(4.8.0) /io/opencv/modules/videoio/src/cap_images.cpp:267: error: (-215:Assertion failed) number < max_number in function 'icvExtractPattern'\n",
      "\n",
      "\n",
      "Processing videos:  99%|█████████▉| 1787/1804 [2:11:52<01:26,  5.11s/it][mov,mp4,m4a,3gp,3g2,mj2 @ 0x55b800350dc0] moov atom not found\n",
      "[ERROR:0@9646.108] global cap.cpp:164 open VIDEOIO(CV_IMAGES): raised OpenCV exception:\n",
      "\n",
      "OpenCV(4.8.0) /io/opencv/modules/videoio/src/cap_images.cpp:267: error: (-215:Assertion failed) number < max_number in function 'icvExtractPattern'\n",
      "\n",
      "\n",
      "Processing videos: 100%|██████████| 1804/1804 [2:12:59<00:00,  4.42s/it]\n"
     ]
    },
    {
     "name": "stdout",
     "output_type": "stream",
     "text": [
      "Frame features in train set: (1804, 20, 2048)\n",
      "Frame masks in train set: (1804, 20)\n"
     ]
    }
   ],
   "source": [
    "#extracting train features\n",
    "train_data, train_labels = get_cnn_features(train_df)\n",
    "\n",
    "#saving the training featres\n",
    "np.save('train_data_resnet50.npy', train_data[0])\n",
    "np.save('train_labels_resnet50.npy', train_labels)\n",
    "np.save('train_masks_resnet50.npy', train_data[1])\n",
    "\n",
    "print(f\"Frame features in train set: {train_data[0].shape}\")\n",
    "print(f\"Frame masks in train set: {train_data[1].shape}\")"
   ]
  },
  {
   "cell_type": "code",
   "execution_count": 107,
   "id": "5fc91a39-32b9-4efb-86d9-4b614b97b1e5",
   "metadata": {
    "collapsed": true,
    "jupyter": {
     "outputs_hidden": true
    }
   },
   "outputs": [
    {
     "name": "stderr",
     "output_type": "stream",
     "text": [
      "Processing videos:  13%|█▎        | 60/451 [04:15<29:17,  4.49s/it][NULL @ 0x55b80c5bd300] Invalid NAL unit size (1058 > 869).\n",
      "[NULL @ 0x55b80c5bd300] missing picture in access unit with size 873\n",
      "[h264 @ 0x55b81ab77600] Invalid NAL unit size (1058 > 869).\n",
      "[h264 @ 0x55b81ab77600] Error splitting the input into NAL units.\n",
      "[mov,mp4,m4a,3gp,3g2,mj2 @ 0x55b80d8b9700] stream 0, offset 0x41e0bd: partial file\n",
      "[mov,mp4,m4a,3gp,3g2,mj2 @ 0x55b80d8b9700] stream 1, offset 0x41e408: partial file\n",
      "Processing videos: 100%|██████████| 451/451 [33:57<00:00,  4.52s/it]\n"
     ]
    },
    {
     "name": "stdout",
     "output_type": "stream",
     "text": [
      "Frame features in train set: (1804, 20, 2048)\n",
      "Frame masks in train set: (1804, 20)\n"
     ]
    }
   ],
   "source": [
    "#extracting test features\n",
    "test_data, test_labels = get_cnn_features(test_df)\n",
    "\n",
    "#saving test features\n",
    "np.save('test_data_resnet50.npy', test_data[0])\n",
    "np.save('test_labels_resnet50.npy', test_labels)\n",
    "np.save('test_masks_resnet50.npy', test_data[1])\n",
    "\n",
    "print(f\"Frame features in train set: {train_data[0].shape}\")\n",
    "print(f\"Frame masks in train set: {train_data[1].shape}\")"
   ]
  },
  {
   "cell_type": "code",
   "execution_count": 11,
   "id": "a213745a-45ce-4caa-abe2-5e30ab42a2de",
   "metadata": {
    "tags": []
   },
   "outputs": [],
   "source": [
    "#loading test and training features\n",
    "#this is used if you don't want to run the function\n",
    "\n",
    "train_features = np.load('train_data_resnet50.npy')\n",
    "train_labels = np.load('train_labels_resnet50.npy')\n",
    "train_masks = np.load('train_masks_resnet50.npy')\n",
    "train_data = (train_features, train_masks)\n",
    "\n",
    "test_features = np.load('test_data_resnet50.npy')\n",
    "test_labels = np.load('test_labels_resnet50.npy')\n",
    "test_masks = np.load('test_masks_resnet50.npy')\n",
    "test_data = (test_features, test_masks)"
   ]
  },
  {
   "cell_type": "code",
   "execution_count": 16,
   "id": "fcd65461-b96b-43e6-920d-b22109a133e2",
   "metadata": {},
   "outputs": [
    {
     "data": {
      "text/plain": [
       "(451,)"
      ]
     },
     "execution_count": 16,
     "metadata": {},
     "output_type": "execute_result"
    }
   ],
   "source": [
    "test_labels.shape"
   ]
  },
  {
   "cell_type": "markdown",
   "id": "b127a131-fb20-4245-8e2b-0feb230e7738",
   "metadata": {},
   "source": [
    "### **RNN features extraction**"
   ]
  },
  {
   "cell_type": "code",
   "execution_count": 17,
   "id": "c8ed58e3-17ff-4420-a39a-0f09bb4ac641",
   "metadata": {},
   "outputs": [],
   "source": [
    "from tensorflow import keras\n",
    "\n",
    "def RNN_MODEL():\n",
    "    MAX_SEQ_LENGTH = 20\n",
    "    NUM_FEATURES = 2048\n",
    "\n",
    "    frame_features_input = keras.Input((MAX_SEQ_LENGTH, NUM_FEATURES))\n",
    "    mask_input = keras.Input((MAX_SEQ_LENGTH,), dtype=\"bool\")\n",
    "    \n",
    "    # Use LSTM layers\n",
    "    x = keras.layers.LSTM(512, return_sequences=True)(frame_features_input,  mask=mask_input)\n",
    "    x = keras.layers.Dropout(0.2)(x)\n",
    "    x = keras.layers.LSTM(256, return_sequences=True)(x)\n",
    "    x = keras.layers.LSTM(128)(x)\n",
    "\n",
    "    x = keras.layers.Dropout(0.2)(x)\n",
    "    x = keras.layers.Dense(256, activation=\"relu\")(x)\n",
    "    x = keras.layers.Dense(256, activation=\"relu\")(x)\n",
    "\n",
    "    # Binary classification output\n",
    "    output = keras.layers.Dense(1, activation=\"sigmoid\")(x)\n",
    "    \n",
    "    rnn_model = keras.Model([frame_features_input,mask_input] , output)\n",
    "\n",
    "    rnn_model.compile(\n",
    "        loss=\"binary_crossentropy\", optimizer=\"sgd\", metrics=[\"accuracy\"]\n",
    "    )\n",
    "    return rnn_model"
   ]
  },
  {
   "cell_type": "code",
   "execution_count": 18,
   "id": "81f68a1d-e238-4d08-920b-936aa01de441",
   "metadata": {},
   "outputs": [],
   "source": [
    "from tensorflow import keras\n",
    "\n",
    "def train_rnn_model():\n",
    "    # Set a filepath to save the best weights\n",
    "    filepath = \"/tmp/best_weights_resnet.h5\"\n",
    "    checkpoint = keras.callbacks.ModelCheckpoint(filepath, save_weights_only=True,\n",
    "                                                 monitor='val_accuracy', mode='max',\n",
    "                                                 save_best_only=True, verbose=1)\n",
    "    \n",
    "    epochs = 30\n",
    "    batch_size = 64\n",
    "    \n",
    "    model = RNN_MODEL()\n",
    "    \n",
    "    # Train the model with the checkpoint callback\n",
    "    history = model.fit(\n",
    "        train_data,  # Input data\n",
    "        train_labels,                                 # Labels\n",
    "        epochs=epochs,\n",
    "        batch_size=batch_size,\n",
    "        validation_split=0.2,                         # Validation data\n",
    "        callbacks=[checkpoint]                        # Add checkpoint to callbacks\n",
    "    )\n",
    "    \n",
    "    # Load the best weights into the model\n",
    "    model.load_weights(filepath)\n",
    "    \n",
    "    _, accuracy = model.evaluate(test_data, test_labels)\n",
    "    print(f\"Test accuracy: {round(accuracy * 100, 2)}%\")\n",
    "    \n",
    "    # If you want to return the actual weight values, you can use:\n",
    "    # best_weights = model.get_weights()\n",
    "\n",
    "    return history, model  #, best_weights  # uncomment this if returning actual weights\n"
   ]
  },
  {
   "cell_type": "code",
   "execution_count": 19,
   "id": "3012c337-586c-4ab7-aaf5-68b45c8295a4",
   "metadata": {},
   "outputs": [
    {
     "name": "stdout",
     "output_type": "stream",
     "text": [
      "Epoch 1/30\n",
      "23/23 [==============================] - ETA: 0s - loss: 0.6916 - accuracy: 0.5128\n",
      "Epoch 1: val_accuracy improved from -inf to 0.48199, saving model to /tmp/best_weights_resnet.h5\n",
      "23/23 [==============================] - 68s 2s/step - loss: 0.6916 - accuracy: 0.5128 - val_loss: 0.6959 - val_accuracy: 0.4820\n",
      "Epoch 2/30\n",
      "23/23 [==============================] - ETA: 0s - loss: 0.6816 - accuracy: 0.5593\n",
      "Epoch 2: val_accuracy did not improve from 0.48199\n",
      "23/23 [==============================] - 27s 1s/step - loss: 0.6816 - accuracy: 0.5593 - val_loss: 0.6917 - val_accuracy: 0.4737\n",
      "Epoch 3/30\n",
      "23/23 [==============================] - ETA: 0s - loss: 0.6769 - accuracy: 0.5620\n",
      "Epoch 3: val_accuracy improved from 0.48199 to 0.49030, saving model to /tmp/best_weights_resnet.h5\n",
      "23/23 [==============================] - 27s 1s/step - loss: 0.6769 - accuracy: 0.5620 - val_loss: 0.6874 - val_accuracy: 0.4903\n",
      "Epoch 4/30\n",
      "23/23 [==============================] - ETA: 0s - loss: 0.6672 - accuracy: 0.5946\n",
      "Epoch 4: val_accuracy improved from 0.49030 to 0.50970, saving model to /tmp/best_weights_resnet.h5\n",
      "23/23 [==============================] - 12s 533ms/step - loss: 0.6672 - accuracy: 0.5946 - val_loss: 0.6822 - val_accuracy: 0.5097\n",
      "Epoch 5/30\n",
      "23/23 [==============================] - ETA: 0s - loss: 0.6563 - accuracy: 0.6209\n",
      "Epoch 5: val_accuracy improved from 0.50970 to 0.51247, saving model to /tmp/best_weights_resnet.h5\n",
      "23/23 [==============================] - 12s 504ms/step - loss: 0.6563 - accuracy: 0.6209 - val_loss: 0.6759 - val_accuracy: 0.5125\n",
      "Epoch 6/30\n",
      "23/23 [==============================] - ETA: 0s - loss: 0.6437 - accuracy: 0.6549\n",
      "Epoch 6: val_accuracy improved from 0.51247 to 0.56233, saving model to /tmp/best_weights_resnet.h5\n",
      "23/23 [==============================] - 12s 508ms/step - loss: 0.6437 - accuracy: 0.6549 - val_loss: 0.6652 - val_accuracy: 0.5623\n",
      "Epoch 7/30\n",
      "23/23 [==============================] - ETA: 0s - loss: 0.6247 - accuracy: 0.7082\n",
      "Epoch 7: val_accuracy improved from 0.56233 to 0.59280, saving model to /tmp/best_weights_resnet.h5\n",
      "23/23 [==============================] - 12s 504ms/step - loss: 0.6247 - accuracy: 0.7082 - val_loss: 0.6546 - val_accuracy: 0.5928\n",
      "Epoch 8/30\n",
      "23/23 [==============================] - ETA: 0s - loss: 0.6019 - accuracy: 0.7547\n",
      "Epoch 8: val_accuracy improved from 0.59280 to 0.65374, saving model to /tmp/best_weights_resnet.h5\n",
      "23/23 [==============================] - 11s 482ms/step - loss: 0.6019 - accuracy: 0.7547 - val_loss: 0.6329 - val_accuracy: 0.6537\n",
      "Epoch 9/30\n",
      "23/23 [==============================] - ETA: 0s - loss: 0.5673 - accuracy: 0.7900\n",
      "Epoch 9: val_accuracy improved from 0.65374 to 0.71745, saving model to /tmp/best_weights_resnet.h5\n",
      "23/23 [==============================] - 12s 512ms/step - loss: 0.5673 - accuracy: 0.7900 - val_loss: 0.6032 - val_accuracy: 0.7175\n",
      "Epoch 10/30\n",
      "23/23 [==============================] - ETA: 0s - loss: 0.5260 - accuracy: 0.8344\n",
      "Epoch 10: val_accuracy improved from 0.71745 to 0.72299, saving model to /tmp/best_weights_resnet.h5\n",
      "23/23 [==============================] - 12s 497ms/step - loss: 0.5260 - accuracy: 0.8344 - val_loss: 0.5705 - val_accuracy: 0.7230\n",
      "Epoch 11/30\n",
      "23/23 [==============================] - ETA: 0s - loss: 0.4820 - accuracy: 0.8510\n",
      "Epoch 11: val_accuracy improved from 0.72299 to 0.73684, saving model to /tmp/best_weights_resnet.h5\n",
      "23/23 [==============================] - 12s 501ms/step - loss: 0.4820 - accuracy: 0.8510 - val_loss: 0.5497 - val_accuracy: 0.7368\n",
      "Epoch 12/30\n",
      "23/23 [==============================] - ETA: 0s - loss: 0.4223 - accuracy: 0.8746\n",
      "Epoch 12: val_accuracy did not improve from 0.73684\n",
      "23/23 [==============================] - 12s 497ms/step - loss: 0.4223 - accuracy: 0.8746 - val_loss: 0.5534 - val_accuracy: 0.7258\n",
      "Epoch 13/30\n",
      "23/23 [==============================] - ETA: 0s - loss: 0.3747 - accuracy: 0.8884\n",
      "Epoch 13: val_accuracy did not improve from 0.73684\n",
      "23/23 [==============================] - 11s 488ms/step - loss: 0.3747 - accuracy: 0.8884 - val_loss: 0.5469 - val_accuracy: 0.7230\n",
      "Epoch 14/30\n",
      "23/23 [==============================] - ETA: 0s - loss: 0.3097 - accuracy: 0.9196\n",
      "Epoch 14: val_accuracy improved from 0.73684 to 0.77562, saving model to /tmp/best_weights_resnet.h5\n",
      "23/23 [==============================] - 12s 501ms/step - loss: 0.3097 - accuracy: 0.9196 - val_loss: 0.4865 - val_accuracy: 0.7756\n",
      "Epoch 15/30\n",
      "23/23 [==============================] - ETA: 0s - loss: 0.3057 - accuracy: 0.9037\n",
      "Epoch 15: val_accuracy did not improve from 0.77562\n",
      "23/23 [==============================] - 12s 498ms/step - loss: 0.3057 - accuracy: 0.9037 - val_loss: 0.5293 - val_accuracy: 0.7507\n",
      "Epoch 16/30\n",
      "23/23 [==============================] - ETA: 0s - loss: 0.2517 - accuracy: 0.9245\n",
      "Epoch 16: val_accuracy did not improve from 0.77562\n",
      "23/23 [==============================] - 11s 492ms/step - loss: 0.2517 - accuracy: 0.9245 - val_loss: 0.5963 - val_accuracy: 0.7202\n",
      "Epoch 17/30\n",
      "23/23 [==============================] - ETA: 0s - loss: 0.3136 - accuracy: 0.8760\n",
      "Epoch 17: val_accuracy improved from 0.77562 to 0.79778, saving model to /tmp/best_weights_resnet.h5\n",
      "23/23 [==============================] - 13s 546ms/step - loss: 0.3136 - accuracy: 0.8760 - val_loss: 0.4508 - val_accuracy: 0.7978\n",
      "Epoch 18/30\n",
      "23/23 [==============================] - ETA: 0s - loss: 0.2034 - accuracy: 0.9453\n",
      "Epoch 18: val_accuracy did not improve from 0.79778\n",
      "23/23 [==============================] - 12s 527ms/step - loss: 0.2034 - accuracy: 0.9453 - val_loss: 1.0092 - val_accuracy: 0.5789\n",
      "Epoch 19/30\n",
      "23/23 [==============================] - ETA: 0s - loss: 0.3691 - accuracy: 0.8406\n",
      "Epoch 19: val_accuracy improved from 0.79778 to 0.81163, saving model to /tmp/best_weights_resnet.h5\n",
      "23/23 [==============================] - 11s 497ms/step - loss: 0.3691 - accuracy: 0.8406 - val_loss: 0.4528 - val_accuracy: 0.8116\n",
      "Epoch 20/30\n",
      "23/23 [==============================] - ETA: 0s - loss: 0.1786 - accuracy: 0.9529\n",
      "Epoch 20: val_accuracy did not improve from 0.81163\n",
      "23/23 [==============================] - 11s 498ms/step - loss: 0.1786 - accuracy: 0.9529 - val_loss: 0.4704 - val_accuracy: 0.8033\n",
      "Epoch 21/30\n",
      "23/23 [==============================] - ETA: 0s - loss: 0.2012 - accuracy: 0.9307\n",
      "Epoch 21: val_accuracy did not improve from 0.81163\n",
      "23/23 [==============================] - 12s 517ms/step - loss: 0.2012 - accuracy: 0.9307 - val_loss: 0.5182 - val_accuracy: 0.7867\n",
      "Epoch 22/30\n",
      "23/23 [==============================] - ETA: 0s - loss: 0.0890 - accuracy: 0.9854\n",
      "Epoch 22: val_accuracy did not improve from 0.81163\n",
      "23/23 [==============================] - 11s 493ms/step - loss: 0.0890 - accuracy: 0.9854 - val_loss: 0.5089 - val_accuracy: 0.8006\n",
      "Epoch 23/30\n",
      "23/23 [==============================] - ETA: 0s - loss: 0.0525 - accuracy: 0.9945\n",
      "Epoch 23: val_accuracy improved from 0.81163 to 0.81440, saving model to /tmp/best_weights_resnet.h5\n",
      "23/23 [==============================] - 13s 576ms/step - loss: 0.0525 - accuracy: 0.9945 - val_loss: 0.5214 - val_accuracy: 0.8144\n",
      "Epoch 24/30\n",
      "23/23 [==============================] - ETA: 0s - loss: 0.0347 - accuracy: 0.9993\n",
      "Epoch 24: val_accuracy did not improve from 0.81440\n",
      "23/23 [==============================] - 12s 509ms/step - loss: 0.0347 - accuracy: 0.9993 - val_loss: 0.5571 - val_accuracy: 0.8033\n",
      "Epoch 25/30\n",
      "23/23 [==============================] - ETA: 0s - loss: 0.0259 - accuracy: 0.9993\n",
      "Epoch 25: val_accuracy did not improve from 0.81440\n",
      "23/23 [==============================] - 11s 479ms/step - loss: 0.0259 - accuracy: 0.9993 - val_loss: 0.5714 - val_accuracy: 0.8144\n",
      "Epoch 26/30\n",
      "23/23 [==============================] - ETA: 0s - loss: 0.0217 - accuracy: 0.9993\n",
      "Epoch 26: val_accuracy improved from 0.81440 to 0.81717, saving model to /tmp/best_weights_resnet.h5\n",
      "23/23 [==============================] - 12s 509ms/step - loss: 0.0217 - accuracy: 0.9993 - val_loss: 0.5941 - val_accuracy: 0.8172\n",
      "Epoch 27/30\n",
      "23/23 [==============================] - ETA: 0s - loss: 0.0185 - accuracy: 0.9993\n",
      "Epoch 27: val_accuracy did not improve from 0.81717\n",
      "23/23 [==============================] - 12s 543ms/step - loss: 0.0185 - accuracy: 0.9993 - val_loss: 0.6189 - val_accuracy: 0.8144\n",
      "Epoch 28/30\n",
      "23/23 [==============================] - ETA: 0s - loss: 0.0161 - accuracy: 0.9993\n",
      "Epoch 28: val_accuracy did not improve from 0.81717\n",
      "23/23 [==============================] - 11s 496ms/step - loss: 0.0161 - accuracy: 0.9993 - val_loss: 0.6315 - val_accuracy: 0.8144\n",
      "Epoch 29/30\n",
      "23/23 [==============================] - ETA: 0s - loss: 0.0146 - accuracy: 0.9993\n",
      "Epoch 29: val_accuracy did not improve from 0.81717\n",
      "23/23 [==============================] - 12s 539ms/step - loss: 0.0146 - accuracy: 0.9993 - val_loss: 0.6451 - val_accuracy: 0.8144\n",
      "Epoch 30/30\n",
      "23/23 [==============================] - ETA: 0s - loss: 0.0133 - accuracy: 0.9993\n",
      "Epoch 30: val_accuracy did not improve from 0.81717\n",
      "23/23 [==============================] - 12s 541ms/step - loss: 0.0133 - accuracy: 0.9993 - val_loss: 0.6628 - val_accuracy: 0.8172\n",
      "15/15 [==============================] - 2s 97ms/step - loss: 0.6480 - accuracy: 0.7716\n",
      "Test accuracy: 77.16%\n"
     ]
    }
   ],
   "source": [
    "history, rnn_model = train_rnn_model()"
   ]
  },
  {
   "cell_type": "code",
   "execution_count": 20,
   "id": "23ee9ed0-4e25-499a-983b-0049cdeb143b",
   "metadata": {},
   "outputs": [],
   "source": [
    "import pickle\n",
    "\n",
    "with open('training_history_resnet.pkl', 'wb') as file:\n",
    "    pickle.dump(history.history, file)"
   ]
  },
  {
   "cell_type": "code",
   "execution_count": 61,
   "id": "9b40e91d-ce8d-454b-bb29-8f04afed819d",
   "metadata": {},
   "outputs": [
    {
     "data": {
      "image/png": "[encoded data removed]",
      "text/plain": [
       "<Figure size 1200x400 with 2 Axes>"
      ]
     },
     "metadata": {},
     "output_type": "display_data"
    }
   ],
   "source": [
    "import matplotlib.pyplot as plt\n",
    "\n",
    "# Plotting the loss for training and validation data\n",
    "plt.figure(figsize=(12, 4))\n",
    "\n",
    "plt.subplot(1, 2, 1)\n",
    "plt.plot(history.history['loss'], label='Train Loss')\n",
    "plt.plot(history.history['val_loss'], label='Validation Loss')\n",
    "plt.xlabel('Epochs')\n",
    "plt.ylabel('Loss')\n",
    "plt.title('Loss over Epochs')\n",
    "plt.legend()\n",
    "\n",
    "# Plotting the accuracy for training and validation data\n",
    "plt.subplot(1, 2, 2)\n",
    "plt.plot(history.history['accuracy'], label='Train Accuracy')\n",
    "plt.plot(history.history['val_accuracy'], label='Validation Accuracy')\n",
    "plt.xlabel('Epochs')\n",
    "plt.ylabel('Accuracy')\n",
    "plt.title('Accuracy over Epochs')\n",
    "plt.legend()\n",
    "\n",
    "plt.tight_layout()\n",
    "\n",
    "\n",
    "# Save the figure to a file\n",
    "plt.savefig('training_plots_resnet.png', dpi=300)\n",
    "plt.show()"
   ]
  },
  {
   "cell_type": "code",
   "execution_count": 22,
   "id": "93502f64-d7a5-468d-8c0d-49ba01619c12",
   "metadata": {},
   "outputs": [
    {
     "name": "stdout",
     "output_type": "stream",
     "text": [
      "57/57 [==============================] - 24s 256ms/step\n",
      "video features shape: (1804, 256)\n"
     ]
    }
   ],
   "source": [
    "#extract the training features from the RNN model\n",
    "rnn_feature_extractor = keras.Model(\n",
    "    inputs=rnn_model.inputs,\n",
    "    outputs=rnn_model.layers[-2].output\n",
    ")\n",
    "\n",
    "extracted_image_features = rnn_feature_extractor.predict(train_data)\n",
    "image_features_shape = extracted_image_features.shape\n",
    "print(f\"video features shape: {image_features_shape}\")"
   ]
  },
  {
   "cell_type": "code",
   "execution_count": 23,
   "id": "b44c31ad-521b-4013-a82b-07738299d951",
   "metadata": {},
   "outputs": [
    {
     "name": "stdout",
     "output_type": "stream",
     "text": [
      "15/15 [==============================] - 13s 260ms/step\n",
      "video features shape: (451, 256)\n"
     ]
    }
   ],
   "source": [
    "#extract the testing features from the RNN model\n",
    "rnn_feature_extractor = keras.Model(\n",
    "    inputs=rnn_model.inputs,\n",
    "    outputs=rnn_model.layers[-2].output\n",
    ")\n",
    "\n",
    "test_extracted_image_features = rnn_feature_extractor.predict(test_data)\n",
    "test_image_features_shape = test_extracted_image_features.shape\n",
    "print(f\"video features shape: {test_image_features_shape}\")"
   ]
  },
  {
   "cell_type": "markdown",
   "id": "43aa622a-43b5-4404-abbc-a2ef8d74d6cb",
   "metadata": {
    "tags": []
   },
   "source": [
    "## **Getting text embeddings**"
   ]
  },
  {
   "cell_type": "code",
   "execution_count": 5,
   "id": "72255cc7-124f-451d-92fc-fcca92f9e466",
   "metadata": {
    "collapsed": true,
    "jupyter": {
     "outputs_hidden": true
    }
   },
   "outputs": [
    {
     "name": "stderr",
     "output_type": "stream",
     "text": [
      "2023-08-15 04:57:00.060544: I tensorflow/core/common_runtime/process_util.cc:146] Creating new thread pool with default inter op setting: 2. Tune using inter_op_parallelism_threads for best performance.\n"
     ]
    }
   ],
   "source": [
    "from transformers import TFBertModel, BertTokenizer"
   ]
  },
  {
   "cell_type": "markdown",
   "id": "526a6d2b-fbb2-4303-9989-9bd8f47f0922",
   "metadata": {},
   "source": [
    "**get bert multingual model to extract text features**"
   ]
  },
  {
   "cell_type": "code",
   "execution_count": 6,
   "id": "adfe5662-4bc7-4e7b-acc4-506f191c1ca9",
   "metadata": {
    "collapsed": true,
    "jupyter": {
     "outputs_hidden": true
    }
   },
   "outputs": [
    {
     "data": {
      "application/vnd.jupyter.widget-view+json": {
       "model_id": "7e26506a45fd4db0874a8e7efe065dbf",
       "version_major": 2,
       "version_minor": 0
      },
      "text/plain": [
       "Downloading:   0%|          | 0.00/625 [00:00<?, ?B/s]"
      ]
     },
     "metadata": {},
     "output_type": "display_data"
    },
    {
     "data": {
      "application/vnd.jupyter.widget-view+json": {
       "model_id": "e4c41786342047e0a39107c293e54f94",
       "version_major": 2,
       "version_minor": 0
      },
      "text/plain": [
       "Downloading:   0%|          | 0.00/1.01G [00:00<?, ?B/s]"
      ]
     },
     "metadata": {},
     "output_type": "display_data"
    },
    {
     "name": "stderr",
     "output_type": "stream",
     "text": [
      "Some layers from the model checkpoint at bert-base-multilingual-cased were not used when initializing TFBertModel: ['nsp___cls', 'mlm___cls']\n",
      "- This IS expected if you are initializing TFBertModel from the checkpoint of a model trained on another task or with another architecture (e.g. initializing a BertForSequenceClassification model from a BertForPreTraining model).\n",
      "- This IS NOT expected if you are initializing TFBertModel from the checkpoint of a model that you expect to be exactly identical (initializing a BertForSequenceClassification model from a BertForSequenceClassification model).\n",
      "All the layers of TFBertModel were initialized from the model checkpoint at bert-base-multilingual-cased.\n",
      "If your task is similar to the task the model of the checkpoint was trained on, you can already use TFBertModel for predictions without further training.\n"
     ]
    },
    {
     "data": {
      "application/vnd.jupyter.widget-view+json": {
       "model_id": "0efd3c7c08a14d15a930071a5c04dfa3",
       "version_major": 2,
       "version_minor": 0
      },
      "text/plain": [
       "Downloading:   0%|          | 0.00/972k [00:00<?, ?B/s]"
      ]
     },
     "metadata": {},
     "output_type": "display_data"
    },
    {
     "data": {
      "application/vnd.jupyter.widget-view+json": {
       "model_id": "971356b31516490ba03203229625a8e7",
       "version_major": 2,
       "version_minor": 0
      },
      "text/plain": [
       "Downloading:   0%|          | 0.00/29.0 [00:00<?, ?B/s]"
      ]
     },
     "metadata": {},
     "output_type": "display_data"
    }
   ],
   "source": [
    "#load bert model and its tokenizer\n",
    "bert_model = TFBertModel.from_pretrained(\"bert-base-multilingual-cased\")\n",
    "tokenizer = BertTokenizer.from_pretrained(\"bert-base-multilingual-cased\")"
   ]
  },
  {
   "cell_type": "markdown",
   "id": "0ed75acb-1415-40b5-a782-022970acfb46",
   "metadata": {},
   "source": [
    "**get titles and replace empty fields with UNK**"
   ]
  },
  {
   "cell_type": "code",
   "execution_count": 10,
   "id": "6483dfa8-c8be-44fd-b66a-fe914ccdc783",
   "metadata": {},
   "outputs": [],
   "source": [
    "train_titles = train_df['title']\n",
    "train_titles = [title if isinstance(title, str) else \"[UNK]\" for title in train_titles]\n",
    "\n",
    "test_titles = test_df['title']\n",
    "test_titles = [title if isinstance(title, str) else \"[UNK]\" for title in test_titles]"
   ]
  },
  {
   "cell_type": "markdown",
   "id": "817c9512-89a0-4846-b8c4-e9fdbee438bc",
   "metadata": {},
   "source": [
    "**get the embeddings**"
   ]
  },
  {
   "cell_type": "code",
   "execution_count": 11,
   "id": "83cf456e-d27b-48ee-985a-7ddb2c326e4a",
   "metadata": {},
   "outputs": [],
   "source": [
    "input_ids = tokenizer(train_titles, return_tensors=\"tf\", padding=True, truncation=True, max_length=128)\n",
    "outputs = bert_model(input_ids)\n",
    "train_embeddings = outputs[1]"
   ]
  },
  {
   "cell_type": "code",
   "execution_count": 58,
   "id": "11591f1a-0b9f-4ba0-85ed-fb18d63f88ef",
   "metadata": {},
   "outputs": [],
   "source": [
    "input_ids_test = tokenizer(test_titles, return_tensors=\"tf\", padding=True, truncation=True, max_length=128)\n",
    "outputs_test = bert_model(input_ids_test)\n",
    "test_embeddings = outputs_test[1]"
   ]
  },
  {
   "cell_type": "code",
   "execution_count": 15,
   "id": "aa5c27bb-4653-4d8a-922d-f41c50e402c4",
   "metadata": {},
   "outputs": [],
   "source": [
    "np.save('train_embeddings.npy', train_embeddings.numpy())\n",
    "np.save('test_embeddings.npy', test_embeddings.numpy())"
   ]
  },
  {
   "cell_type": "code",
   "execution_count": 41,
   "id": "6bcfd44a-7c80-401a-a3b3-59300d17708f",
   "metadata": {},
   "outputs": [
    {
     "data": {
      "text/plain": [
       "(1804, 768)"
      ]
     },
     "execution_count": 41,
     "metadata": {},
     "output_type": "execute_result"
    }
   ],
   "source": [
    "train_embeddings.numpy().shape"
   ]
  },
  {
   "cell_type": "code",
   "execution_count": 48,
   "id": "25b3430e-418d-47dc-8e1d-b076010c8f94",
   "metadata": {},
   "outputs": [
    {
     "data": {
      "text/plain": [
       "(1804, 8)"
      ]
     },
     "execution_count": 48,
     "metadata": {},
     "output_type": "execute_result"
    }
   ],
   "source": [
    "extracted_image_features.shape"
   ]
  },
  {
   "cell_type": "code",
   "execution_count": 28,
   "id": "f42806a4-7476-4070-9fb4-16ef8c865e78",
   "metadata": {},
   "outputs": [],
   "source": [
    "train_embeddings = np.load('train_embeddings.npy')\n",
    "test_embeddings = np.load('test_embeddings.npy')"
   ]
  },
  {
   "cell_type": "markdown",
   "id": "2fc6aa95-9931-4bf3-8391-29541ba5d51c",
   "metadata": {
    "tags": []
   },
   "source": [
    "## **Fused network**"
   ]
  },
  {
   "cell_type": "code",
   "execution_count": 24,
   "id": "526c0d4e-c48a-4273-a9a4-16cb8abf8e45",
   "metadata": {},
   "outputs": [],
   "source": [
    "from tensorflow.keras.metrics import Precision, Recall\n",
    "from tensorflow.keras import backend as K\n",
    "\n",
    "def F1_Score(y_true, y_pred):\n",
    "    true_positives = K.sum(K.round(K.clip(y_true * y_pred, 0, 1)))\n",
    "    possible_positives = K.sum(K.round(K.clip(y_true, 0, 1)))\n",
    "    predicted_positives = K.sum(K.round(K.clip(y_pred, 0, 1)))\n",
    "    \n",
    "    precision = true_positives / (predicted_positives + K.epsilon())\n",
    "    recall = true_positives / (possible_positives + K.epsilon())\n",
    "    f1_val = 2*(precision*recall) / (precision + recall + K.epsilon())\n",
    "    \n",
    "    return f1_val"
   ]
  },
  {
   "cell_type": "code",
   "execution_count": 25,
   "id": "8f173011-a804-4eac-8ea6-ad3d003849b7",
   "metadata": {},
   "outputs": [],
   "source": [
    "#create the fused model, this model combine the features of the frames and the embeddings of the titles\n",
    "def FUSED_NN():\n",
    "    # Assuming image_features is the output tensor from your image model\n",
    "    image_input = tf.keras.Input(shape=(256, ), name=\"image_input\")  # replace image_features_shape with the shape of your image features\n",
    "\n",
    "    # BERT embeddings\n",
    "    text_input = tf.keras.Input(shape=(768, ), name=\"text_input\")  # BERT base models have an output dimension of 768\n",
    "\n",
    "    fused = tf.keras.layers.Concatenate()([image_input, text_input])\n",
    "\n",
    "    # Fully Connected Layers\n",
    "    dense = tf.keras.layers.Dense(512, activation='relu')(fused)\n",
    "    dense = tf.keras.layers.Dense(256, activation='relu')(dense)\n",
    "    dense = tf.keras.layers.Dense(126, activation='relu')(dense)\n",
    "    # Output layer for binary classification\n",
    "    output = tf.keras.layers.Dense(1, activation='sigmoid')(dense)  # Single neuron with sigmoid activation\n",
    "\n",
    "    # Construct the model\n",
    "    fused_model = tf.keras.Model(inputs=[image_input, text_input], outputs=output)\n",
    "\n",
    "    # Compile the model for binary classification\n",
    "    fused_model.compile(optimizer='adam', \n",
    "                    loss='binary_crossentropy', \n",
    "                    metrics=['accuracy', Precision(name='precision'), Recall(name='recall'), F1_Score])    \n",
    "    return fused_model"
   ]
  },
  {
   "cell_type": "code",
   "execution_count": 34,
   "id": "9455e7be-4b86-4b5f-8823-73550de6c0e7",
   "metadata": {},
   "outputs": [],
   "source": [
    "from tensorflow import keras\n",
    "\n",
    "def train_fused_model():\n",
    "    # Set a filepath to save the best weights\n",
    "    filepath = \"/tmp/best_weights.h5\"\n",
    "    checkpoint = keras.callbacks.ModelCheckpoint(filepath, save_weights_only=True,\n",
    "                                                 monitor='val_accuracy', mode='max',\n",
    "                                                 save_best_only=True, verbose=1)\n",
    "    \n",
    "    epochs = 15\n",
    "    batch_size = 32\n",
    "    \n",
    "    image_features_train = extracted_image_features\n",
    "    text_features_train = train_embeddings\n",
    "    \n",
    "    model = FUSED_NN()\n",
    "    \n",
    "    # Train the model with the checkpoint callback\n",
    "    history = model.fit(\n",
    "        [image_features_train, text_features_train],  # Input data\n",
    "        train_labels,                                 # Labels\n",
    "        epochs=epochs,\n",
    "        batch_size=batch_size,\n",
    "        validation_split=0.2,                         # Validation data\n",
    "        callbacks=[checkpoint]                        # Add checkpoint to callbacks\n",
    "    )\n",
    "    \n",
    "    # Load the best weights into the model\n",
    "    model.load_weights(filepath)\n",
    "    \n",
    "    _, accuracy, precision, recall, f1_score = model.evaluate([test_extracted_image_features, test_embeddings], test_labels)\n",
    "    print(f\"Test accuracy: {round(accuracy * 100, 2)}%\")\n",
    "    print(f\"Test precision: {round(precision * 100, 2)}%\")\n",
    "    print(f\"Test recall: {round(recall * 100, 2)}%\")\n",
    "    print(f\"Test f1_score: {round(f1_score * 100, 2)}%\")\n",
    "    \n",
    "    # If you want to return the actual weight values, you can use:\n",
    "    # best_weights = model.get_weights()\n",
    "\n",
    "    return history, model  #, best_weights  # uncomment this if returning actual weights\n"
   ]
  },
  {
   "cell_type": "code",
   "execution_count": 35,
   "id": "265a42c1-31ee-45f8-b646-051ceabbe912",
   "metadata": {},
   "outputs": [
    {
     "name": "stdout",
     "output_type": "stream",
     "text": [
      "Epoch 1/15\n",
      "41/46 [=========================>....] - ETA: 0s - loss: 0.0530 - accuracy: 0.9878 - precision: 0.9971 - recall: 0.9799 - F1_Score: 0.9815\n",
      "Epoch 1: val_accuracy improved from -inf to 0.82271, saving model to /tmp/best_weights.h5\n",
      "46/46 [==============================] - 5s 42ms/step - loss: 0.0483 - accuracy: 0.9889 - precision: 0.9974 - recall: 0.9817 - F1_Score: 0.9835 - val_loss: 1.6082 - val_accuracy: 0.8227 - val_precision: 0.8535 - val_recall: 0.7657 - val_F1_Score: 0.8018\n",
      "Epoch 2/15\n",
      "46/46 [==============================] - ETA: 0s - loss: 0.0225 - accuracy: 0.9972 - precision: 0.9987 - recall: 0.9961 - F1_Score: 0.9977\n",
      "Epoch 2: val_accuracy did not improve from 0.82271\n",
      "46/46 [==============================] - 1s 16ms/step - loss: 0.0225 - accuracy: 0.9972 - precision: 0.9987 - recall: 0.9961 - F1_Score: 0.9977 - val_loss: 2.0196 - val_accuracy: 0.7978 - val_precision: 0.7742 - val_recall: 0.8229 - val_F1_Score: 0.7948\n",
      "Epoch 3/15\n",
      "46/46 [==============================] - ETA: 0s - loss: 0.0067 - accuracy: 0.9986 - precision: 0.9987 - recall: 0.9987 - F1_Score: 0.9988\n",
      "Epoch 3: val_accuracy improved from 0.82271 to 0.83102, saving model to /tmp/best_weights.h5\n",
      "46/46 [==============================] - 1s 18ms/step - loss: 0.0067 - accuracy: 0.9986 - precision: 0.9987 - recall: 0.9987 - F1_Score: 0.9988 - val_loss: 1.5296 - val_accuracy: 0.8310 - val_precision: 0.8476 - val_recall: 0.7943 - val_F1_Score: 0.8147\n",
      "Epoch 4/15\n",
      "44/46 [===========================>..] - ETA: 0s - loss: 0.0064 - accuracy: 0.9993 - precision: 1.0000 - recall: 0.9987 - F1_Score: 0.9993    \n",
      "Epoch 4: val_accuracy did not improve from 0.83102\n",
      "46/46 [==============================] - 1s 15ms/step - loss: 0.0062 - accuracy: 0.9993 - precision: 1.0000 - recall: 0.9987 - F1_Score: 0.9993 - val_loss: 1.6385 - val_accuracy: 0.8310 - val_precision: 0.8434 - val_recall: 0.8000 - val_F1_Score: 0.8169\n",
      "Epoch 5/15\n",
      "45/46 [============================>.] - ETA: 0s - loss: 0.0023 - accuracy: 0.9993 - precision: 1.0000 - recall: 0.9987 - F1_Score: 0.9994\n",
      "Epoch 5: val_accuracy did not improve from 0.83102\n",
      "46/46 [==============================] - 1s 17ms/step - loss: 0.0023 - accuracy: 0.9993 - precision: 1.0000 - recall: 0.9987 - F1_Score: 0.9994 - val_loss: 1.8079 - val_accuracy: 0.8283 - val_precision: 0.8383 - val_recall: 0.8000 - val_F1_Score: 0.8141\n",
      "Epoch 6/15\n",
      "44/46 [===========================>..] - ETA: 0s - loss: 0.0073 - accuracy: 0.9993 - precision: 1.0000 - recall: 0.9987 - F1_Score: 0.9993\n",
      "Epoch 6: val_accuracy did not improve from 0.83102\n",
      "46/46 [==============================] - 1s 16ms/step - loss: 0.0071 - accuracy: 0.9993 - precision: 1.0000 - recall: 0.9987 - F1_Score: 0.9993 - val_loss: 1.3963 - val_accuracy: 0.8089 - val_precision: 0.7978 - val_recall: 0.8114 - val_F1_Score: 0.7977\n",
      "Epoch 7/15\n",
      "45/46 [============================>.] - ETA: 0s - loss: 0.0035 - accuracy: 0.9993 - precision: 1.0000 - recall: 0.9987 - F1_Score: 0.9995\n",
      "Epoch 7: val_accuracy did not improve from 0.83102\n",
      "46/46 [==============================] - 1s 17ms/step - loss: 0.0035 - accuracy: 0.9993 - precision: 1.0000 - recall: 0.9987 - F1_Score: 0.9995 - val_loss: 1.3955 - val_accuracy: 0.8144 - val_precision: 0.8000 - val_recall: 0.8229 - val_F1_Score: 0.8050\n",
      "Epoch 8/15\n",
      "45/46 [============================>.] - ETA: 0s - loss: 0.0015 - accuracy: 0.9993 - precision: 1.0000 - recall: 0.9987 - F1_Score: 0.9992\n",
      "Epoch 8: val_accuracy did not improve from 0.83102\n",
      "46/46 [==============================] - 1s 17ms/step - loss: 0.0015 - accuracy: 0.9993 - precision: 1.0000 - recall: 0.9987 - F1_Score: 0.9993 - val_loss: 1.8211 - val_accuracy: 0.8283 - val_precision: 0.8343 - val_recall: 0.8057 - val_F1_Score: 0.8153\n",
      "Epoch 9/15\n",
      "43/46 [===========================>..] - ETA: 0s - loss: 3.2239e-05 - accuracy: 1.0000 - precision: 1.0000 - recall: 1.0000 - F1_Score: 1.0000\n",
      "Epoch 9: val_accuracy did not improve from 0.83102\n",
      "46/46 [==============================] - 1s 18ms/step - loss: 0.0015 - accuracy: 0.9993 - precision: 1.0000 - recall: 0.9987 - F1_Score: 0.9991 - val_loss: 1.8811 - val_accuracy: 0.8144 - val_precision: 0.7967 - val_recall: 0.8286 - val_F1_Score: 0.8059\n",
      "Epoch 10/15\n",
      "44/46 [===========================>..] - ETA: 0s - loss: 0.0015 - accuracy: 1.0000 - precision: 1.0000 - recall: 1.0000 - F1_Score: 1.0000\n",
      "Epoch 10: val_accuracy did not improve from 0.83102\n",
      "46/46 [==============================] - 1s 20ms/step - loss: 0.0014 - accuracy: 1.0000 - precision: 1.0000 - recall: 1.0000 - F1_Score: 1.0000 - val_loss: 2.6107 - val_accuracy: 0.8227 - val_precision: 0.8246 - val_recall: 0.8057 - val_F1_Score: 0.8053\n",
      "Epoch 11/15\n",
      "44/46 [===========================>..] - ETA: 0s - loss: 3.9534e-06 - accuracy: 1.0000 - precision: 1.0000 - recall: 1.0000 - F1_Score: 1.0000\n",
      "Epoch 11: val_accuracy did not improve from 0.83102\n",
      "46/46 [==============================] - 1s 21ms/step - loss: 0.0025 - accuracy: 0.9993 - precision: 1.0000 - recall: 0.9987 - F1_Score: 0.9994 - val_loss: 2.4881 - val_accuracy: 0.8116 - val_precision: 0.7956 - val_recall: 0.8229 - val_F1_Score: 0.8029\n",
      "Epoch 12/15\n",
      "45/46 [============================>.] - ETA: 0s - loss: 7.4352e-04 - accuracy: 1.0000 - precision: 1.0000 - recall: 1.0000 - F1_Score: 1.0000\n",
      "Epoch 12: val_accuracy did not improve from 0.83102\n",
      "46/46 [==============================] - 1s 20ms/step - loss: 7.4203e-04 - accuracy: 1.0000 - precision: 1.0000 - recall: 1.0000 - F1_Score: 1.0000 - val_loss: 2.2836 - val_accuracy: 0.8199 - val_precision: 0.8198 - val_recall: 0.8057 - val_F1_Score: 0.8034\n",
      "Epoch 13/15\n",
      "44/46 [===========================>..] - ETA: 0s - loss: 5.6751e-04 - accuracy: 0.9993 - precision: 0.9987 - recall: 1.0000 - F1_Score: 0.9993\n",
      "Epoch 13: val_accuracy did not improve from 0.83102\n",
      "46/46 [==============================] - 1s 17ms/step - loss: 5.5376e-04 - accuracy: 0.9993 - precision: 0.9987 - recall: 1.0000 - F1_Score: 0.9776 - val_loss: 2.2956 - val_accuracy: 0.8255 - val_precision: 0.8457 - val_recall: 0.7829 - val_F1_Score: 0.8078\n",
      "Epoch 14/15\n",
      "44/46 [===========================>..] - ETA: 0s - loss: 0.0052 - accuracy: 0.9993 - precision: 0.9987 - recall: 1.0000 - F1_Score: 0.9994\n",
      "Epoch 14: val_accuracy did not improve from 0.83102\n",
      "46/46 [==============================] - 1s 20ms/step - loss: 0.0050 - accuracy: 0.9993 - precision: 0.9987 - recall: 1.0000 - F1_Score: 0.9995 - val_loss: 2.3177 - val_accuracy: 0.8033 - val_precision: 0.8562 - val_recall: 0.7143 - val_F1_Score: 0.7715\n",
      "Epoch 15/15\n",
      "46/46 [==============================] - ETA: 0s - loss: 0.0039 - accuracy: 0.9993 - precision: 1.0000 - recall: 0.9987 - F1_Score: 0.9995\n",
      "Epoch 15: val_accuracy did not improve from 0.83102\n",
      "46/46 [==============================] - 1s 20ms/step - loss: 0.0039 - accuracy: 0.9993 - precision: 1.0000 - recall: 0.9987 - F1_Score: 0.9995 - val_loss: 1.9281 - val_accuracy: 0.8255 - val_precision: 0.8373 - val_recall: 0.7943 - val_F1_Score: 0.8108\n",
      "15/15 [==============================] - 0s 6ms/step - loss: 1.7514 - accuracy: 0.7761 - precision: 0.8317 - recall: 0.7149 - F1_Score: 0.7096\n",
      "Test accuracy: 77.61%\n",
      "Test precision: 83.17%\n",
      "Test recall: 71.49%\n",
      "Test f1_score: 70.96%\n"
     ]
    }
   ],
   "source": [
    "history_fused, fused_model = train_fused_model()"
   ]
  },
  {
   "cell_type": "code",
   "execution_count": 36,
   "id": "ebf77534-0ffc-43ff-a3a9-426ab5b327d5",
   "metadata": {},
   "outputs": [],
   "source": [
    "import pickle\n",
    "\n",
    "with open('training_history_resnet_fused.pkl', 'wb') as file:\n",
    "    pickle.dump(history_fused.history, file)"
   ]
  },
  {
   "cell_type": "code",
   "execution_count": 60,
   "id": "45d1f14a-eac8-41b3-9f05-d752e1497cea",
   "metadata": {},
   "outputs": [
    {
     "data": {
      "image/png": "[encoded data removed]",
      "text/plain": [
       "<Figure size 1200x400 with 2 Axes>"
      ]
     },
     "metadata": {},
     "output_type": "display_data"
    }
   ],
   "source": [
    "import matplotlib.pyplot as plt\n",
    "\n",
    "plt.figure(figsize=(12, 4))\n",
    "\n",
    "plt.subplot(1, 2, 1)\n",
    "plt.plot(history_fused.history['loss'], label='Train Loss')\n",
    "plt.plot(history_fused.history['val_loss'], label='Validation Loss')\n",
    "plt.xlabel('Epochs')\n",
    "plt.ylabel('Loss')\n",
    "plt.title('Loss over Epochs')\n",
    "plt.legend()\n",
    "\n",
    "# Plotting the accuracy for training and validation data\n",
    "plt.subplot(1, 2, 2)\n",
    "plt.plot(history_fused.history['accuracy'], label='Train Accuracy')\n",
    "plt.plot(history_fused.history['val_accuracy'], label='Validation Accuracy')\n",
    "plt.xlabel('Epochs')\n",
    "plt.ylabel('Accuracy')\n",
    "plt.title('Accuracy over Epochs')\n",
    "plt.legend()\n",
    "\n",
    "plt.savefig('fused_plots_resnet50.png', dpi=300)\n",
    "\n",
    "plt.tight_layout()\n",
    "plt.show()"
   ]
  }
 ],
 "metadata": {
  "kernelspec": {
   "display_name": "Python 3 (ipykernel)",
   "language": "python",
   "name": "python3"
  },
  "language_info": {
   "codemirror_mode": {
    "name": "ipython",
    "version": 3
   },
   "file_extension": ".py",
   "mimetype": "text/x-python",
   "name": "python",
   "nbconvert_exporter": "python",
   "pygments_lexer": "ipython3",
   "version": "3.9.1"
  }
 },
 "nbformat": 4,
 "nbformat_minor": 5
}
