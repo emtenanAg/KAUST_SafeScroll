{
 "cells": [
  {
   "cell_type": "markdown",
   "id": "6f8cb426-e177-4359-aaa1-6d995fdcaaa7",
   "metadata": {
    "jp-MarkdownHeadingCollapsed": true,
    "tags": []
   },
   "source": [
    "### import libraries"
   ]
  },
  {
   "cell_type": "code",
   "execution_count": 1,
   "id": "4864816e-4ee8-47a7-9884-15535da5e883",
   "metadata": {
    "collapsed": true,
    "jupyter": {
     "outputs_hidden": true
    },
    "tags": []
   },
   "outputs": [
    {
     "name": "stderr",
     "output_type": "stream",
     "text": [
      "2023-08-19 18:07:38.595940: I tensorflow/core/platform/cpu_feature_guard.cc:182] This TensorFlow binary is optimized to use available CPU instructions in performance-critical operations.\n",
      "To enable the following instructions: SSE4.1 SSE4.2 AVX AVX2 AVX512F FMA, in other operations, rebuild TensorFlow with the appropriate compiler flags.\n"
     ]
    }
   ],
   "source": [
    "import os\n",
    "import cv2\n",
    "import pandas as pd\n",
    "import numpy as np\n",
    "from sklearn.model_selection import train_test_split\n",
    "from sklearn.preprocessing import LabelEncoder\n",
    "import math   # for mathematical operations\n",
    "# import matplotlib.pyplot as plt    # for plotting the images\n",
    "# %matplotlib inline\n",
    "import pandas as pd\n",
    "from tensorflow.keras.preprocessing import image   # for preprocessing the images\n",
    "from skimage.transform import resize   # for resizing images\n",
    "from glob import glob\n",
    "from tqdm import tqdm\n",
    "import random\n",
    "import pathlib\n",
    "import itertools\n",
    "import collections\n",
    "import tensorflow as tf\n",
    "import imageio\n",
    "from IPython import display\n",
    "from urllib import request\n",
    "# from tensorflow_docs.vis import embed\n",
    "import keras"
   ]
  },
  {
   "cell_type": "markdown",
   "id": "ded0a0c8-8886-4575-903e-7ee523b34537",
   "metadata": {
    "jp-MarkdownHeadingCollapsed": true
   },
   "source": [
    "## **Reading and spletting the dataset**"
   ]
  },
  {
   "cell_type": "code",
   "execution_count": 2,
   "id": "25216a34-a43c-4a3e-9877-6aca67088b72",
   "metadata": {
    "tags": []
   },
   "outputs": [],
   "source": [
    "#readind the dataset\n",
    "model_df = pd.read_csv('model_df.csv')\n",
    "\n",
    "#spletting the dataset using train_test_split\n",
    "def split_dataset(df, test_size=0.2, random_state=42):\n",
    "    X = df.drop('label', axis=1)\n",
    "    y = df['label']\n",
    "    X_train, X_test, y_train, y_test = train_test_split(X, y, test_size=0.2, random_state=42, stratify=y)\n",
    "    train_df = X_train\n",
    "    train_df['label'] = y_train\n",
    "    test_df = X_test\n",
    "    test_df['label'] = y_test\n",
    "    return train_df, test_df\n",
    "\n",
    "train_df, test_df = split_dataset(model_df)"
   ]
  },
  {
   "cell_type": "code",
   "execution_count": 3,
   "id": "215ce5eb-b83a-4a63-a13c-26ee72188219",
   "metadata": {},
   "outputs": [
    {
     "data": {
      "text/html": [
       "<div>\n",
       "<style scoped>\n",
       "    .dataframe tbody tr th:only-of-type {\n",
       "        vertical-align: middle;\n",
       "    }\n",
       "\n",
       "    .dataframe tbody tr th {\n",
       "        vertical-align: top;\n",
       "    }\n",
       "\n",
       "    .dataframe thead th {\n",
       "        text-align: right;\n",
       "    }\n",
       "</style>\n",
       "<table border=\"1\" class=\"dataframe\">\n",
       "  <thead>\n",
       "    <tr style=\"text-align: right;\">\n",
       "      <th></th>\n",
       "      <th>Unnamed: 0.2</th>\n",
       "      <th>Unnamed: 0.1</th>\n",
       "      <th>Unnamed: 0</th>\n",
       "      <th>id</th>\n",
       "      <th>title</th>\n",
       "      <th>path</th>\n",
       "      <th>new_path</th>\n",
       "      <th>label</th>\n",
       "    </tr>\n",
       "  </thead>\n",
       "  <tbody>\n",
       "    <tr>\n",
       "      <th>1012</th>\n",
       "      <td>1012</td>\n",
       "      <td>1012</td>\n",
       "      <td>1013.0</td>\n",
       "      <td>6967707383166536962</td>\n",
       "      <td>Trả lời @uyenthanh204 uiya tui che mắt rồi ko ...</td>\n",
       "      <td>/content/drive/My Drive/videos/</td>\n",
       "      <td>videos/videos/</td>\n",
       "      <td>1</td>\n",
       "    </tr>\n",
       "    <tr>\n",
       "      <th>1653</th>\n",
       "      <td>1653</td>\n",
       "      <td>1653</td>\n",
       "      <td>1685.0</td>\n",
       "      <td>8EZ941fazGQ</td>\n",
       "      <td>Jealous Kisses - Sweet Kiss #lgbt #lgbtq #blsh...</td>\n",
       "      <td>/content/drive/My Drive/youtubeShort/</td>\n",
       "      <td>youtubeShort/youtubeShort/</td>\n",
       "      <td>1</td>\n",
       "    </tr>\n",
       "    <tr>\n",
       "      <th>1785</th>\n",
       "      <td>1785</td>\n",
       "      <td>1785</td>\n",
       "      <td>1835.0</td>\n",
       "      <td>5FM0ARekfOU</td>\n",
       "      <td>PRANKING MY BI FRIEND 🏳️‍🌈 #shorts #pride</td>\n",
       "      <td>/content/drive/My Drive/youtubeShort/</td>\n",
       "      <td>youtubeShort/youtubeShort/</td>\n",
       "      <td>1</td>\n",
       "    </tr>\n",
       "  </tbody>\n",
       "</table>\n",
       "</div>"
      ],
      "text/plain": [
       "      Unnamed: 0.2  Unnamed: 0.1  Unnamed: 0                   id  \\\n",
       "1012          1012          1012      1013.0  6967707383166536962   \n",
       "1653          1653          1653      1685.0          8EZ941fazGQ   \n",
       "1785          1785          1785      1835.0          5FM0ARekfOU   \n",
       "\n",
       "                                                  title  \\\n",
       "1012  Trả lời @uyenthanh204 uiya tui che mắt rồi ko ...   \n",
       "1653  Jealous Kisses - Sweet Kiss #lgbt #lgbtq #blsh...   \n",
       "1785          PRANKING MY BI FRIEND 🏳️‍🌈 #shorts #pride   \n",
       "\n",
       "                                       path                    new_path  label  \n",
       "1012        /content/drive/My Drive/videos/              videos/videos/      1  \n",
       "1653  /content/drive/My Drive/youtubeShort/  youtubeShort/youtubeShort/      1  \n",
       "1785  /content/drive/My Drive/youtubeShort/  youtubeShort/youtubeShort/      1  "
      ]
     },
     "execution_count": 3,
     "metadata": {},
     "output_type": "execute_result"
    }
   ],
   "source": [
    "#the dataset containes the id, title, path, and label of the video\n",
    "train_df.head(3)"
   ]
  },
  {
   "cell_type": "code",
   "execution_count": 8,
   "id": "08168047-bbf2-467c-a15f-eb99932c2945",
   "metadata": {},
   "outputs": [
    {
     "name": "stdout",
     "output_type": "stream",
     "text": [
      "Number of the training videos: 1804\n",
      "Number of the testing videos: 451\n"
     ]
    }
   ],
   "source": [
    "print(\"Number of the training videos:\", len(train_df))\n",
    "print(\"Number of the testing videos:\", len(test_df))"
   ]
  },
  {
   "cell_type": "markdown",
   "id": "3fbea5d9-f74c-43b5-9757-2b627f1fa434",
   "metadata": {
    "jp-MarkdownHeadingCollapsed": true
   },
   "source": [
    "## **Load video's frames**"
   ]
  },
  {
   "cell_type": "code",
   "execution_count": 3,
   "id": "f6889448-7230-4c4c-ab4d-016d0808e1a1",
   "metadata": {},
   "outputs": [],
   "source": [
    "def load_frames(path, desired_frames=20, resize=(224, 126)):\n",
    "    cap = cv2.VideoCapture(path)\n",
    "    total_frames = int(cap.get(cv2.CAP_PROP_FRAME_COUNT))\n",
    "\n",
    "    \n",
    "    # If the video has fewer frames than desired, take all frames\n",
    "    if total_frames <= desired_frames:\n",
    "        interval = 1\n",
    "    else:\n",
    "        interval = total_frames // desired_frames\n",
    "\n",
    "    frames = []\n",
    "    frame_idx = 0  # current frame index\n",
    "    \n",
    "    try:\n",
    "        while frame_idx < total_frames:\n",
    "            cap.set(cv2.CAP_PROP_POS_FRAMES, frame_idx)  # jump to the specified frame index\n",
    "            ret, frame = cap.read()\n",
    "            if not ret:\n",
    "                break\n",
    "\n",
    "            # Resize and append the frames to the frame array\n",
    "            frame = cv2.resize(frame, resize)\n",
    "            frame = frame[:, :, [2, 1, 0]]\n",
    "            frames.append(frame)\n",
    "\n",
    "            frame_idx += interval  # move to the next frame based on the interval\n",
    "    finally:\n",
    "        cap.release()\n",
    "\n",
    "    return np.array(frames).reshape(-1, 224, 126, 3)"
   ]
  },
  {
   "cell_type": "code",
   "execution_count": 4,
   "id": "d6070fb1-eb8a-449f-b52c-f1ba1567d856",
   "metadata": {},
   "outputs": [],
   "source": [
    "def get_video_frames_and_labels(df):\n",
    "    video_ids = df['id']\n",
    "    labels = df['label'].tolist()\n",
    "    video_filenames = [f'{id}.mp4' for id in video_ids]\n",
    "    video_directory = df['new_path']\n",
    "    video_paths = [os.path.join(vd, vf) for vd, vf in zip(video_directory, video_filenames)]\n",
    "    \n",
    "    all_frames = []\n",
    "\n",
    "    # For each video.\n",
    "    for idx, path in tqdm(enumerate(video_paths), total=len(video_paths), desc=\"Processing videos\"):\n",
    "        if os.path.isfile(path):\n",
    "            # Gather all its frames.\n",
    "            frames = load_frames(path)\n",
    "            all_frames.append(frames)\n",
    "            np.save('frames.npy', np.array(all_frames))\n",
    "        else:\n",
    "            print(idx, 'this file does not exist')\n",
    "            labels.pop(idx)  # Remove the label corresponding to the missing video\n",
    "    return all_frames, labels"
   ]
  },
  {
   "cell_type": "code",
   "execution_count": 8,
   "id": "c31fa9b0-b673-4617-8cc5-f085fd91926b",
   "metadata": {},
   "outputs": [],
   "source": [
    "def clean_frames(frames, labels):\n",
    "    trimmed_frames = []\n",
    "    remove_idx = []\n",
    "    for idx in range(len(frames)):\n",
    "        # If the list has more than 20 frames, truncate it\n",
    "        if frames[idx].shape[0] > 20:\n",
    "            trimmed_frames.append(frames[idx][:20])\n",
    "        # If the list has less than 20 frames, pad with zeros\n",
    "        elif frames[idx].shape[0] < 20:\n",
    "            remove_idx.append(idx)\n",
    "        else:\n",
    "            trimmed_frames.append(frames[idx])\n",
    "    \n",
    "    trimmed_frames = np.array(trimmed_frames)\n",
    "    cleaned_labels = np.delete(labels, remove_idx)\n",
    "    return trimmed_frames, cleaned_labels, remove_idx"
   ]
  },
  {
   "cell_type": "code",
   "execution_count": null,
   "id": "04b920f0-aa1c-4e17-be6a-f8b709799883",
   "metadata": {},
   "outputs": [],
   "source": [
    "train_frames, train_labels = get_video_frames_and_labels(train_df)\n",
    "trimmed_train_frames, cleaned_train_labels = clean_frames(train_frames, train_labels)\n",
    "\n",
    "np.save('trimmed_train_frames.npy', trimmed_train_frames)\n",
    "np.save('cleaned_train_labels.npy', cleaned_train_labels)\n",
    "\n",
    "print(f\"Frame features in train set: {trimmed_train_frames.shape}\")\n",
    "print(f\"Labels in train set: {cleaned_train_labels.shape}\")"
   ]
  },
  {
   "cell_type": "code",
   "execution_count": 36,
   "id": "6fad33a0-faeb-4453-a45a-9d6a668d4daf",
   "metadata": {
    "collapsed": true,
    "jupyter": {
     "outputs_hidden": true
    }
   },
   "outputs": [
    {
     "name": "stderr",
     "output_type": "stream",
     "text": [
      "Processing videos:   2%|▏         | 11/451 [00:20<14:55,  2.03s/it]/tmp/ipykernel_138658/3503164673.py:16: VisibleDeprecationWarning: Creating an ndarray from ragged nested sequences (which is a list-or-tuple of lists-or-tuples-or ndarrays with different lengths or shapes) is deprecated. If you meant to do this, you must specify 'dtype=object' when creating the ndarray.\n",
      "  np.save('frames.npy', np.array(all_frames))\n",
      "Processing videos:  13%|█▎        | 60/451 [02:14<18:24,  2.83s/it][NULL @ 0x55cefb0f7ec0] Invalid NAL unit size (1058 > 869).\n",
      "[NULL @ 0x55cefb0f7ec0] missing picture in access unit with size 873\n",
      "[h264 @ 0x55cef7204880] Invalid NAL unit size (1058 > 869).\n",
      "[h264 @ 0x55cef7204880] Error splitting the input into NAL units.\n",
      "[mov,mp4,m4a,3gp,3g2,mj2 @ 0x55cef91a9300] stream 0, offset 0x41e0bd: partial file\n",
      "[mov,mp4,m4a,3gp,3g2,mj2 @ 0x55cef91a9300] stream 1, offset 0x41e408: partial file\n",
      "[NULL @ 0x55cefb0f7ec0] Invalid NAL unit size (1058 > 869).\n",
      "[NULL @ 0x55cefb0f7ec0] missing picture in access unit with size 873\n",
      "[h264 @ 0x55cef7204880] Invalid NAL unit size (1058 > 869).\n",
      "[h264 @ 0x55cef7204880] Error splitting the input into NAL units.\n",
      "[mov,mp4,m4a,3gp,3g2,mj2 @ 0x55cef91a9300] stream 0, offset 0x41e0bd: partial file\n",
      "[mov,mp4,m4a,3gp,3g2,mj2 @ 0x55cef91a9300] stream 1, offset 0x41e408: partial file\n",
      "Processing videos: 100%|██████████| 451/451 [43:54<00:00,  5.84s/it]\n"
     ]
    },
    {
     "name": "stdout",
     "output_type": "stream",
     "text": [
      "Frame features in train set: (450, 20, 224, 126, 3)\n",
      "Labels in train set: (450,)\n"
     ]
    }
   ],
   "source": [
    "test_frames, test_labels = get_video_frames_and_labels(test_df)\n",
    "trimmed_test_frames, cleaned_test_labels, remove_idx = clean_frames(test_frames, test_labels)\n",
    "\n",
    "np.save('trimmed_test_frames.npy', trimmed_test_frames)\n",
    "np.save('cleaned_test_labels.npy', cleaned_test_labels)\n",
    "\n",
    "print(f\"Frame features in train set: {trimmed_test_frames.shape}\")\n",
    "print(f\"Labels in train set: {cleaned_test_labels.shape}\")"
   ]
  },
  {
   "cell_type": "code",
   "execution_count": 14,
   "id": "1cdf754b-e217-4d5e-a02e-6306575c4de6",
   "metadata": {},
   "outputs": [],
   "source": [
    "trimmed_train_frames = np.load('trimmed_train_frames.npy')\n",
    "cleaned_train_labels = np.load('cleaned_train_labels.npy')\n",
    "trimmed_test_frames = np.load('trimmed_test_frames.npy')\n",
    "cleaned_test_labels = np.load('cleaned_test_labels.npy')"
   ]
  },
  {
   "cell_type": "markdown",
   "id": "3763ac1b-752e-441a-985e-3eccddc66363",
   "metadata": {
    "jp-MarkdownHeadingCollapsed": true,
    "tags": []
   },
   "source": [
    "## **using CNN-RNN to extract images features**"
   ]
  },
  {
   "cell_type": "markdown",
   "id": "ec6e9e82-1ca3-4ecd-b655-c572e3506ad0",
   "metadata": {},
   "source": [
    "### **training CNN for features extraction**"
   ]
  },
  {
   "cell_type": "markdown",
   "id": "c9dcded5-0c75-4c96-b7e9-8be103dee707",
   "metadata": {},
   "source": [
    "**definind the CNN model (Resnet50) with unfreezing the last 5 layers**"
   ]
  },
  {
   "cell_type": "code",
   "execution_count": 5,
   "id": "e8e34b5b-1e85-4bd8-831b-bcd24b9d2741",
   "metadata": {
    "tags": []
   },
   "outputs": [],
   "source": [
    "def CNN_MODEL_TRAINABLE():\n",
    "    from tensorflow.keras.applications import ResNet50\n",
    "    from tensorflow.keras.applications.resnet50 import preprocess_input\n",
    "    from tensorflow.keras.layers import Dense, Dropout\n",
    "\n",
    "    # Load the ResNet50 model with weights pre-trained on ImageNet\n",
    "    base_model = ResNet50(\n",
    "        weights=\"imagenet\",\n",
    "        include_top=False,\n",
    "        pooling=\"max\",\n",
    "        input_shape=(224, 126, 3),\n",
    "    )\n",
    "\n",
    "    # Unfreeze the last few layers\n",
    "    for layer in base_model.layers[-5:]:  # you can adjust the number based on your needs\n",
    "        layer.trainable = True\n",
    "\n",
    "    # Append the classification layers\n",
    "    inputs = keras.Input((224, 126, 3))\n",
    "    preprocessed = preprocess_input(inputs)\n",
    "    base_features = base_model(preprocessed)\n",
    "    x = Dense(256, activation='relu')(base_features)  # Add more dense layers if necessary\n",
    "    x = Dropout(0.8)(x)\n",
    "    outputs = Dense(1, activation='sigmoid')(x)\n",
    "\n",
    "    cnn_model = keras.Model(inputs, outputs)\n",
    "    cnn_model.compile(optimizer='adam', loss='binary_crossentropy', metrics=['accuracy'])\n",
    "\n",
    "\n",
    "    return cnn_model, base_model\n",
    "\n",
    "# Initialize the model and compile\n",
    "model, base_model = CNN_MODEL_TRAINABLE() \n",
    "\n",
    "# Your training loop will now look a bit different. Instead of predicting features,\n",
    "# you will train the model using the video frames and their associated labels."
   ]
  },
  {
   "cell_type": "code",
   "execution_count": 6,
   "id": "34f4197d-99d1-40b8-bd5c-e0063d58cd87",
   "metadata": {},
   "outputs": [],
   "source": [
    "from tensorflow import keras\n",
    "\n",
    "def train_cnn_model():\n",
    "    # Set a filepath to save the best weights\n",
    "    filepath = \"best_weights_resnet_trained.h5\"\n",
    "    checkpoint = keras.callbacks.ModelCheckpoint(filepath, save_weights_only=True,\n",
    "                                                 monitor='val_accuracy', mode='max',\n",
    "                                                 save_best_only=True, verbose=1)\n",
    "    \n",
    "    early_stopping = keras.callbacks.EarlyStopping(monitor='val_accuracy', patience=15, restore_best_weights=True)\n",
    "    \n",
    "    epochs = 40\n",
    "    batch_size = 64\n",
    "    \n",
    "    model, base_model = CNN_MODEL_TRAINABLE()\n",
    "    \n",
    "    # Train the model with the checkpoint callback\n",
    "    history = model.fit(\n",
    "        train_frames,  # Input data\n",
    "        train_labels,                                 # Labels\n",
    "        epochs=epochs,\n",
    "        batch_size=batch_size,\n",
    "        validation_split=0.2,                         # Validation data\n",
    "        callbacks=[checkpoint]                        # Add checkpoint to callbacks\n",
    "    )\n",
    "    \n",
    "    # Load the best weights into the model\n",
    "    model.load_weights(filepath)\n",
    "    model.save(filepath)\n",
    "    _, accuracy = model.evaluate(test_frames, test_labels)\n",
    "    print(f\"Test accuracy: {round(accuracy * 100, 2)}%\")\n",
    "    \n",
    "    # If you want to return the actual weight values, you can use:\n",
    "    # best_weights = model.get_weights()\n",
    "\n",
    "    return history, model, base_model #, best_weights  # uncomment this if returning actual weights\n"
   ]
  },
  {
   "cell_type": "code",
   "execution_count": 4,
   "id": "60f64b58-262d-4f4d-909d-35bc23d58f3a",
   "metadata": {},
   "outputs": [],
   "source": [
    "#load train labels and videos' frames\n",
    "train_labels = np.load('cleaned_train_labels.npy')\n",
    "train_videos = videos = np.load('trimmed_train_frames.npy')\n",
    "selected_frames_train = [video[video.shape[0] // 2] for video in train_videos]\n",
    "train_frames = np.array(selected_frames_train) \n",
    "\n",
    "test_labels = np.load('cleaned_test_labels.npy')\n",
    "test_videos = np.load('trimmed_test_frames.npy')\n",
    "#select the center frame from all videos\n",
    "selected_frames_test = [video[video.shape[0] // 2] for video in test_videos]\n",
    "test_frames = np.array(selected_frames_test) "
   ]
  },
  {
   "cell_type": "code",
   "execution_count": 38,
   "id": "fdd25464-0854-4a3c-8458-addf9e673e9d",
   "metadata": {},
   "outputs": [
    {
     "data": {
      "text/plain": [
       "(450, 224, 126, 3)"
      ]
     },
     "execution_count": 38,
     "metadata": {},
     "output_type": "execute_result"
    }
   ],
   "source": [
    "test_frames.shape"
   ]
  },
  {
   "cell_type": "markdown",
   "id": "506bf7fb-f7ac-4dd0-ab6c-f6d78babe790",
   "metadata": {},
   "source": [
    "**train the cnn model then use it for features extraction**"
   ]
  },
  {
   "cell_type": "code",
   "execution_count": 7,
   "id": "3abf9459-8c7f-48ae-8780-f416ff6e7a11",
   "metadata": {},
   "outputs": [
    {
     "name": "stdout",
     "output_type": "stream",
     "text": [
      "Epoch 1/40\n",
      "23/23 [==============================] - ETA: 0s - loss: 3.3469 - accuracy: 0.5487\n",
      "Epoch 1: val_accuracy improved from -inf to 0.51389, saving model to best_weights_resnet_trained.h5\n",
      "23/23 [==============================] - 255s 10s/step - loss: 3.3469 - accuracy: 0.5487 - val_loss: 1001064.4375 - val_accuracy: 0.5139\n",
      "Epoch 2/40\n",
      "23/23 [==============================] - ETA: 0s - loss: 1.9603 - accuracy: 0.6099\n",
      "Epoch 2: val_accuracy did not improve from 0.51389\n",
      "23/23 [==============================] - 227s 10s/step - loss: 1.9603 - accuracy: 0.6099 - val_loss: 26233.9258 - val_accuracy: 0.4944\n",
      "Epoch 3/40\n",
      "23/23 [==============================] - ETA: 0s - loss: 0.7240 - accuracy: 0.6502\n",
      "Epoch 3: val_accuracy improved from 0.51389 to 0.53333, saving model to best_weights_resnet_trained.h5\n",
      "23/23 [==============================] - 233s 10s/step - loss: 0.7240 - accuracy: 0.6502 - val_loss: 41.3358 - val_accuracy: 0.5333\n",
      "Epoch 4/40\n",
      "23/23 [==============================] - ETA: 0s - loss: 0.6462 - accuracy: 0.6843\n",
      "Epoch 4: val_accuracy improved from 0.53333 to 0.61111, saving model to best_weights_resnet_trained.h5\n",
      "23/23 [==============================] - 233s 10s/step - loss: 0.6462 - accuracy: 0.6843 - val_loss: 8.6627 - val_accuracy: 0.6111\n",
      "Epoch 5/40\n",
      "23/23 [==============================] - ETA: 0s - loss: 0.5505 - accuracy: 0.7260\n",
      "Epoch 5: val_accuracy improved from 0.61111 to 0.62500, saving model to best_weights_resnet_trained.h5\n",
      "23/23 [==============================] - 222s 10s/step - loss: 0.5505 - accuracy: 0.7260 - val_loss: 2.2452 - val_accuracy: 0.6250\n",
      "Epoch 6/40\n",
      "23/23 [==============================] - ETA: 0s - loss: 0.4753 - accuracy: 0.7705\n",
      "Epoch 6: val_accuracy improved from 0.62500 to 0.63333, saving model to best_weights_resnet_trained.h5\n",
      "23/23 [==============================] - 228s 10s/step - loss: 0.4753 - accuracy: 0.7705 - val_loss: 1.0077 - val_accuracy: 0.6333\n",
      "Epoch 7/40\n",
      "23/23 [==============================] - ETA: 0s - loss: 0.4072 - accuracy: 0.8095\n",
      "Epoch 7: val_accuracy did not improve from 0.63333\n",
      "23/23 [==============================] - 225s 10s/step - loss: 0.4072 - accuracy: 0.8095 - val_loss: 0.9398 - val_accuracy: 0.6333\n",
      "Epoch 8/40\n",
      "23/23 [==============================] - ETA: 0s - loss: 0.3516 - accuracy: 0.8317\n",
      "Epoch 8: val_accuracy improved from 0.63333 to 0.65556, saving model to best_weights_resnet_trained.h5\n",
      "23/23 [==============================] - 239s 10s/step - loss: 0.3516 - accuracy: 0.8317 - val_loss: 1.0911 - val_accuracy: 0.6556\n",
      "Epoch 9/40\n",
      "23/23 [==============================] - ETA: 0s - loss: 0.3452 - accuracy: 0.8421\n",
      "Epoch 9: val_accuracy did not improve from 0.65556\n",
      "23/23 [==============================] - 222s 10s/step - loss: 0.3452 - accuracy: 0.8421 - val_loss: 1.0599 - val_accuracy: 0.6083\n",
      "Epoch 10/40\n",
      "23/23 [==============================] - ETA: 0s - loss: 0.2711 - accuracy: 0.8748\n",
      "Epoch 10: val_accuracy did not improve from 0.65556\n",
      "23/23 [==============================] - 234s 10s/step - loss: 0.2711 - accuracy: 0.8748 - val_loss: 1.2222 - val_accuracy: 0.6472\n",
      "Epoch 11/40\n",
      "23/23 [==============================] - ETA: 0s - loss: 0.1846 - accuracy: 0.9200\n",
      "Epoch 11: val_accuracy improved from 0.65556 to 0.67500, saving model to best_weights_resnet_trained.h5\n",
      "23/23 [==============================] - 222s 10s/step - loss: 0.1846 - accuracy: 0.9200 - val_loss: 1.1570 - val_accuracy: 0.6750\n",
      "Epoch 12/40\n",
      "23/23 [==============================] - ETA: 0s - loss: 0.1621 - accuracy: 0.9332\n",
      "Epoch 12: val_accuracy did not improve from 0.67500\n",
      "23/23 [==============================] - 225s 10s/step - loss: 0.1621 - accuracy: 0.9332 - val_loss: 1.2182 - val_accuracy: 0.6722\n",
      "Epoch 13/40\n",
      "23/23 [==============================] - ETA: 0s - loss: 0.2041 - accuracy: 0.9096\n",
      "Epoch 13: val_accuracy did not improve from 0.67500\n",
      "23/23 [==============================] - 233s 10s/step - loss: 0.2041 - accuracy: 0.9096 - val_loss: 1.7141 - val_accuracy: 0.6583\n",
      "Epoch 14/40\n",
      "23/23 [==============================] - ETA: 0s - loss: 0.3265 - accuracy: 0.8887\n",
      "Epoch 14: val_accuracy improved from 0.67500 to 0.68333, saving model to best_weights_resnet_trained.h5\n",
      "23/23 [==============================] - 229s 10s/step - loss: 0.3265 - accuracy: 0.8887 - val_loss: 1.1398 - val_accuracy: 0.6833\n",
      "Epoch 15/40\n",
      "23/23 [==============================] - ETA: 0s - loss: 0.1311 - accuracy: 0.9451\n",
      "Epoch 15: val_accuracy did not improve from 0.68333\n",
      "23/23 [==============================] - 224s 10s/step - loss: 0.1311 - accuracy: 0.9451 - val_loss: 1.2218 - val_accuracy: 0.6444\n",
      "Epoch 16/40\n",
      "23/23 [==============================] - ETA: 0s - loss: 0.1251 - accuracy: 0.9492\n",
      "Epoch 16: val_accuracy did not improve from 0.68333\n",
      "23/23 [==============================] - 223s 10s/step - loss: 0.1251 - accuracy: 0.9492 - val_loss: 1.5726 - val_accuracy: 0.6722\n",
      "Epoch 17/40\n",
      "23/23 [==============================] - ETA: 0s - loss: 0.1185 - accuracy: 0.9555\n",
      "Epoch 17: val_accuracy did not improve from 0.68333\n",
      "23/23 [==============================] - 226s 10s/step - loss: 0.1185 - accuracy: 0.9555 - val_loss: 1.4886 - val_accuracy: 0.6750\n",
      "Epoch 18/40\n",
      "23/23 [==============================] - ETA: 0s - loss: 0.1926 - accuracy: 0.9291\n",
      "Epoch 18: val_accuracy did not improve from 0.68333\n",
      "23/23 [==============================] - 234s 10s/step - loss: 0.1926 - accuracy: 0.9291 - val_loss: 1.1514 - val_accuracy: 0.6500\n",
      "Epoch 19/40\n",
      "23/23 [==============================] - ETA: 0s - loss: 0.2202 - accuracy: 0.9346\n",
      "Epoch 19: val_accuracy did not improve from 0.68333\n",
      "23/23 [==============================] - 230s 10s/step - loss: 0.2202 - accuracy: 0.9346 - val_loss: 1.3120 - val_accuracy: 0.6639\n",
      "Epoch 20/40\n",
      "23/23 [==============================] - ETA: 0s - loss: 0.1428 - accuracy: 0.9451\n",
      "Epoch 20: val_accuracy did not improve from 0.68333\n",
      "23/23 [==============================] - 226s 10s/step - loss: 0.1428 - accuracy: 0.9451 - val_loss: 1.4533 - val_accuracy: 0.6556\n",
      "Epoch 21/40\n",
      "23/23 [==============================] - ETA: 0s - loss: 0.1560 - accuracy: 0.9444\n",
      "Epoch 21: val_accuracy did not improve from 0.68333\n",
      "23/23 [==============================] - 229s 10s/step - loss: 0.1560 - accuracy: 0.9444 - val_loss: 1.3120 - val_accuracy: 0.6639\n",
      "Epoch 22/40\n",
      "23/23 [==============================] - ETA: 0s - loss: 0.1030 - accuracy: 0.9645\n",
      "Epoch 22: val_accuracy improved from 0.68333 to 0.69444, saving model to best_weights_resnet_trained.h5\n",
      "23/23 [==============================] - 225s 10s/step - loss: 0.1030 - accuracy: 0.9645 - val_loss: 0.9694 - val_accuracy: 0.6944\n",
      "Epoch 23/40\n",
      "23/23 [==============================] - ETA: 0s - loss: 0.1657 - accuracy: 0.9513\n",
      "Epoch 23: val_accuracy did not improve from 0.69444\n",
      "23/23 [==============================] - 229s 10s/step - loss: 0.1657 - accuracy: 0.9513 - val_loss: 1.4943 - val_accuracy: 0.6611\n",
      "Epoch 24/40\n",
      "23/23 [==============================] - ETA: 0s - loss: 0.3068 - accuracy: 0.9061\n",
      "Epoch 24: val_accuracy did not improve from 0.69444\n",
      "23/23 [==============================] - 227s 10s/step - loss: 0.3068 - accuracy: 0.9061 - val_loss: 39.0246 - val_accuracy: 0.4972\n",
      "Epoch 25/40\n",
      "23/23 [==============================] - ETA: 0s - loss: 0.3996 - accuracy: 0.8456\n",
      "Epoch 25: val_accuracy did not improve from 0.69444\n",
      "23/23 [==============================] - 230s 10s/step - loss: 0.3996 - accuracy: 0.8456 - val_loss: 2.6532 - val_accuracy: 0.5028\n",
      "Epoch 26/40\n",
      "23/23 [==============================] - ETA: 0s - loss: 0.2891 - accuracy: 0.8679\n",
      "Epoch 26: val_accuracy did not improve from 0.69444\n",
      "23/23 [==============================] - 227s 10s/step - loss: 0.2891 - accuracy: 0.8679 - val_loss: 143.6453 - val_accuracy: 0.4889\n",
      "Epoch 27/40\n",
      "23/23 [==============================] - ETA: 0s - loss: 0.2168 - accuracy: 0.8964\n",
      "Epoch 27: val_accuracy did not improve from 0.69444\n",
      "23/23 [==============================] - 224s 10s/step - loss: 0.2168 - accuracy: 0.8964 - val_loss: 61.1873 - val_accuracy: 0.4806\n",
      "Epoch 28/40\n",
      "23/23 [==============================] - ETA: 0s - loss: 0.1428 - accuracy: 0.9402\n",
      "Epoch 28: val_accuracy did not improve from 0.69444\n",
      "23/23 [==============================] - 225s 10s/step - loss: 0.1428 - accuracy: 0.9402 - val_loss: 32.9879 - val_accuracy: 0.4917\n",
      "Epoch 29/40\n",
      "23/23 [==============================] - ETA: 0s - loss: 0.0980 - accuracy: 0.9485\n",
      "Epoch 29: val_accuracy did not improve from 0.69444\n",
      "23/23 [==============================] - 229s 10s/step - loss: 0.0980 - accuracy: 0.9485 - val_loss: 1.2015 - val_accuracy: 0.6361\n",
      "Epoch 30/40\n",
      "23/23 [==============================] - ETA: 0s - loss: 0.0910 - accuracy: 0.9604\n",
      "Epoch 30: val_accuracy did not improve from 0.69444\n",
      "23/23 [==============================] - 225s 10s/step - loss: 0.0910 - accuracy: 0.9604 - val_loss: 1.7529 - val_accuracy: 0.6000\n",
      "Epoch 31/40\n",
      "23/23 [==============================] - ETA: 0s - loss: 0.1035 - accuracy: 0.9562\n",
      "Epoch 31: val_accuracy did not improve from 0.69444\n",
      "23/23 [==============================] - 231s 10s/step - loss: 0.1035 - accuracy: 0.9562 - val_loss: 1.7360 - val_accuracy: 0.6222\n",
      "Epoch 32/40\n",
      "23/23 [==============================] - ETA: 0s - loss: 0.0816 - accuracy: 0.9624\n",
      "Epoch 32: val_accuracy did not improve from 0.69444\n",
      "23/23 [==============================] - 227s 10s/step - loss: 0.0816 - accuracy: 0.9624 - val_loss: 1.4635 - val_accuracy: 0.6444\n",
      "Epoch 33/40\n",
      "23/23 [==============================] - ETA: 0s - loss: 0.0738 - accuracy: 0.9666\n",
      "Epoch 33: val_accuracy did not improve from 0.69444\n",
      "23/23 [==============================] - 235s 10s/step - loss: 0.0738 - accuracy: 0.9666 - val_loss: 1.4790 - val_accuracy: 0.6472\n",
      "Epoch 34/40\n",
      "23/23 [==============================] - ETA: 0s - loss: 0.0672 - accuracy: 0.9611\n",
      "Epoch 34: val_accuracy did not improve from 0.69444\n",
      "23/23 [==============================] - 227s 10s/step - loss: 0.0672 - accuracy: 0.9611 - val_loss: 1.7738 - val_accuracy: 0.6389\n",
      "Epoch 35/40\n",
      "23/23 [==============================] - ETA: 0s - loss: 0.0573 - accuracy: 0.9722\n",
      "Epoch 35: val_accuracy did not improve from 0.69444\n",
      "23/23 [==============================] - 230s 10s/step - loss: 0.0573 - accuracy: 0.9722 - val_loss: 1.5004 - val_accuracy: 0.6556\n",
      "Epoch 36/40\n",
      "23/23 [==============================] - ETA: 0s - loss: 0.0407 - accuracy: 0.9847\n",
      "Epoch 36: val_accuracy did not improve from 0.69444\n",
      "23/23 [==============================] - 228s 10s/step - loss: 0.0407 - accuracy: 0.9847 - val_loss: 6.2163 - val_accuracy: 0.6417\n",
      "Epoch 37/40\n",
      "23/23 [==============================] - ETA: 0s - loss: 0.0460 - accuracy: 0.9771\n",
      "Epoch 37: val_accuracy did not improve from 0.69444\n",
      "23/23 [==============================] - 221s 10s/step - loss: 0.0460 - accuracy: 0.9771 - val_loss: 1.6741 - val_accuracy: 0.6417\n",
      "Epoch 38/40\n",
      "23/23 [==============================] - ETA: 0s - loss: 0.0434 - accuracy: 0.9791\n",
      "Epoch 38: val_accuracy did not improve from 0.69444\n",
      "23/23 [==============================] - 227s 10s/step - loss: 0.0434 - accuracy: 0.9791 - val_loss: 1.8363 - val_accuracy: 0.6639\n",
      "Epoch 39/40\n",
      "23/23 [==============================] - ETA: 0s - loss: 0.0508 - accuracy: 0.9840\n",
      "Epoch 39: val_accuracy did not improve from 0.69444\n",
      "23/23 [==============================] - 225s 10s/step - loss: 0.0508 - accuracy: 0.9840 - val_loss: 1.6776 - val_accuracy: 0.6167\n",
      "Epoch 40/40\n",
      "23/23 [==============================] - ETA: 0s - loss: 0.0775 - accuracy: 0.9701\n",
      "Epoch 40: val_accuracy did not improve from 0.69444\n",
      "23/23 [==============================] - 229s 10s/step - loss: 0.0775 - accuracy: 0.9701 - val_loss: 1.7570 - val_accuracy: 0.6167\n",
      "15/15 [==============================] - 18s 1s/step - loss: 1.0552 - accuracy: 0.7044\n",
      "Test accuracy: 70.44%\n"
     ]
    }
   ],
   "source": [
    "history, cnn_model1, base_model1 = train_cnn_model()"
   ]
  },
  {
   "cell_type": "code",
   "execution_count": 9,
   "id": "6b808a0f-de56-4451-a0bf-ce8b95a9a7e5",
   "metadata": {},
   "outputs": [],
   "source": [
    "train_videos = np.load('trimmed_train_frames.npy')\n",
    "train_labels = np.load('cleaned_train_labels.npy')\n",
    "flattened_train_frames = np.concatenate(train_videos, axis=0)  # This will have shape (total_num_frames, 224, 126, 3)\n",
    "test_videos = np.load('trimmed_test_frames.npy')\n",
    "test_labels = np.load('cleaned_test_labels.npy')\n",
    "flattened_test_frames = np.concatenate(test_videos, axis=0)  # This will have shape (total_num_frames, 224, 126, 3)"
   ]
  },
  {
   "cell_type": "code",
   "execution_count": 8,
   "id": "aba36b82-7ecc-4625-afbb-651f24aba3b1",
   "metadata": {},
   "outputs": [],
   "source": [
    "cnn_feature_extractor = keras.Model(\n",
    "    inputs=base_model1.inputs,\n",
    "    outputs=base_model1.layers[-1].output\n",
    ")"
   ]
  },
  {
   "cell_type": "code",
   "execution_count": 10,
   "id": "ed386a3d-64ca-481c-a515-f3d58c1341f0",
   "metadata": {},
   "outputs": [
    {
     "name": "stdout",
     "output_type": "stream",
     "text": [
      "1124/1124 [==============================] - 1369s 1s/step\n",
      "video features shape: (35960, 2048)\n"
     ]
    }
   ],
   "source": [
    "extracted_images_features = cnn_feature_extractor.predict(flattened_train_frames)\n",
    "images_features_shape = extracted_images_features.shape\n",
    "print(f\"video features shape: {images_features_shape}\")"
   ]
  },
  {
   "cell_type": "code",
   "execution_count": 11,
   "id": "730d3eed-5e27-4079-ba3b-5ec89dc6dab6",
   "metadata": {},
   "outputs": [
    {
     "data": {
      "text/plain": [
       "(1798, 20, 2048)"
      ]
     },
     "execution_count": 11,
     "metadata": {},
     "output_type": "execute_result"
    }
   ],
   "source": [
    "# Compute the number of frames in each video and restore the original shape of the frames\n",
    "num_frames_per_video = [video.shape[0] for video in train_videos]\n",
    "reconstructed_train_features = np.split(extracted_images_features, np.cumsum(num_frames_per_video)[:-1])\n",
    "reconstructed_train_features = np.array(reconstructed_train_features)\n",
    "np.save('reconstructed_train_features.npy', reconstructed_train_features)\n",
    "reconstructed_train_features.shape"
   ]
  },
  {
   "cell_type": "code",
   "execution_count": 59,
   "id": "fb60286f-428a-4926-b652-0b8fff92ac21",
   "metadata": {},
   "outputs": [
    {
     "data": {
      "text/plain": [
       "(1798, 20, 2048)"
      ]
     },
     "execution_count": 59,
     "metadata": {},
     "output_type": "execute_result"
    }
   ],
   "source": [
    "num_frames_per_video = [20 for video in train_videos]\n",
    "reconstructed_train_features = np.split(extracted_images_features, np.cumsum(num_frames_per_video)[:-1])\n",
    "reconstructed_train_features = np.array(reconstructed_train_features)\n",
    "reconstructed_train_features.shape"
   ]
  },
  {
   "cell_type": "code",
   "execution_count": 34,
   "id": "414143eb-89fa-45fe-8060-2c0ec47becd0",
   "metadata": {},
   "outputs": [],
   "source": [
    "test_videos = np.load('trimmed_test_frames.npy')"
   ]
  },
  {
   "cell_type": "code",
   "execution_count": 35,
   "id": "6058f12d-404f-4d9c-8da1-a28347045178",
   "metadata": {},
   "outputs": [
    {
     "data": {
      "text/plain": [
       "(1798, 20, 224, 126, 3)"
      ]
     },
     "execution_count": 35,
     "metadata": {},
     "output_type": "execute_result"
    }
   ],
   "source": [
    "test_videos.shape"
   ]
  },
  {
   "cell_type": "code",
   "execution_count": 30,
   "id": "1630a20b-932b-4311-8f56-f4f7c7c0c52e",
   "metadata": {
    "collapsed": true,
    "jupyter": {
     "outputs_hidden": true
    }
   },
   "outputs": [
    {
     "name": "stdout",
     "output_type": "stream",
     "text": [
      "  80/1124 [=>............................] - ETA: 16:37"
     ]
    },
    {
     "ename": "KeyboardInterrupt",
     "evalue": "",
     "output_type": "error",
     "traceback": [
      "\u001b[0;31m---------------------------------------------------------------------------\u001b[0m",
      "\u001b[0;31mKeyboardInterrupt\u001b[0m                         Traceback (most recent call last)",
      "Cell \u001b[0;32mIn[30], line 1\u001b[0m\n\u001b[0;32m----> 1\u001b[0m extracted_image_features \u001b[38;5;241m=\u001b[39m \u001b[43mcnn_feature_extractor\u001b[49m\u001b[38;5;241;43m.\u001b[39;49m\u001b[43mpredict\u001b[49m\u001b[43m(\u001b[49m\u001b[43mflattened_test_frames\u001b[49m\u001b[43m)\u001b[49m\n\u001b[1;32m      2\u001b[0m image_features_shape \u001b[38;5;241m=\u001b[39m extracted_image_features\u001b[38;5;241m.\u001b[39mshape\n\u001b[1;32m      3\u001b[0m \u001b[38;5;28mprint\u001b[39m(\u001b[38;5;124mf\u001b[39m\u001b[38;5;124m\"\u001b[39m\u001b[38;5;124mvideo features shape: \u001b[39m\u001b[38;5;132;01m{\u001b[39;00mimage_features_shape\u001b[38;5;132;01m}\u001b[39;00m\u001b[38;5;124m\"\u001b[39m)\n",
      "File \u001b[0;32m~/miniconda3/envs/nan/lib/python3.9/site-packages/keras/utils/traceback_utils.py:65\u001b[0m, in \u001b[0;36mfilter_traceback.<locals>.error_handler\u001b[0;34m(*args, **kwargs)\u001b[0m\n\u001b[1;32m     63\u001b[0m filtered_tb \u001b[38;5;241m=\u001b[39m \u001b[38;5;28;01mNone\u001b[39;00m\n\u001b[1;32m     64\u001b[0m \u001b[38;5;28;01mtry\u001b[39;00m:\n\u001b[0;32m---> 65\u001b[0m     \u001b[38;5;28;01mreturn\u001b[39;00m \u001b[43mfn\u001b[49m\u001b[43m(\u001b[49m\u001b[38;5;241;43m*\u001b[39;49m\u001b[43margs\u001b[49m\u001b[43m,\u001b[49m\u001b[43m \u001b[49m\u001b[38;5;241;43m*\u001b[39;49m\u001b[38;5;241;43m*\u001b[39;49m\u001b[43mkwargs\u001b[49m\u001b[43m)\u001b[49m\n\u001b[1;32m     66\u001b[0m \u001b[38;5;28;01mexcept\u001b[39;00m \u001b[38;5;167;01mException\u001b[39;00m \u001b[38;5;28;01mas\u001b[39;00m e:\n\u001b[1;32m     67\u001b[0m     filtered_tb \u001b[38;5;241m=\u001b[39m _process_traceback_frames(e\u001b[38;5;241m.\u001b[39m__traceback__)\n",
      "File \u001b[0;32m~/miniconda3/envs/nan/lib/python3.9/site-packages/keras/engine/training.py:2382\u001b[0m, in \u001b[0;36mModel.predict\u001b[0;34m(self, x, batch_size, verbose, steps, callbacks, max_queue_size, workers, use_multiprocessing)\u001b[0m\n\u001b[1;32m   2380\u001b[0m \u001b[38;5;28;01mfor\u001b[39;00m step \u001b[38;5;129;01min\u001b[39;00m data_handler\u001b[38;5;241m.\u001b[39msteps():\n\u001b[1;32m   2381\u001b[0m     callbacks\u001b[38;5;241m.\u001b[39mon_predict_batch_begin(step)\n\u001b[0;32m-> 2382\u001b[0m     tmp_batch_outputs \u001b[38;5;241m=\u001b[39m \u001b[38;5;28;43mself\u001b[39;49m\u001b[38;5;241;43m.\u001b[39;49m\u001b[43mpredict_function\u001b[49m\u001b[43m(\u001b[49m\u001b[43miterator\u001b[49m\u001b[43m)\u001b[49m\n\u001b[1;32m   2383\u001b[0m     \u001b[38;5;28;01mif\u001b[39;00m data_handler\u001b[38;5;241m.\u001b[39mshould_sync:\n\u001b[1;32m   2384\u001b[0m         context\u001b[38;5;241m.\u001b[39masync_wait()\n",
      "File \u001b[0;32m~/miniconda3/envs/nan/lib/python3.9/site-packages/tensorflow/python/util/traceback_utils.py:150\u001b[0m, in \u001b[0;36mfilter_traceback.<locals>.error_handler\u001b[0;34m(*args, **kwargs)\u001b[0m\n\u001b[1;32m    148\u001b[0m filtered_tb \u001b[38;5;241m=\u001b[39m \u001b[38;5;28;01mNone\u001b[39;00m\n\u001b[1;32m    149\u001b[0m \u001b[38;5;28;01mtry\u001b[39;00m:\n\u001b[0;32m--> 150\u001b[0m   \u001b[38;5;28;01mreturn\u001b[39;00m \u001b[43mfn\u001b[49m\u001b[43m(\u001b[49m\u001b[38;5;241;43m*\u001b[39;49m\u001b[43margs\u001b[49m\u001b[43m,\u001b[49m\u001b[43m \u001b[49m\u001b[38;5;241;43m*\u001b[39;49m\u001b[38;5;241;43m*\u001b[39;49m\u001b[43mkwargs\u001b[49m\u001b[43m)\u001b[49m\n\u001b[1;32m    151\u001b[0m \u001b[38;5;28;01mexcept\u001b[39;00m \u001b[38;5;167;01mException\u001b[39;00m \u001b[38;5;28;01mas\u001b[39;00m e:\n\u001b[1;32m    152\u001b[0m   filtered_tb \u001b[38;5;241m=\u001b[39m _process_traceback_frames(e\u001b[38;5;241m.\u001b[39m__traceback__)\n",
      "File \u001b[0;32m~/miniconda3/envs/nan/lib/python3.9/site-packages/tensorflow/python/eager/polymorphic_function/polymorphic_function.py:894\u001b[0m, in \u001b[0;36mFunction.__call__\u001b[0;34m(self, *args, **kwds)\u001b[0m\n\u001b[1;32m    891\u001b[0m compiler \u001b[38;5;241m=\u001b[39m \u001b[38;5;124m\"\u001b[39m\u001b[38;5;124mxla\u001b[39m\u001b[38;5;124m\"\u001b[39m \u001b[38;5;28;01mif\u001b[39;00m \u001b[38;5;28mself\u001b[39m\u001b[38;5;241m.\u001b[39m_jit_compile \u001b[38;5;28;01melse\u001b[39;00m \u001b[38;5;124m\"\u001b[39m\u001b[38;5;124mnonXla\u001b[39m\u001b[38;5;124m\"\u001b[39m\n\u001b[1;32m    893\u001b[0m \u001b[38;5;28;01mwith\u001b[39;00m OptionalXlaContext(\u001b[38;5;28mself\u001b[39m\u001b[38;5;241m.\u001b[39m_jit_compile):\n\u001b[0;32m--> 894\u001b[0m   result \u001b[38;5;241m=\u001b[39m \u001b[38;5;28;43mself\u001b[39;49m\u001b[38;5;241;43m.\u001b[39;49m\u001b[43m_call\u001b[49m\u001b[43m(\u001b[49m\u001b[38;5;241;43m*\u001b[39;49m\u001b[43margs\u001b[49m\u001b[43m,\u001b[49m\u001b[43m \u001b[49m\u001b[38;5;241;43m*\u001b[39;49m\u001b[38;5;241;43m*\u001b[39;49m\u001b[43mkwds\u001b[49m\u001b[43m)\u001b[49m\n\u001b[1;32m    896\u001b[0m new_tracing_count \u001b[38;5;241m=\u001b[39m \u001b[38;5;28mself\u001b[39m\u001b[38;5;241m.\u001b[39mexperimental_get_tracing_count()\n\u001b[1;32m    897\u001b[0m without_tracing \u001b[38;5;241m=\u001b[39m (tracing_count \u001b[38;5;241m==\u001b[39m new_tracing_count)\n",
      "File \u001b[0;32m~/miniconda3/envs/nan/lib/python3.9/site-packages/tensorflow/python/eager/polymorphic_function/polymorphic_function.py:933\u001b[0m, in \u001b[0;36mFunction._call\u001b[0;34m(self, *args, **kwds)\u001b[0m\n\u001b[1;32m    930\u001b[0m \u001b[38;5;28mself\u001b[39m\u001b[38;5;241m.\u001b[39m_lock\u001b[38;5;241m.\u001b[39mrelease()\n\u001b[1;32m    931\u001b[0m \u001b[38;5;66;03m# In this case we have not created variables on the first call. So we can\u001b[39;00m\n\u001b[1;32m    932\u001b[0m \u001b[38;5;66;03m# run the first trace but we should fail if variables are created.\u001b[39;00m\n\u001b[0;32m--> 933\u001b[0m results \u001b[38;5;241m=\u001b[39m \u001b[38;5;28;43mself\u001b[39;49m\u001b[38;5;241;43m.\u001b[39;49m\u001b[43m_variable_creation_fn\u001b[49m\u001b[43m(\u001b[49m\u001b[38;5;241;43m*\u001b[39;49m\u001b[43margs\u001b[49m\u001b[43m,\u001b[49m\u001b[43m \u001b[49m\u001b[38;5;241;43m*\u001b[39;49m\u001b[38;5;241;43m*\u001b[39;49m\u001b[43mkwds\u001b[49m\u001b[43m)\u001b[49m\n\u001b[1;32m    934\u001b[0m \u001b[38;5;28;01mif\u001b[39;00m \u001b[38;5;28mself\u001b[39m\u001b[38;5;241m.\u001b[39m_created_variables \u001b[38;5;129;01mand\u001b[39;00m \u001b[38;5;129;01mnot\u001b[39;00m ALLOW_DYNAMIC_VARIABLE_CREATION:\n\u001b[1;32m    935\u001b[0m   \u001b[38;5;28;01mraise\u001b[39;00m \u001b[38;5;167;01mValueError\u001b[39;00m(\u001b[38;5;124m\"\u001b[39m\u001b[38;5;124mCreating variables on a non-first call to a function\u001b[39m\u001b[38;5;124m\"\u001b[39m\n\u001b[1;32m    936\u001b[0m                    \u001b[38;5;124m\"\u001b[39m\u001b[38;5;124m decorated with tf.function.\u001b[39m\u001b[38;5;124m\"\u001b[39m)\n",
      "File \u001b[0;32m~/miniconda3/envs/nan/lib/python3.9/site-packages/tensorflow/python/eager/polymorphic_function/tracing_compiler.py:143\u001b[0m, in \u001b[0;36mTracingCompiler.__call__\u001b[0;34m(self, *args, **kwargs)\u001b[0m\n\u001b[1;32m    140\u001b[0m \u001b[38;5;28;01mwith\u001b[39;00m \u001b[38;5;28mself\u001b[39m\u001b[38;5;241m.\u001b[39m_lock:\n\u001b[1;32m    141\u001b[0m   (concrete_function,\n\u001b[1;32m    142\u001b[0m    filtered_flat_args) \u001b[38;5;241m=\u001b[39m \u001b[38;5;28mself\u001b[39m\u001b[38;5;241m.\u001b[39m_maybe_define_function(args, kwargs)\n\u001b[0;32m--> 143\u001b[0m \u001b[38;5;28;01mreturn\u001b[39;00m \u001b[43mconcrete_function\u001b[49m\u001b[38;5;241;43m.\u001b[39;49m\u001b[43m_call_flat\u001b[49m\u001b[43m(\u001b[49m\n\u001b[1;32m    144\u001b[0m \u001b[43m    \u001b[49m\u001b[43mfiltered_flat_args\u001b[49m\u001b[43m,\u001b[49m\u001b[43m \u001b[49m\u001b[43mcaptured_inputs\u001b[49m\u001b[38;5;241;43m=\u001b[39;49m\u001b[43mconcrete_function\u001b[49m\u001b[38;5;241;43m.\u001b[39;49m\u001b[43mcaptured_inputs\u001b[49m\u001b[43m)\u001b[49m\n",
      "File \u001b[0;32m~/miniconda3/envs/nan/lib/python3.9/site-packages/tensorflow/python/eager/polymorphic_function/monomorphic_function.py:1757\u001b[0m, in \u001b[0;36mConcreteFunction._call_flat\u001b[0;34m(self, args, captured_inputs, cancellation_manager)\u001b[0m\n\u001b[1;32m   1753\u001b[0m possible_gradient_type \u001b[38;5;241m=\u001b[39m gradients_util\u001b[38;5;241m.\u001b[39mPossibleTapeGradientTypes(args)\n\u001b[1;32m   1754\u001b[0m \u001b[38;5;28;01mif\u001b[39;00m (possible_gradient_type \u001b[38;5;241m==\u001b[39m gradients_util\u001b[38;5;241m.\u001b[39mPOSSIBLE_GRADIENT_TYPES_NONE\n\u001b[1;32m   1755\u001b[0m     \u001b[38;5;129;01mand\u001b[39;00m executing_eagerly):\n\u001b[1;32m   1756\u001b[0m   \u001b[38;5;66;03m# No tape is watching; skip to running the function.\u001b[39;00m\n\u001b[0;32m-> 1757\u001b[0m   \u001b[38;5;28;01mreturn\u001b[39;00m \u001b[38;5;28mself\u001b[39m\u001b[38;5;241m.\u001b[39m_build_call_outputs(\u001b[38;5;28;43mself\u001b[39;49m\u001b[38;5;241;43m.\u001b[39;49m\u001b[43m_inference_function\u001b[49m\u001b[38;5;241;43m.\u001b[39;49m\u001b[43mcall\u001b[49m\u001b[43m(\u001b[49m\n\u001b[1;32m   1758\u001b[0m \u001b[43m      \u001b[49m\u001b[43mctx\u001b[49m\u001b[43m,\u001b[49m\u001b[43m \u001b[49m\u001b[43margs\u001b[49m\u001b[43m,\u001b[49m\u001b[43m \u001b[49m\u001b[43mcancellation_manager\u001b[49m\u001b[38;5;241;43m=\u001b[39;49m\u001b[43mcancellation_manager\u001b[49m\u001b[43m)\u001b[49m)\n\u001b[1;32m   1759\u001b[0m forward_backward \u001b[38;5;241m=\u001b[39m \u001b[38;5;28mself\u001b[39m\u001b[38;5;241m.\u001b[39m_select_forward_and_backward_functions(\n\u001b[1;32m   1760\u001b[0m     args,\n\u001b[1;32m   1761\u001b[0m     possible_gradient_type,\n\u001b[1;32m   1762\u001b[0m     executing_eagerly)\n\u001b[1;32m   1763\u001b[0m forward_function, args_with_tangents \u001b[38;5;241m=\u001b[39m forward_backward\u001b[38;5;241m.\u001b[39mforward()\n",
      "File \u001b[0;32m~/miniconda3/envs/nan/lib/python3.9/site-packages/tensorflow/python/eager/polymorphic_function/monomorphic_function.py:381\u001b[0m, in \u001b[0;36m_EagerDefinedFunction.call\u001b[0;34m(self, ctx, args, cancellation_manager)\u001b[0m\n\u001b[1;32m    379\u001b[0m \u001b[38;5;28;01mwith\u001b[39;00m _InterpolateFunctionError(\u001b[38;5;28mself\u001b[39m):\n\u001b[1;32m    380\u001b[0m   \u001b[38;5;28;01mif\u001b[39;00m cancellation_manager \u001b[38;5;129;01mis\u001b[39;00m \u001b[38;5;28;01mNone\u001b[39;00m:\n\u001b[0;32m--> 381\u001b[0m     outputs \u001b[38;5;241m=\u001b[39m \u001b[43mexecute\u001b[49m\u001b[38;5;241;43m.\u001b[39;49m\u001b[43mexecute\u001b[49m\u001b[43m(\u001b[49m\n\u001b[1;32m    382\u001b[0m \u001b[43m        \u001b[49m\u001b[38;5;28;43mstr\u001b[39;49m\u001b[43m(\u001b[49m\u001b[38;5;28;43mself\u001b[39;49m\u001b[38;5;241;43m.\u001b[39;49m\u001b[43msignature\u001b[49m\u001b[38;5;241;43m.\u001b[39;49m\u001b[43mname\u001b[49m\u001b[43m)\u001b[49m\u001b[43m,\u001b[49m\n\u001b[1;32m    383\u001b[0m \u001b[43m        \u001b[49m\u001b[43mnum_outputs\u001b[49m\u001b[38;5;241;43m=\u001b[39;49m\u001b[38;5;28;43mself\u001b[39;49m\u001b[38;5;241;43m.\u001b[39;49m\u001b[43m_num_outputs\u001b[49m\u001b[43m,\u001b[49m\n\u001b[1;32m    384\u001b[0m \u001b[43m        \u001b[49m\u001b[43minputs\u001b[49m\u001b[38;5;241;43m=\u001b[39;49m\u001b[43margs\u001b[49m\u001b[43m,\u001b[49m\n\u001b[1;32m    385\u001b[0m \u001b[43m        \u001b[49m\u001b[43mattrs\u001b[49m\u001b[38;5;241;43m=\u001b[39;49m\u001b[43mattrs\u001b[49m\u001b[43m,\u001b[49m\n\u001b[1;32m    386\u001b[0m \u001b[43m        \u001b[49m\u001b[43mctx\u001b[49m\u001b[38;5;241;43m=\u001b[39;49m\u001b[43mctx\u001b[49m\u001b[43m)\u001b[49m\n\u001b[1;32m    387\u001b[0m   \u001b[38;5;28;01melse\u001b[39;00m:\n\u001b[1;32m    388\u001b[0m     outputs \u001b[38;5;241m=\u001b[39m execute\u001b[38;5;241m.\u001b[39mexecute_with_cancellation(\n\u001b[1;32m    389\u001b[0m         \u001b[38;5;28mstr\u001b[39m(\u001b[38;5;28mself\u001b[39m\u001b[38;5;241m.\u001b[39msignature\u001b[38;5;241m.\u001b[39mname),\n\u001b[1;32m    390\u001b[0m         num_outputs\u001b[38;5;241m=\u001b[39m\u001b[38;5;28mself\u001b[39m\u001b[38;5;241m.\u001b[39m_num_outputs,\n\u001b[0;32m   (...)\u001b[0m\n\u001b[1;32m    393\u001b[0m         ctx\u001b[38;5;241m=\u001b[39mctx,\n\u001b[1;32m    394\u001b[0m         cancellation_manager\u001b[38;5;241m=\u001b[39mcancellation_manager)\n",
      "File \u001b[0;32m~/miniconda3/envs/nan/lib/python3.9/site-packages/tensorflow/python/eager/execute.py:52\u001b[0m, in \u001b[0;36mquick_execute\u001b[0;34m(op_name, num_outputs, inputs, attrs, ctx, name)\u001b[0m\n\u001b[1;32m     50\u001b[0m \u001b[38;5;28;01mtry\u001b[39;00m:\n\u001b[1;32m     51\u001b[0m   ctx\u001b[38;5;241m.\u001b[39mensure_initialized()\n\u001b[0;32m---> 52\u001b[0m   tensors \u001b[38;5;241m=\u001b[39m \u001b[43mpywrap_tfe\u001b[49m\u001b[38;5;241;43m.\u001b[39;49m\u001b[43mTFE_Py_Execute\u001b[49m\u001b[43m(\u001b[49m\u001b[43mctx\u001b[49m\u001b[38;5;241;43m.\u001b[39;49m\u001b[43m_handle\u001b[49m\u001b[43m,\u001b[49m\u001b[43m \u001b[49m\u001b[43mdevice_name\u001b[49m\u001b[43m,\u001b[49m\u001b[43m \u001b[49m\u001b[43mop_name\u001b[49m\u001b[43m,\u001b[49m\n\u001b[1;32m     53\u001b[0m \u001b[43m                                      \u001b[49m\u001b[43minputs\u001b[49m\u001b[43m,\u001b[49m\u001b[43m \u001b[49m\u001b[43mattrs\u001b[49m\u001b[43m,\u001b[49m\u001b[43m \u001b[49m\u001b[43mnum_outputs\u001b[49m\u001b[43m)\u001b[49m\n\u001b[1;32m     54\u001b[0m \u001b[38;5;28;01mexcept\u001b[39;00m core\u001b[38;5;241m.\u001b[39m_NotOkStatusException \u001b[38;5;28;01mas\u001b[39;00m e:\n\u001b[1;32m     55\u001b[0m   \u001b[38;5;28;01mif\u001b[39;00m name \u001b[38;5;129;01mis\u001b[39;00m \u001b[38;5;129;01mnot\u001b[39;00m \u001b[38;5;28;01mNone\u001b[39;00m:\n",
      "\u001b[0;31mKeyboardInterrupt\u001b[0m: "
     ]
    }
   ],
   "source": [
    "extracted_image_features = cnn_feature_extractor.predict(flattened_test_frames)\n",
    "image_features_shape = extracted_image_features.shape\n",
    "print(f\"video features shape: {image_features_shape}\")\n",
    "\n",
    "# Compute the number of frames in each video and restore the original shape of the frames\n",
    "num_frames_per_video = [video.shape[0] for video in test_videos]\n",
    "reconstructed_test_features = np.split(extracted_image_features, np.cumsum(num_frames_per_video)[:-1])\n",
    "reconstructed_test_features = np.array(reconstructed_test_features)\n",
    "reconstructed_test_features.shape"
   ]
  },
  {
   "cell_type": "code",
   "execution_count": 101,
   "id": "9d86ba88-16f6-460b-b79d-4dd5a23895d3",
   "metadata": {},
   "outputs": [
    {
     "name": "stdout",
     "output_type": "stream",
     "text": [
      "(1804, 20)\n",
      "(1798, 20)\n"
     ]
    }
   ],
   "source": [
    "train_masks = np.load('train_masks.npy')\n",
    "print(train_masks.shape)\n",
    "train_masks = np.delete(train_masks, [282, 583, 848, 1263, 1494, 1787], axis=0)\n",
    "print(train_masks.shape)"
   ]
  },
  {
   "cell_type": "code",
   "execution_count": 105,
   "id": "1a437326-9763-4f05-8969-fcd618cec2ca",
   "metadata": {},
   "outputs": [
    {
     "name": "stdout",
     "output_type": "stream",
     "text": [
      "(450, 20)\n"
     ]
    }
   ],
   "source": [
    "test_masks = np.load('test_masks.npy')\n",
    "test_masks = np.delete(test_masks, [296], axis=0)\n",
    "print(test_masks.shape)"
   ]
  },
  {
   "cell_type": "markdown",
   "id": "b127a131-fb20-4245-8e2b-0feb230e7738",
   "metadata": {},
   "source": [
    "### **RNN features extraction**"
   ]
  },
  {
   "cell_type": "code",
   "execution_count": 108,
   "id": "c8ed58e3-17ff-4420-a39a-0f09bb4ac641",
   "metadata": {},
   "outputs": [],
   "source": [
    "from tensorflow import keras\n",
    "\n",
    "def RNN_MODEL():\n",
    "    MAX_SEQ_LENGTH = 20\n",
    "    NUM_FEATURES = 2048\n",
    "\n",
    "    frame_features_input = keras.Input((MAX_SEQ_LENGTH, NUM_FEATURES))\n",
    "    mask_input = keras.Input((MAX_SEQ_LENGTH,), dtype=\"bool\")\n",
    "    \n",
    "    # Use LSTM layers\n",
    "    x = keras.layers.LSTM(512, return_sequences=True)(frame_features_input,  mask=mask_input)\n",
    "    x = keras.layers.Dropout(0.2)(x)\n",
    "    x = keras.layers.LSTM(256, return_sequences=True)(x)\n",
    "    x = keras.layers.LSTM(128)(x)\n",
    "\n",
    "    x = keras.layers.Dropout(0.2)(x)\n",
    "    x = keras.layers.Dense(256, activation=\"relu\")(x)\n",
    "    x = keras.layers.Dense(256, activation=\"relu\")(x)\n",
    "\n",
    "    # Binary classification output\n",
    "    output = keras.layers.Dense(1, activation=\"sigmoid\")(x)\n",
    "    \n",
    "    rnn_model = keras.Model([frame_features_input,mask_input] , output)\n",
    "\n",
    "    rnn_model.compile(\n",
    "        loss=\"binary_crossentropy\", optimizer=\"sgd\", metrics=[\"accuracy\"]\n",
    "    )\n",
    "    return rnn_model"
   ]
  },
  {
   "cell_type": "code",
   "execution_count": 112,
   "id": "81f68a1d-e238-4d08-920b-936aa01de441",
   "metadata": {},
   "outputs": [],
   "source": [
    "from tensorflow import keras\n",
    "\n",
    "def train_rnn_model():\n",
    "    # Set a filepath to save the best weights\n",
    "    filepath = \"/tmp/best_weights_resnet_trained_rnn.h5\"\n",
    "    checkpoint = keras.callbacks.ModelCheckpoint(filepath, save_weights_only=True,\n",
    "                                                 monitor='val_accuracy', mode='max',\n",
    "                                                 save_best_only=True, verbose=1)\n",
    "    \n",
    "    epochs = 30\n",
    "    batch_size = 64\n",
    "    \n",
    "    model = RNN_MODEL()\n",
    "    \n",
    "    # Train the model with the checkpoint callback\n",
    "    history = model.fit(\n",
    "        [reconstructed_train_features, train_masks],  # Input data\n",
    "        train_labels,                                 # Labels\n",
    "        epochs=epochs,\n",
    "        batch_size=batch_size,\n",
    "        validation_split=0.2,                         # Validation data\n",
    "        callbacks=[checkpoint]                        # Add checkpoint to callbacks\n",
    "    )\n",
    "    \n",
    "    # Load the best weights into the model\n",
    "    model.load_weights(filepath)\n",
    "    \n",
    "    _, accuracy = model.evaluate([reconstructed_test_features, test_masks], test_labels)\n",
    "    print(f\"Test accuracy: {round(accuracy * 100, 2)}%\")\n",
    "    \n",
    "    # If you want to return the actual weight values, you can use:\n",
    "    # best_weights = model.get_weights()\n",
    "\n",
    "    return history, model  #, best_weights  # uncomment this if returning actual weights\n"
   ]
  },
  {
   "cell_type": "code",
   "execution_count": 114,
   "id": "3012c337-586c-4ab7-aaf5-68b45c8295a4",
   "metadata": {},
   "outputs": [
    {
     "name": "stdout",
     "output_type": "stream",
     "text": [
      "Epoch 1/30\n",
      "23/23 [==============================] - ETA: 0s - loss: 0.6957 - accuracy: 0.4708\n",
      "Epoch 1: val_accuracy improved from -inf to 0.53333, saving model to /tmp/best_weights_resnet_trained_rnn.h5\n",
      "23/23 [==============================] - 27s 747ms/step - loss: 0.6957 - accuracy: 0.4708 - val_loss: 0.6904 - val_accuracy: 0.5333\n",
      "Epoch 2/30\n",
      "23/23 [==============================] - ETA: 0s - loss: 0.6856 - accuracy: 0.5960\n",
      "Epoch 2: val_accuracy improved from 0.53333 to 0.55000, saving model to /tmp/best_weights_resnet_trained_rnn.h5\n",
      "23/23 [==============================] - 21s 932ms/step - loss: 0.6856 - accuracy: 0.5960 - val_loss: 0.6844 - val_accuracy: 0.5500\n",
      "Epoch 3/30\n",
      "23/23 [==============================] - ETA: 0s - loss: 0.6797 - accuracy: 0.6189\n",
      "Epoch 3: val_accuracy improved from 0.55000 to 0.56667, saving model to /tmp/best_weights_resnet_trained_rnn.h5\n",
      "23/23 [==============================] - 16s 679ms/step - loss: 0.6797 - accuracy: 0.6189 - val_loss: 0.6795 - val_accuracy: 0.5667\n",
      "Epoch 4/30\n",
      "23/23 [==============================] - ETA: 0s - loss: 0.6739 - accuracy: 0.6217\n",
      "Epoch 4: val_accuracy improved from 0.56667 to 0.57778, saving model to /tmp/best_weights_resnet_trained_rnn.h5\n",
      "23/23 [==============================] - 23s 1s/step - loss: 0.6739 - accuracy: 0.6217 - val_loss: 0.6734 - val_accuracy: 0.5778\n",
      "Epoch 5/30\n",
      "23/23 [==============================] - ETA: 0s - loss: 0.6664 - accuracy: 0.6287\n",
      "Epoch 5: val_accuracy improved from 0.57778 to 0.60000, saving model to /tmp/best_weights_resnet_trained_rnn.h5\n",
      "23/23 [==============================] - 23s 975ms/step - loss: 0.6664 - accuracy: 0.6287 - val_loss: 0.6674 - val_accuracy: 0.6000\n",
      "Epoch 6/30\n",
      "23/23 [==============================] - ETA: 0s - loss: 0.6600 - accuracy: 0.6419\n",
      "Epoch 6: val_accuracy improved from 0.60000 to 0.61389, saving model to /tmp/best_weights_resnet_trained_rnn.h5\n",
      "23/23 [==============================] - 22s 961ms/step - loss: 0.6600 - accuracy: 0.6419 - val_loss: 0.6605 - val_accuracy: 0.6139\n",
      "Epoch 7/30\n",
      "23/23 [==============================] - ETA: 0s - loss: 0.6548 - accuracy: 0.6474\n",
      "Epoch 7: val_accuracy improved from 0.61389 to 0.62500, saving model to /tmp/best_weights_resnet_trained_rnn.h5\n",
      "23/23 [==============================] - 24s 1s/step - loss: 0.6548 - accuracy: 0.6474 - val_loss: 0.6536 - val_accuracy: 0.6250\n",
      "Epoch 8/30\n",
      "23/23 [==============================] - ETA: 0s - loss: 0.6476 - accuracy: 0.6586\n",
      "Epoch 8: val_accuracy improved from 0.62500 to 0.63056, saving model to /tmp/best_weights_resnet_trained_rnn.h5\n",
      "23/23 [==============================] - 25s 1s/step - loss: 0.6476 - accuracy: 0.6586 - val_loss: 0.6469 - val_accuracy: 0.6306\n",
      "Epoch 9/30\n",
      "23/23 [==============================] - ETA: 0s - loss: 0.6431 - accuracy: 0.6599\n",
      "Epoch 9: val_accuracy did not improve from 0.63056\n",
      "23/23 [==============================] - 24s 1s/step - loss: 0.6431 - accuracy: 0.6599 - val_loss: 0.6416 - val_accuracy: 0.6306\n",
      "Epoch 10/30\n",
      "23/23 [==============================] - ETA: 0s - loss: 0.6377 - accuracy: 0.6613\n",
      "Epoch 10: val_accuracy did not improve from 0.63056\n",
      "23/23 [==============================] - 24s 1s/step - loss: 0.6377 - accuracy: 0.6613 - val_loss: 0.6370 - val_accuracy: 0.6306\n",
      "Epoch 11/30\n",
      "23/23 [==============================] - ETA: 0s - loss: 0.6309 - accuracy: 0.6641\n",
      "Epoch 11: val_accuracy did not improve from 0.63056\n",
      "23/23 [==============================] - 25s 1s/step - loss: 0.6309 - accuracy: 0.6641 - val_loss: 0.6321 - val_accuracy: 0.6306\n",
      "Epoch 12/30\n",
      "23/23 [==============================] - ETA: 0s - loss: 0.6260 - accuracy: 0.6739\n",
      "Epoch 12: val_accuracy improved from 0.63056 to 0.63889, saving model to /tmp/best_weights_resnet_trained_rnn.h5\n",
      "23/23 [==============================] - 25s 1s/step - loss: 0.6260 - accuracy: 0.6739 - val_loss: 0.6271 - val_accuracy: 0.6389\n",
      "Epoch 13/30\n",
      "23/23 [==============================] - ETA: 0s - loss: 0.6203 - accuracy: 0.6711\n",
      "Epoch 13: val_accuracy improved from 0.63889 to 0.64444, saving model to /tmp/best_weights_resnet_trained_rnn.h5\n",
      "23/23 [==============================] - 30s 1s/step - loss: 0.6203 - accuracy: 0.6711 - val_loss: 0.6251 - val_accuracy: 0.6444\n",
      "Epoch 14/30\n",
      "23/23 [==============================] - ETA: 0s - loss: 0.6164 - accuracy: 0.6773\n",
      "Epoch 14: val_accuracy improved from 0.64444 to 0.65556, saving model to /tmp/best_weights_resnet_trained_rnn.h5\n",
      "23/23 [==============================] - 34s 1s/step - loss: 0.6164 - accuracy: 0.6773 - val_loss: 0.6190 - val_accuracy: 0.6556\n",
      "Epoch 15/30\n",
      "23/23 [==============================] - ETA: 0s - loss: 0.6129 - accuracy: 0.6766\n",
      "Epoch 15: val_accuracy did not improve from 0.65556\n",
      "23/23 [==============================] - 27s 1s/step - loss: 0.6129 - accuracy: 0.6766 - val_loss: 0.6152 - val_accuracy: 0.6528\n",
      "Epoch 16/30\n",
      "23/23 [==============================] - ETA: 0s - loss: 0.6098 - accuracy: 0.6773\n",
      "Epoch 16: val_accuracy did not improve from 0.65556\n",
      "23/23 [==============================] - 34s 1s/step - loss: 0.6098 - accuracy: 0.6773 - val_loss: 0.6135 - val_accuracy: 0.6556\n",
      "Epoch 17/30\n",
      "23/23 [==============================] - ETA: 0s - loss: 0.6070 - accuracy: 0.6787\n",
      "Epoch 17: val_accuracy improved from 0.65556 to 0.66111, saving model to /tmp/best_weights_resnet_trained_rnn.h5\n",
      "23/23 [==============================] - 33s 1s/step - loss: 0.6070 - accuracy: 0.6787 - val_loss: 0.6093 - val_accuracy: 0.6611\n",
      "Epoch 18/30\n",
      "23/23 [==============================] - ETA: 0s - loss: 0.6029 - accuracy: 0.6787\n",
      "Epoch 18: val_accuracy did not improve from 0.66111\n",
      "23/23 [==============================] - 34s 1s/step - loss: 0.6029 - accuracy: 0.6787 - val_loss: 0.6158 - val_accuracy: 0.6472\n",
      "Epoch 19/30\n",
      "23/23 [==============================] - ETA: 0s - loss: 0.6004 - accuracy: 0.6801\n",
      "Epoch 19: val_accuracy did not improve from 0.66111\n",
      "23/23 [==============================] - 32s 1s/step - loss: 0.6004 - accuracy: 0.6801 - val_loss: 0.6142 - val_accuracy: 0.6472\n",
      "Epoch 20/30\n",
      "23/23 [==============================] - ETA: 0s - loss: 0.6001 - accuracy: 0.6850\n",
      "Epoch 20: val_accuracy did not improve from 0.66111\n",
      "23/23 [==============================] - 34s 1s/step - loss: 0.6001 - accuracy: 0.6850 - val_loss: 0.6054 - val_accuracy: 0.6556\n",
      "Epoch 21/30\n",
      "23/23 [==============================] - ETA: 0s - loss: 0.5945 - accuracy: 0.6843\n",
      "Epoch 21: val_accuracy improved from 0.66111 to 0.66389, saving model to /tmp/best_weights_resnet_trained_rnn.h5\n",
      "23/23 [==============================] - 32s 1s/step - loss: 0.5945 - accuracy: 0.6843 - val_loss: 0.6059 - val_accuracy: 0.6639\n",
      "Epoch 22/30\n",
      "23/23 [==============================] - ETA: 0s - loss: 0.5940 - accuracy: 0.6864\n",
      "Epoch 22: val_accuracy did not improve from 0.66389\n",
      "23/23 [==============================] - 32s 1s/step - loss: 0.5940 - accuracy: 0.6864 - val_loss: 0.6012 - val_accuracy: 0.6639\n",
      "Epoch 23/30\n",
      "23/23 [==============================] - ETA: 0s - loss: 0.5880 - accuracy: 0.6947\n",
      "Epoch 23: val_accuracy did not improve from 0.66389\n",
      "23/23 [==============================] - 34s 1s/step - loss: 0.5880 - accuracy: 0.6947 - val_loss: 0.6249 - val_accuracy: 0.6278\n",
      "Epoch 24/30\n",
      "23/23 [==============================] - ETA: 0s - loss: 0.5892 - accuracy: 0.6912\n",
      "Epoch 24: val_accuracy improved from 0.66389 to 0.68333, saving model to /tmp/best_weights_resnet_trained_rnn.h5\n",
      "23/23 [==============================] - 34s 1s/step - loss: 0.5892 - accuracy: 0.6912 - val_loss: 0.5935 - val_accuracy: 0.6833\n",
      "Epoch 25/30\n",
      "23/23 [==============================] - ETA: 0s - loss: 0.5866 - accuracy: 0.6905\n",
      "Epoch 25: val_accuracy improved from 0.68333 to 0.70000, saving model to /tmp/best_weights_resnet_trained_rnn.h5\n",
      "23/23 [==============================] - 36s 2s/step - loss: 0.5866 - accuracy: 0.6905 - val_loss: 0.5913 - val_accuracy: 0.7000\n",
      "Epoch 26/30\n",
      "23/23 [==============================] - ETA: 0s - loss: 0.5840 - accuracy: 0.6919\n",
      "Epoch 26: val_accuracy did not improve from 0.70000\n",
      "23/23 [==============================] - 36s 2s/step - loss: 0.5840 - accuracy: 0.6919 - val_loss: 0.5978 - val_accuracy: 0.6583\n",
      "Epoch 27/30\n",
      "23/23 [==============================] - ETA: 0s - loss: 0.5826 - accuracy: 0.6947\n",
      "Epoch 27: val_accuracy did not improve from 0.70000\n",
      "23/23 [==============================] - 35s 1s/step - loss: 0.5826 - accuracy: 0.6947 - val_loss: 0.6036 - val_accuracy: 0.6583\n",
      "Epoch 28/30\n",
      "23/23 [==============================] - ETA: 0s - loss: 0.5804 - accuracy: 0.6954\n",
      "Epoch 28: val_accuracy improved from 0.70000 to 0.70556, saving model to /tmp/best_weights_resnet_trained_rnn.h5\n",
      "23/23 [==============================] - 35s 2s/step - loss: 0.5804 - accuracy: 0.6954 - val_loss: 0.5845 - val_accuracy: 0.7056\n",
      "Epoch 29/30\n",
      "23/23 [==============================] - ETA: 0s - loss: 0.5837 - accuracy: 0.6947\n",
      "Epoch 29: val_accuracy did not improve from 0.70556\n",
      "23/23 [==============================] - 35s 2s/step - loss: 0.5837 - accuracy: 0.6947 - val_loss: 0.5875 - val_accuracy: 0.6833\n",
      "Epoch 30/30\n",
      "23/23 [==============================] - ETA: 0s - loss: 0.5792 - accuracy: 0.6947\n",
      "Epoch 30: val_accuracy did not improve from 0.70556\n",
      "23/23 [==============================] - 33s 1s/step - loss: 0.5792 - accuracy: 0.6947 - val_loss: 0.5860 - val_accuracy: 0.6639\n",
      "15/15 [==============================] - 4s 275ms/step - loss: 0.6067 - accuracy: 0.6600\n",
      "Test accuracy: 66.0%\n"
     ]
    }
   ],
   "source": [
    "cnn_history, rnn_model = train_rnn_model()"
   ]
  },
  {
   "cell_type": "code",
   "execution_count": 117,
   "id": "11479018-c353-475a-9954-83572ce4afee",
   "metadata": {},
   "outputs": [],
   "source": [
    "import pickle\n",
    "\n",
    "with open('training_history_trained_resnet.pkl', 'wb') as file:\n",
    "    pickle.dump(cnn_history.history, file)"
   ]
  },
  {
   "cell_type": "code",
   "execution_count": 182,
   "id": "114d06e4-742d-443d-913e-3cf519c21f43",
   "metadata": {},
   "outputs": [
    {
     "data": {
      "image/png": "[encoded data removed]",
      "text/plain": [
       "<Figure size 1200x400 with 2 Axes>"
      ]
     },
     "metadata": {},
     "output_type": "display_data"
    }
   ],
   "source": [
    "import matplotlib.pyplot as plt\n",
    "\n",
    "# Plotting the loss for training and validation data\n",
    "plt.figure(figsize=(12, 4))\n",
    "\n",
    "plt.subplot(1, 2, 1)\n",
    "plt.plot(cnn_history.history['loss'], label='Train Loss')\n",
    "plt.plot(cnn_history.history['val_loss'], label='Validation Loss')\n",
    "plt.xlabel('Epochs')\n",
    "plt.ylabel('Loss')\n",
    "plt.title('Loss over Epochs')\n",
    "plt.legend()\n",
    "\n",
    "# Plotting the accuracy for training and validation data\n",
    "plt.subplot(1, 2, 2)\n",
    "plt.plot(cnn_history.history['accuracy'], label='Train Accuracy')\n",
    "plt.plot(cnn_history.history['val_accuracy'], label='Validation Accuracy')\n",
    "plt.xlabel('Epochs')\n",
    "plt.ylabel('Accuracy')\n",
    "plt.title('Accuracy over Epochs')\n",
    "plt.legend()\n",
    "\n",
    "plt.tight_layout()\n",
    "\n",
    "\n",
    "# Save the figure to a file\n",
    "plt.savefig('training_plots_trained_resnet.png', dpi=300)\n",
    "plt.show()"
   ]
  },
  {
   "cell_type": "code",
   "execution_count": 140,
   "id": "93502f64-d7a5-468d-8c0d-49ba01619c12",
   "metadata": {},
   "outputs": [
    {
     "name": "stdout",
     "output_type": "stream",
     "text": [
      "57/57 [==============================] - 9s 88ms/step\n",
      "video features shape: (1798, 256)\n"
     ]
    }
   ],
   "source": [
    "#extract the training features from the RNN model\n",
    "rnn_feature_extractor = keras.Model(\n",
    "    inputs=rnn_model.inputs,\n",
    "    outputs=rnn_model.layers[-2].output\n",
    ")\n",
    "\n",
    "extracted_image_features = rnn_feature_extractor.predict([reconstructed_train_features, train_masks])\n",
    "image_features_shape = extracted_image_features.shape\n",
    "print(f\"video features shape: {image_features_shape}\")"
   ]
  },
  {
   "cell_type": "code",
   "execution_count": 125,
   "id": "b44c31ad-521b-4013-a82b-07738299d951",
   "metadata": {},
   "outputs": [
    {
     "name": "stdout",
     "output_type": "stream",
     "text": [
      "15/15 [==============================] - 11s 201ms/step\n",
      "video features shape: (450, 256)\n"
     ]
    }
   ],
   "source": [
    "#extract the testing features from the RNN model\n",
    "rnn_feature_extractor = keras.Model(\n",
    "    inputs=rnn_model.inputs,\n",
    "    outputs=rnn_model.layers[-2].output\n",
    ")\n",
    "\n",
    "test_extracted_image_features = rnn_feature_extractor.predict([reconstructed_test_features, test_masks])\n",
    "test_image_features_shape = test_extracted_image_features.shape\n",
    "print(f\"video features shape: {test_image_features_shape}\")"
   ]
  },
  {
   "cell_type": "markdown",
   "id": "43aa622a-43b5-4404-abbc-a2ef8d74d6cb",
   "metadata": {
    "jp-MarkdownHeadingCollapsed": true,
    "tags": []
   },
   "source": [
    "## **Getting text embeddings**"
   ]
  },
  {
   "cell_type": "code",
   "execution_count": 5,
   "id": "72255cc7-124f-451d-92fc-fcca92f9e466",
   "metadata": {
    "collapsed": true,
    "jupyter": {
     "outputs_hidden": true
    }
   },
   "outputs": [
    {
     "name": "stderr",
     "output_type": "stream",
     "text": [
      "2023-08-15 04:57:00.060544: I tensorflow/core/common_runtime/process_util.cc:146] Creating new thread pool with default inter op setting: 2. Tune using inter_op_parallelism_threads for best performance.\n"
     ]
    }
   ],
   "source": [
    "from transformers import TFBertModel, BertTokenizer"
   ]
  },
  {
   "cell_type": "markdown",
   "id": "526a6d2b-fbb2-4303-9989-9bd8f47f0922",
   "metadata": {},
   "source": [
    "**get bert multingual model to extract text features**"
   ]
  },
  {
   "cell_type": "code",
   "execution_count": 6,
   "id": "adfe5662-4bc7-4e7b-acc4-506f191c1ca9",
   "metadata": {
    "collapsed": true,
    "jupyter": {
     "outputs_hidden": true
    }
   },
   "outputs": [
    {
     "data": {
      "application/vnd.jupyter.widget-view+json": {
       "model_id": "7e26506a45fd4db0874a8e7efe065dbf",
       "version_major": 2,
       "version_minor": 0
      },
      "text/plain": [
       "Downloading:   0%|          | 0.00/625 [00:00<?, ?B/s]"
      ]
     },
     "metadata": {},
     "output_type": "display_data"
    },
    {
     "data": {
      "application/vnd.jupyter.widget-view+json": {
       "model_id": "e4c41786342047e0a39107c293e54f94",
       "version_major": 2,
       "version_minor": 0
      },
      "text/plain": [
       "Downloading:   0%|          | 0.00/1.01G [00:00<?, ?B/s]"
      ]
     },
     "metadata": {},
     "output_type": "display_data"
    },
    {
     "name": "stderr",
     "output_type": "stream",
     "text": [
      "Some layers from the model checkpoint at bert-base-multilingual-cased were not used when initializing TFBertModel: ['nsp___cls', 'mlm___cls']\n",
      "- This IS expected if you are initializing TFBertModel from the checkpoint of a model trained on another task or with another architecture (e.g. initializing a BertForSequenceClassification model from a BertForPreTraining model).\n",
      "- This IS NOT expected if you are initializing TFBertModel from the checkpoint of a model that you expect to be exactly identical (initializing a BertForSequenceClassification model from a BertForSequenceClassification model).\n",
      "All the layers of TFBertModel were initialized from the model checkpoint at bert-base-multilingual-cased.\n",
      "If your task is similar to the task the model of the checkpoint was trained on, you can already use TFBertModel for predictions without further training.\n"
     ]
    },
    {
     "data": {
      "application/vnd.jupyter.widget-view+json": {
       "model_id": "0efd3c7c08a14d15a930071a5c04dfa3",
       "version_major": 2,
       "version_minor": 0
      },
      "text/plain": [
       "Downloading:   0%|          | 0.00/972k [00:00<?, ?B/s]"
      ]
     },
     "metadata": {},
     "output_type": "display_data"
    },
    {
     "data": {
      "application/vnd.jupyter.widget-view+json": {
       "model_id": "971356b31516490ba03203229625a8e7",
       "version_major": 2,
       "version_minor": 0
      },
      "text/plain": [
       "Downloading:   0%|          | 0.00/29.0 [00:00<?, ?B/s]"
      ]
     },
     "metadata": {},
     "output_type": "display_data"
    }
   ],
   "source": [
    "#load bert model and its tokenizer\n",
    "bert_model = TFBertModel.from_pretrained(\"bert-base-multilingual-cased\")\n",
    "tokenizer = BertTokenizer.from_pretrained(\"bert-base-multilingual-cased\")"
   ]
  },
  {
   "cell_type": "markdown",
   "id": "0ed75acb-1415-40b5-a782-022970acfb46",
   "metadata": {},
   "source": [
    "**get titles and replace empty fields with UNK**"
   ]
  },
  {
   "cell_type": "code",
   "execution_count": 10,
   "id": "6483dfa8-c8be-44fd-b66a-fe914ccdc783",
   "metadata": {},
   "outputs": [],
   "source": [
    "train_titles = train_df['title']\n",
    "train_titles = [title if isinstance(title, str) else \"[UNK]\" for title in train_titles]\n",
    "\n",
    "test_titles = test_df['title']\n",
    "test_titles = [title if isinstance(title, str) else \"[UNK]\" for title in test_titles]"
   ]
  },
  {
   "cell_type": "markdown",
   "id": "817c9512-89a0-4846-b8c4-e9fdbee438bc",
   "metadata": {},
   "source": [
    "**get the embeddings**"
   ]
  },
  {
   "cell_type": "code",
   "execution_count": 11,
   "id": "83cf456e-d27b-48ee-985a-7ddb2c326e4a",
   "metadata": {},
   "outputs": [],
   "source": [
    "input_ids = tokenizer(train_titles, return_tensors=\"tf\", padding=True, truncation=True, max_length=128)\n",
    "outputs = bert_model(input_ids)\n",
    "train_embeddings = outputs[1]"
   ]
  },
  {
   "cell_type": "code",
   "execution_count": 58,
   "id": "11591f1a-0b9f-4ba0-85ed-fb18d63f88ef",
   "metadata": {},
   "outputs": [],
   "source": [
    "input_ids_test = tokenizer(test_titles, return_tensors=\"tf\", padding=True, truncation=True, max_length=128)\n",
    "outputs_test = bert_model(input_ids_test)\n",
    "test_embeddings = outputs_test[1]"
   ]
  },
  {
   "cell_type": "code",
   "execution_count": 15,
   "id": "aa5c27bb-4653-4d8a-922d-f41c50e402c4",
   "metadata": {},
   "outputs": [],
   "source": [
    "np.save('train_embeddings.npy', train_embeddings.numpy())\n",
    "np.save('test_embeddings.npy', test_embeddings.numpy())"
   ]
  },
  {
   "cell_type": "code",
   "execution_count": 41,
   "id": "6bcfd44a-7c80-401a-a3b3-59300d17708f",
   "metadata": {},
   "outputs": [
    {
     "data": {
      "text/plain": [
       "(1804, 768)"
      ]
     },
     "execution_count": 41,
     "metadata": {},
     "output_type": "execute_result"
    }
   ],
   "source": [
    "train_embeddings.numpy().shape"
   ]
  },
  {
   "cell_type": "code",
   "execution_count": 48,
   "id": "25b3430e-418d-47dc-8e1d-b076010c8f94",
   "metadata": {},
   "outputs": [
    {
     "data": {
      "text/plain": [
       "(1804, 8)"
      ]
     },
     "execution_count": 48,
     "metadata": {},
     "output_type": "execute_result"
    }
   ],
   "source": [
    "extracted_image_features.shape"
   ]
  },
  {
   "cell_type": "code",
   "execution_count": 145,
   "id": "9d9d8e9a-6389-4f59-97bd-3eda20f320f2",
   "metadata": {},
   "outputs": [],
   "source": [
    "train_embeddings = np.load('train_embeddings.npy')\n",
    "test_embeddings = np.load('test_embeddings.npy')"
   ]
  },
  {
   "cell_type": "code",
   "execution_count": 146,
   "id": "efec8a5a-ef69-4c51-aa3b-75b90a2265b1",
   "metadata": {},
   "outputs": [],
   "source": [
    "test_embeddings = np.delete(test_embeddings, [260], axis=0)"
   ]
  },
  {
   "cell_type": "code",
   "execution_count": 147,
   "id": "d21339a2-44c2-4616-bae8-6572a41cf935",
   "metadata": {},
   "outputs": [
    {
     "data": {
      "text/plain": [
       "(450, 768)"
      ]
     },
     "execution_count": 147,
     "metadata": {},
     "output_type": "execute_result"
    }
   ],
   "source": [
    "test_embeddings.shape"
   ]
  },
  {
   "cell_type": "code",
   "execution_count": 148,
   "id": "65828e09-0c05-40d6-ac18-cc8ea6f8ee38",
   "metadata": {},
   "outputs": [
    {
     "data": {
      "text/plain": [
       "(1798, 768)"
      ]
     },
     "execution_count": 148,
     "metadata": {},
     "output_type": "execute_result"
    }
   ],
   "source": [
    "train_embeddings = np.delete(train_embeddings, [282, 583, 848, 1263, 1494, 1787], axis=0)\n",
    "train_embeddings.shape"
   ]
  },
  {
   "cell_type": "markdown",
   "id": "2fc6aa95-9931-4bf3-8391-29541ba5d51c",
   "metadata": {
    "jp-MarkdownHeadingCollapsed": true,
    "tags": []
   },
   "source": [
    "## **Fused network**"
   ]
  },
  {
   "cell_type": "code",
   "execution_count": 149,
   "id": "01568f8d-47df-4473-ba71-4f2faa6fb6ef",
   "metadata": {},
   "outputs": [],
   "source": [
    "from tensorflow.keras.metrics import Precision, Recall\n",
    "from tensorflow.keras import backend as K\n",
    "\n",
    "def F1_Score(y_true, y_pred):\n",
    "    true_positives = K.sum(K.round(K.clip(y_true * y_pred, 0, 1)))\n",
    "    possible_positives = K.sum(K.round(K.clip(y_true, 0, 1)))\n",
    "    predicted_positives = K.sum(K.round(K.clip(y_pred, 0, 1)))\n",
    "    \n",
    "    precision = true_positives / (predicted_positives + K.epsilon())\n",
    "    recall = true_positives / (possible_positives + K.epsilon())\n",
    "    f1_val = 2*(precision*recall) / (precision + recall + K.epsilon())\n",
    "    \n",
    "    return f1_val"
   ]
  },
  {
   "cell_type": "code",
   "execution_count": 150,
   "id": "8f173011-a804-4eac-8ea6-ad3d003849b7",
   "metadata": {},
   "outputs": [],
   "source": [
    "#create the fused model, this model combine the features of the frames and the embeddings of the titles\n",
    "def FUSED_NN():\n",
    "    # Assuming image_features is the output tensor from your image model\n",
    "    image_input = tf.keras.Input(shape=(256, ), name=\"image_input\")  # replace image_features_shape with the shape of your image features\n",
    "\n",
    "    # BERT embeddings\n",
    "    text_input = tf.keras.Input(shape=(768, ), name=\"text_input\")  # BERT base models have an output dimension of 768\n",
    "\n",
    "    fused = tf.keras.layers.Concatenate()([image_input, text_input])\n",
    "\n",
    "    # Fully Connected Layers\n",
    "    dense = tf.keras.layers.Dense(512, activation='relu')(fused)\n",
    "    dense = tf.keras.layers.Dense(256, activation='relu')(dense)\n",
    "    dense = tf.keras.layers.Dense(126, activation='relu')(dense)\n",
    "    # Output layer for binary classification\n",
    "    output = tf.keras.layers.Dense(1, activation='sigmoid')(dense)  # Single neuron with sigmoid activation\n",
    "\n",
    "    # Construct the model\n",
    "    fused_model = tf.keras.Model(inputs=[image_input, text_input], outputs=output)\n",
    "\n",
    "    # Compile the model for binary classification\n",
    "    fused_model.compile(optimizer='adam', \n",
    "                    loss='binary_crossentropy', \n",
    "                    metrics=['accuracy', Precision(name='precision'), Recall(name='recall'), F1_Score])    \n",
    "    return fused_model"
   ]
  },
  {
   "cell_type": "code",
   "execution_count": 153,
   "id": "9455e7be-4b86-4b5f-8823-73550de6c0e7",
   "metadata": {},
   "outputs": [],
   "source": [
    "from tensorflow import keras\n",
    "\n",
    "def train_fused_model():\n",
    "    # Set a filepath to save the best weights\n",
    "    filepath = \"/tmp/best_weights.h5\"\n",
    "    checkpoint = keras.callbacks.ModelCheckpoint(filepath, save_weights_only=True,\n",
    "                                                 monitor='val_accuracy', mode='max',\n",
    "                                                 save_best_only=True, verbose=1)\n",
    "    \n",
    "    epochs = 50\n",
    "    batch_size = 32\n",
    "    \n",
    "    image_features_train = extracted_image_features\n",
    "    text_features_train = train_embeddings\n",
    "    \n",
    "    model = FUSED_NN()\n",
    "    \n",
    "    # Train the model with the checkpoint callback\n",
    "    history = model.fit(\n",
    "        [extracted_image_features, text_features_train],  # Input data\n",
    "        train_labels,                                 # Labels\n",
    "        epochs=epochs,\n",
    "        batch_size=batch_size,\n",
    "        validation_split=0.2,                         # Validation data\n",
    "        callbacks=[checkpoint]                        # Add checkpoint to callbacks\n",
    "    )\n",
    "    \n",
    "    # Load the best weights into the model\n",
    "    model.load_weights(filepath)\n",
    "    \n",
    "    _, accuracy, precision, recall, f1_score = model.evaluate([test_extracted_image_features, test_embeddings], test_labels)\n",
    "    print(f\"Test accuracy: {round(accuracy * 100, 2)}%\")\n",
    "    print(f\"Test precision: {round(precision * 100, 2)}%\")\n",
    "    print(f\"Test recall: {round(recall * 100, 2)}%\")\n",
    "    print(f\"Test f1_score: {round(f1_score * 100, 2)}%\")\n",
    "    \n",
    "    # If you want to return the actual weight values, you can use:\n",
    "    # best_weights = model.get_weights()\n",
    "\n",
    "    return history, model  #, best_weights  # uncomment this if returning actual weights\n"
   ]
  },
  {
   "cell_type": "code",
   "execution_count": 154,
   "id": "265a42c1-31ee-45f8-b646-051ceabbe912",
   "metadata": {},
   "outputs": [
    {
     "name": "stdout",
     "output_type": "stream",
     "text": [
      "Epoch 1/50\n",
      "42/45 [===========================>..] - ETA: 0s - loss: 0.5292 - accuracy: 0.7351 - precision: 0.7391 - recall: 0.7782 - F1_Score: 0.7250     \n",
      "Epoch 1: val_accuracy improved from -inf to 0.77222, saving model to /tmp/best_weights.h5\n",
      "45/45 [==============================] - 2s 17ms/step - loss: 0.5263 - accuracy: 0.7392 - precision: 0.7469 - recall: 0.7731 - F1_Score: 0.7286 - val_loss: 0.4893 - val_accuracy: 0.7722 - val_precision: 0.7085 - val_recall: 0.9029 - val_F1_Score: 0.7818\n",
      "Epoch 2/50\n",
      "37/45 [=======================>......] - ETA: 0s - loss: 0.4273 - accuracy: 0.7990 - precision: 0.8250 - recall: 0.7882 - F1_Score: 0.7946\n",
      "Epoch 2: val_accuracy improved from 0.77222 to 0.79167, saving model to /tmp/best_weights.h5\n",
      "45/45 [==============================] - 0s 8ms/step - loss: 0.4232 - accuracy: 0.8074 - precision: 0.8393 - recall: 0.7901 - F1_Score: 0.8034 - val_loss: 0.4831 - val_accuracy: 0.7917 - val_precision: 0.7193 - val_recall: 0.9371 - val_F1_Score: 0.8024\n",
      "Epoch 3/50\n",
      "40/45 [=========================>....] - ETA: 0s - loss: 0.3467 - accuracy: 0.8516 - precision: 0.8760 - recall: 0.8370 - F1_Score: 0.8549\n",
      "Epoch 3: val_accuracy improved from 0.79167 to 0.80278, saving model to /tmp/best_weights.h5\n",
      "45/45 [==============================] - 0s 10ms/step - loss: 0.3574 - accuracy: 0.8428 - precision: 0.8741 - recall: 0.8240 - F1_Score: 0.8460 - val_loss: 0.4624 - val_accuracy: 0.8028 - val_precision: 0.7342 - val_recall: 0.9314 - val_F1_Score: 0.8089\n",
      "Epoch 4/50\n",
      "45/45 [==============================] - ETA: 0s - loss: 0.3711 - accuracy: 0.8414 - precision: 0.8717 - recall: 0.8240 - F1_Score: 0.8431\n",
      "Epoch 4: val_accuracy improved from 0.80278 to 0.85833, saving model to /tmp/best_weights.h5\n",
      "45/45 [==============================] - 1s 21ms/step - loss: 0.3711 - accuracy: 0.8414 - precision: 0.8717 - recall: 0.8240 - F1_Score: 0.8431 - val_loss: 0.3347 - val_accuracy: 0.8583 - val_precision: 0.8690 - val_recall: 0.8343 - val_F1_Score: 0.8502\n",
      "Epoch 5/50\n",
      "43/45 [===========================>..] - ETA: 0s - loss: 0.3270 - accuracy: 0.8670 - precision: 0.9096 - recall: 0.8342 - F1_Score: 0.8668\n",
      "Epoch 5: val_accuracy did not improve from 0.85833\n",
      "45/45 [==============================] - 1s 14ms/step - loss: 0.3276 - accuracy: 0.8672 - precision: 0.9079 - recall: 0.8357 - F1_Score: 0.8670 - val_loss: 0.3749 - val_accuracy: 0.8556 - val_precision: 0.8220 - val_recall: 0.8971 - val_F1_Score: 0.8494\n",
      "Epoch 6/50\n",
      "44/45 [============================>.] - ETA: 0s - loss: 0.3265 - accuracy: 0.8651 - precision: 0.9040 - recall: 0.8369 - F1_Score: 0.8653\n",
      "Epoch 6: val_accuracy improved from 0.85833 to 0.86944, saving model to /tmp/best_weights.h5\n",
      "45/45 [==============================] - 0s 8ms/step - loss: 0.3234 - accuracy: 0.8672 - precision: 0.9056 - recall: 0.8383 - F1_Score: 0.8674 - val_loss: 0.3268 - val_accuracy: 0.8694 - val_precision: 0.8596 - val_recall: 0.8743 - val_F1_Score: 0.8578\n",
      "Epoch 7/50\n",
      "42/45 [===========================>..] - ETA: 0s - loss: 0.2980 - accuracy: 0.8757 - precision: 0.9199 - recall: 0.8385 - F1_Score: 0.8722\n",
      "Epoch 7: val_accuracy improved from 0.86944 to 0.87222, saving model to /tmp/best_weights.h5\n",
      "45/45 [==============================] - 0s 11ms/step - loss: 0.2914 - accuracy: 0.8797 - precision: 0.9231 - recall: 0.8449 - F1_Score: 0.8770 - val_loss: 0.3419 - val_accuracy: 0.8722 - val_precision: 0.8342 - val_recall: 0.9200 - val_F1_Score: 0.8675\n",
      "Epoch 8/50\n",
      "40/45 [=========================>....] - ETA: 0s - loss: 0.2987 - accuracy: 0.8727 - precision: 0.9104 - recall: 0.8417 - F1_Score: 0.8728\n",
      "Epoch 8: val_accuracy improved from 0.87222 to 0.87500, saving model to /tmp/best_weights.h5\n",
      "45/45 [==============================] - 0s 9ms/step - loss: 0.2979 - accuracy: 0.8741 - precision: 0.9025 - recall: 0.8566 - F1_Score: 0.8770 - val_loss: 0.3143 - val_accuracy: 0.8750 - val_precision: 0.8611 - val_recall: 0.8857 - val_F1_Score: 0.8630\n",
      "Epoch 9/50\n",
      "42/45 [===========================>..] - ETA: 0s - loss: 0.2879 - accuracy: 0.8713 - precision: 0.9022 - recall: 0.8506 - F1_Score: 0.8689\n",
      "Epoch 9: val_accuracy did not improve from 0.87500\n",
      "45/45 [==============================] - 0s 9ms/step - loss: 0.2993 - accuracy: 0.8679 - precision: 0.9024 - recall: 0.8435 - F1_Score: 0.8643 - val_loss: 0.3024 - val_accuracy: 0.8639 - val_precision: 0.8841 - val_recall: 0.8286 - val_F1_Score: 0.8505\n",
      "Epoch 10/50\n",
      "40/45 [=========================>....] - ETA: 0s - loss: 0.2747 - accuracy: 0.8820 - precision: 0.9141 - recall: 0.8590 - F1_Score: 0.8832\n",
      "Epoch 10: val_accuracy improved from 0.87500 to 0.88611, saving model to /tmp/best_weights.h5\n",
      "45/45 [==============================] - 0s 9ms/step - loss: 0.2764 - accuracy: 0.8825 - precision: 0.9130 - recall: 0.8618 - F1_Score: 0.8847 - val_loss: 0.2800 - val_accuracy: 0.8861 - val_precision: 0.8941 - val_recall: 0.8686 - val_F1_Score: 0.8712\n",
      "Epoch 11/50\n",
      "43/45 [===========================>..] - ETA: 0s - loss: 0.2601 - accuracy: 0.8881 - precision: 0.9279 - recall: 0.8573 - F1_Score: 0.8853\n",
      "Epoch 11: val_accuracy did not improve from 0.88611\n",
      "45/45 [==============================] - 0s 8ms/step - loss: 0.2589 - accuracy: 0.8901 - precision: 0.9271 - recall: 0.8618 - F1_Score: 0.8875 - val_loss: 0.3212 - val_accuracy: 0.8667 - val_precision: 0.8470 - val_recall: 0.8857 - val_F1_Score: 0.8579\n",
      "Epoch 12/50\n",
      "43/45 [===========================>..] - ETA: 0s - loss: 0.2439 - accuracy: 0.8932 - precision: 0.9251 - recall: 0.8711 - F1_Score: 0.8942\n",
      "Epoch 12: val_accuracy improved from 0.88611 to 0.89167, saving model to /tmp/best_weights.h5\n",
      "45/45 [==============================] - 1s 15ms/step - loss: 0.2447 - accuracy: 0.8943 - precision: 0.9277 - recall: 0.8696 - F1_Score: 0.8948 - val_loss: 0.2888 - val_accuracy: 0.8917 - val_precision: 0.9048 - val_recall: 0.8686 - val_F1_Score: 0.8750\n",
      "Epoch 13/50\n",
      "43/45 [===========================>..] - ETA: 0s - loss: 0.2405 - accuracy: 0.9019 - precision: 0.9285 - recall: 0.8842 - F1_Score: 0.9028\n",
      "Epoch 13: val_accuracy improved from 0.89167 to 0.89444, saving model to /tmp/best_weights.h5\n",
      "45/45 [==============================] - 0s 10ms/step - loss: 0.2451 - accuracy: 0.8971 - precision: 0.9211 - recall: 0.8827 - F1_Score: 0.8981 - val_loss: 0.2912 - val_accuracy: 0.8944 - val_precision: 0.8870 - val_recall: 0.8971 - val_F1_Score: 0.8806\n",
      "Epoch 14/50\n",
      "45/45 [==============================] - ETA: 0s - loss: 0.2337 - accuracy: 0.8992 - precision: 0.9272 - recall: 0.8801 - F1_Score: 0.9010\n",
      "Epoch 14: val_accuracy did not improve from 0.89444\n",
      "45/45 [==============================] - 0s 9ms/step - loss: 0.2337 - accuracy: 0.8992 - precision: 0.9272 - recall: 0.8801 - F1_Score: 0.9010 - val_loss: 0.2912 - val_accuracy: 0.8833 - val_precision: 0.8935 - val_recall: 0.8629 - val_F1_Score: 0.8742\n",
      "Epoch 15/50\n",
      "43/45 [===========================>..] - ETA: 0s - loss: 0.2234 - accuracy: 0.9070 - precision: 0.9353 - recall: 0.8869 - F1_Score: 0.9088\n",
      "Epoch 15: val_accuracy did not improve from 0.89444\n",
      "45/45 [==============================] - 0s 9ms/step - loss: 0.2198 - accuracy: 0.9089 - precision: 0.9368 - recall: 0.8892 - F1_Score: 0.9108 - val_loss: 0.3374 - val_accuracy: 0.8722 - val_precision: 0.8686 - val_recall: 0.8686 - val_F1_Score: 0.8664\n",
      "Epoch 16/50\n",
      "39/45 [=========================>....] - ETA: 0s - loss: 0.2424 - accuracy: 0.8910 - precision: 0.9117 - recall: 0.8784 - F1_Score: 0.8931\n",
      "Epoch 16: val_accuracy did not improve from 0.89444\n",
      "45/45 [==============================] - 0s 8ms/step - loss: 0.2372 - accuracy: 0.8922 - precision: 0.9135 - recall: 0.8814 - F1_Score: 0.8950 - val_loss: 0.4571 - val_accuracy: 0.8056 - val_precision: 0.7273 - val_recall: 0.9600 - val_F1_Score: 0.8264\n",
      "Epoch 17/50\n",
      "43/45 [===========================>..] - ETA: 0s - loss: 0.2322 - accuracy: 0.8990 - precision: 0.9147 - recall: 0.8934 - F1_Score: 0.9033\n",
      "Epoch 17: val_accuracy did not improve from 0.89444\n",
      "45/45 [==============================] - 0s 10ms/step - loss: 0.2306 - accuracy: 0.8999 - precision: 0.9181 - recall: 0.8918 - F1_Score: 0.9046 - val_loss: 0.3089 - val_accuracy: 0.8778 - val_precision: 0.9068 - val_recall: 0.8343 - val_F1_Score: 0.8637\n",
      "Epoch 18/50\n",
      "45/45 [==============================] - ETA: 0s - loss: 0.2078 - accuracy: 0.9103 - precision: 0.9288 - recall: 0.9009 - F1_Score: 0.9124\n",
      "Epoch 18: val_accuracy did not improve from 0.89444\n",
      "45/45 [==============================] - 0s 8ms/step - loss: 0.2078 - accuracy: 0.9103 - precision: 0.9288 - recall: 0.9009 - F1_Score: 0.9124 - val_loss: 0.2953 - val_accuracy: 0.8861 - val_precision: 0.9295 - val_recall: 0.8286 - val_F1_Score: 0.8732\n",
      "Epoch 19/50\n",
      "43/45 [===========================>..] - ETA: 0s - loss: 0.2122 - accuracy: 0.9128 - precision: 0.9241 - recall: 0.9116 - F1_Score: 0.9150\n",
      "Epoch 19: val_accuracy did not improve from 0.89444\n",
      "45/45 [==============================] - 1s 23ms/step - loss: 0.2138 - accuracy: 0.9110 - precision: 0.9243 - recall: 0.9074 - F1_Score: 0.9129 - val_loss: 0.3003 - val_accuracy: 0.8833 - val_precision: 0.8844 - val_recall: 0.8743 - val_F1_Score: 0.8703\n",
      "Epoch 20/50\n",
      "37/45 [=======================>......] - ETA: 0s - loss: 0.2074 - accuracy: 0.9122 - precision: 0.9311 - recall: 0.8979 - F1_Score: 0.9137\n",
      "Epoch 20: val_accuracy did not improve from 0.89444\n",
      "45/45 [==============================] - 1s 12ms/step - loss: 0.2107 - accuracy: 0.9103 - precision: 0.9334 - recall: 0.8957 - F1_Score: 0.9135 - val_loss: 0.3101 - val_accuracy: 0.8667 - val_precision: 0.8396 - val_recall: 0.8971 - val_F1_Score: 0.8530\n",
      "Epoch 21/50\n",
      "39/45 [=========================>....] - ETA: 0s - loss: 0.1885 - accuracy: 0.9151 - precision: 0.9283 - recall: 0.9085 - F1_Score: 0.9197\n",
      "Epoch 21: val_accuracy did not improve from 0.89444\n",
      "45/45 [==============================] - 0s 9ms/step - loss: 0.1784 - accuracy: 0.9207 - precision: 0.9359 - recall: 0.9140 - F1_Score: 0.9253 - val_loss: 0.4010 - val_accuracy: 0.8694 - val_precision: 0.8556 - val_recall: 0.8800 - val_F1_Score: 0.8580\n",
      "Epoch 22/50\n",
      "45/45 [==============================] - ETA: 0s - loss: 0.2287 - accuracy: 0.9061 - precision: 0.9191 - recall: 0.9035 - F1_Score: 0.9089\n",
      "Epoch 22: val_accuracy did not improve from 0.89444\n",
      "45/45 [==============================] - 0s 8ms/step - loss: 0.2287 - accuracy: 0.9061 - precision: 0.9191 - recall: 0.9035 - F1_Score: 0.9089 - val_loss: 0.3408 - val_accuracy: 0.8833 - val_precision: 0.8519 - val_recall: 0.9200 - val_F1_Score: 0.8756\n",
      "Epoch 23/50\n",
      "41/45 [==========================>...] - ETA: 0s - loss: 0.1737 - accuracy: 0.9284 - precision: 0.9436 - recall: 0.9222 - F1_Score: 0.9300\n",
      "Epoch 23: val_accuracy improved from 0.89444 to 0.89722, saving model to /tmp/best_weights.h5\n",
      "45/45 [==============================] - 0s 7ms/step - loss: 0.1784 - accuracy: 0.9256 - precision: 0.9424 - recall: 0.9166 - F1_Score: 0.9259 - val_loss: 0.2815 - val_accuracy: 0.8972 - val_precision: 0.9367 - val_recall: 0.8457 - val_F1_Score: 0.8778\n",
      "Epoch 24/50\n",
      "40/45 [=========================>....] - ETA: 0s - loss: 0.1702 - accuracy: 0.9320 - precision: 0.9452 - recall: 0.9273 - F1_Score: 0.9344\n",
      "Epoch 24: val_accuracy did not improve from 0.89722\n",
      "45/45 [==============================] - 0s 8ms/step - loss: 0.1700 - accuracy: 0.9346 - precision: 0.9481 - recall: 0.9283 - F1_Score: 0.9368 - val_loss: 0.3905 - val_accuracy: 0.8417 - val_precision: 0.7980 - val_recall: 0.9029 - val_F1_Score: 0.8431\n",
      "Epoch 25/50\n",
      "42/45 [===========================>..] - ETA: 0s - loss: 0.1774 - accuracy: 0.9211 - precision: 0.9375 - recall: 0.9141 - F1_Score: 0.9209\n",
      "Epoch 25: val_accuracy did not improve from 0.89722\n",
      "45/45 [==============================] - 0s 11ms/step - loss: 0.1775 - accuracy: 0.9228 - precision: 0.9397 - recall: 0.9140 - F1_Score: 0.9228 - val_loss: 0.3981 - val_accuracy: 0.8417 - val_precision: 0.7921 - val_recall: 0.9143 - val_F1_Score: 0.8265\n",
      "Epoch 26/50\n",
      "43/45 [===========================>..] - ETA: 0s - loss: 0.1507 - accuracy: 0.9419 - precision: 0.9520 - recall: 0.9391 - F1_Score: 0.9442\n",
      "Epoch 26: val_accuracy did not improve from 0.89722\n",
      "45/45 [==============================] - 1s 19ms/step - loss: 0.1510 - accuracy: 0.9416 - precision: 0.9535 - recall: 0.9361 - F1_Score: 0.9435 - val_loss: 0.3086 - val_accuracy: 0.8861 - val_precision: 0.9036 - val_recall: 0.8571 - val_F1_Score: 0.8713\n",
      "Epoch 27/50\n",
      "44/45 [============================>.] - ETA: 0s - loss: 0.1801 - accuracy: 0.9254 - precision: 0.9374 - recall: 0.9211 - F1_Score: 0.9260\n",
      "Epoch 27: val_accuracy did not improve from 0.89722\n",
      "45/45 [==============================] - 0s 10ms/step - loss: 0.1802 - accuracy: 0.9249 - precision: 0.9376 - recall: 0.9205 - F1_Score: 0.9259 - val_loss: 0.2918 - val_accuracy: 0.8722 - val_precision: 0.8564 - val_recall: 0.8857 - val_F1_Score: 0.8672\n",
      "Epoch 28/50\n",
      "40/45 [=========================>....] - ETA: 0s - loss: 0.1291 - accuracy: 0.9500 - precision: 0.9556 - recall: 0.9500 - F1_Score: 0.9540\n",
      "Epoch 28: val_accuracy did not improve from 0.89722\n",
      "45/45 [==============================] - 0s 10ms/step - loss: 0.1309 - accuracy: 0.9478 - precision: 0.9541 - recall: 0.9478 - F1_Score: 0.9523 - val_loss: 0.3395 - val_accuracy: 0.8889 - val_precision: 0.8902 - val_recall: 0.8800 - val_F1_Score: 0.8753\n",
      "Epoch 29/50\n",
      "45/45 [==============================] - ETA: 0s - loss: 0.1661 - accuracy: 0.9360 - precision: 0.9458 - recall: 0.9335 - F1_Score: 0.9359\n",
      "Epoch 29: val_accuracy did not improve from 0.89722\n",
      "45/45 [==============================] - 1s 25ms/step - loss: 0.1661 - accuracy: 0.9360 - precision: 0.9458 - recall: 0.9335 - F1_Score: 0.9359 - val_loss: 0.5339 - val_accuracy: 0.8083 - val_precision: 0.7345 - val_recall: 0.9486 - val_F1_Score: 0.8274\n",
      "Epoch 30/50\n",
      "42/45 [===========================>..] - ETA: 0s - loss: 0.1476 - accuracy: 0.9338 - precision: 0.9336 - recall: 0.9427 - F1_Score: 0.9374\n",
      "Epoch 30: val_accuracy did not improve from 0.89722\n",
      "45/45 [==============================] - 1s 21ms/step - loss: 0.1571 - accuracy: 0.9305 - precision: 0.9303 - recall: 0.9400 - F1_Score: 0.9343 - val_loss: 0.4285 - val_accuracy: 0.8694 - val_precision: 0.9706 - val_recall: 0.7543 - val_F1_Score: 0.8345\n",
      "Epoch 31/50\n",
      "45/45 [==============================] - ETA: 0s - loss: 0.1517 - accuracy: 0.9360 - precision: 0.9435 - recall: 0.9361 - F1_Score: 0.9387\n",
      "Epoch 31: val_accuracy did not improve from 0.89722\n",
      "45/45 [==============================] - 1s 28ms/step - loss: 0.1517 - accuracy: 0.9360 - precision: 0.9435 - recall: 0.9361 - F1_Score: 0.9387 - val_loss: 0.3211 - val_accuracy: 0.8722 - val_precision: 0.8449 - val_recall: 0.9029 - val_F1_Score: 0.8630\n",
      "Epoch 32/50\n",
      "45/45 [==============================] - ETA: 0s - loss: 0.1166 - accuracy: 0.9499 - precision: 0.9578 - recall: 0.9478 - F1_Score: 0.9501\n",
      "Epoch 32: val_accuracy did not improve from 0.89722\n",
      "45/45 [==============================] - 0s 10ms/step - loss: 0.1166 - accuracy: 0.9499 - precision: 0.9578 - recall: 0.9478 - F1_Score: 0.9501 - val_loss: 0.5498 - val_accuracy: 0.8333 - val_precision: 0.7578 - val_recall: 0.9657 - val_F1_Score: 0.8469\n",
      "Epoch 33/50\n",
      "45/45 [==============================] - ETA: 0s - loss: 0.1187 - accuracy: 0.9513 - precision: 0.9532 - recall: 0.9557 - F1_Score: 0.9508\n",
      "Epoch 33: val_accuracy did not improve from 0.89722\n",
      "45/45 [==============================] - 0s 9ms/step - loss: 0.1187 - accuracy: 0.9513 - precision: 0.9532 - recall: 0.9557 - F1_Score: 0.9508 - val_loss: 0.4167 - val_accuracy: 0.8944 - val_precision: 0.9102 - val_recall: 0.8686 - val_F1_Score: 0.8789\n",
      "Epoch 34/50\n",
      "45/45 [==============================] - ETA: 0s - loss: 0.1509 - accuracy: 0.9374 - precision: 0.9448 - recall: 0.9374 - F1_Score: 0.9390\n",
      "Epoch 34: val_accuracy did not improve from 0.89722\n",
      "45/45 [==============================] - 0s 10ms/step - loss: 0.1509 - accuracy: 0.9374 - precision: 0.9448 - recall: 0.9374 - F1_Score: 0.9390 - val_loss: 0.3794 - val_accuracy: 0.8611 - val_precision: 0.8307 - val_recall: 0.8971 - val_F1_Score: 0.8604\n",
      "Epoch 35/50\n",
      "41/45 [==========================>...] - ETA: 0s - loss: 0.1159 - accuracy: 0.9527 - precision: 0.9559 - recall: 0.9559 - F1_Score: 0.9547\n",
      "Epoch 35: val_accuracy did not improve from 0.89722\n",
      "45/45 [==============================] - 1s 19ms/step - loss: 0.1156 - accuracy: 0.9541 - precision: 0.9570 - recall: 0.9570 - F1_Score: 0.9557 - val_loss: 0.3844 - val_accuracy: 0.8778 - val_precision: 0.8701 - val_recall: 0.8800 - val_F1_Score: 0.8598\n",
      "Epoch 36/50\n",
      "40/45 [=========================>....] - ETA: 0s - loss: 0.1167 - accuracy: 0.9539 - precision: 0.9588 - recall: 0.9545 - F1_Score: 0.9551\n",
      "Epoch 36: val_accuracy did not improve from 0.89722\n",
      "45/45 [==============================] - 0s 11ms/step - loss: 0.1105 - accuracy: 0.9569 - precision: 0.9608 - recall: 0.9583 - F1_Score: 0.9580 - val_loss: 0.3747 - val_accuracy: 0.8972 - val_precision: 0.8876 - val_recall: 0.9029 - val_F1_Score: 0.9010\n",
      "Epoch 37/50\n",
      "45/45 [==============================] - ETA: 0s - loss: 0.0954 - accuracy: 0.9597 - precision: 0.9634 - recall: 0.9609 - F1_Score: 0.9592\n",
      "Epoch 37: val_accuracy did not improve from 0.89722\n",
      "45/45 [==============================] - 1s 23ms/step - loss: 0.0954 - accuracy: 0.9597 - precision: 0.9634 - recall: 0.9609 - F1_Score: 0.9592 - val_loss: 0.4076 - val_accuracy: 0.8583 - val_precision: 0.8407 - val_recall: 0.8743 - val_F1_Score: 0.8417\n",
      "Epoch 38/50\n",
      "44/45 [============================>.] - ETA: 0s - loss: 0.0970 - accuracy: 0.9609 - precision: 0.9677 - recall: 0.9586 - F1_Score: 0.9614\n",
      "Epoch 38: val_accuracy did not improve from 0.89722\n",
      "45/45 [==============================] - 1s 24ms/step - loss: 0.1019 - accuracy: 0.9583 - precision: 0.9621 - recall: 0.9596 - F1_Score: 0.9596 - val_loss: 0.6203 - val_accuracy: 0.8139 - val_precision: 0.7389 - val_recall: 0.9543 - val_F1_Score: 0.8309\n",
      "Epoch 39/50\n",
      "43/45 [===========================>..] - ETA: 0s - loss: 0.1356 - accuracy: 0.9426 - precision: 0.9495 - recall: 0.9431 - F1_Score: 0.9426\n",
      "Epoch 39: val_accuracy did not improve from 0.89722\n",
      "45/45 [==============================] - 0s 9ms/step - loss: 0.1371 - accuracy: 0.9423 - precision: 0.9488 - recall: 0.9426 - F1_Score: 0.9421 - val_loss: 0.3228 - val_accuracy: 0.8861 - val_precision: 0.9408 - val_recall: 0.8171 - val_F1_Score: 0.8592\n",
      "Epoch 40/50\n",
      "38/45 [========================>.....] - ETA: 0s - loss: 0.0932 - accuracy: 0.9638 - precision: 0.9707 - recall: 0.9618 - F1_Score: 0.9666\n",
      "Epoch 40: val_accuracy did not improve from 0.89722\n",
      "45/45 [==============================] - 0s 8ms/step - loss: 0.0943 - accuracy: 0.9638 - precision: 0.9710 - recall: 0.9609 - F1_Score: 0.9659 - val_loss: 0.5756 - val_accuracy: 0.8389 - val_precision: 0.7882 - val_recall: 0.9143 - val_F1_Score: 0.8431\n",
      "Epoch 41/50\n",
      "39/45 [=========================>....] - ETA: 0s - loss: 0.0833 - accuracy: 0.9671 - precision: 0.9683 - recall: 0.9697 - F1_Score: 0.9673\n",
      "Epoch 41: val_accuracy did not improve from 0.89722\n",
      "45/45 [==============================] - 0s 10ms/step - loss: 0.0959 - accuracy: 0.9652 - precision: 0.9650 - recall: 0.9700 - F1_Score: 0.9657 - val_loss: 0.4468 - val_accuracy: 0.8583 - val_precision: 0.8163 - val_recall: 0.9143 - val_F1_Score: 0.8480\n",
      "Epoch 42/50\n",
      "44/45 [============================>.] - ETA: 0s - loss: 0.0773 - accuracy: 0.9680 - precision: 0.9733 - recall: 0.9668 - F1_Score: 0.9695\n",
      "Epoch 42: val_accuracy did not improve from 0.89722\n",
      "45/45 [==============================] - 0s 8ms/step - loss: 0.0759 - accuracy: 0.9687 - precision: 0.9738 - recall: 0.9674 - F1_Score: 0.9702 - val_loss: 0.5275 - val_accuracy: 0.8694 - val_precision: 0.8516 - val_recall: 0.8857 - val_F1_Score: 0.8622\n",
      "Epoch 43/50\n",
      "45/45 [==============================] - ETA: 0s - loss: 0.0980 - accuracy: 0.9631 - precision: 0.9624 - recall: 0.9687 - F1_Score: 0.9648\n",
      "Epoch 43: val_accuracy did not improve from 0.89722\n",
      "45/45 [==============================] - 1s 18ms/step - loss: 0.0980 - accuracy: 0.9631 - precision: 0.9624 - recall: 0.9687 - F1_Score: 0.9648 - val_loss: 0.3840 - val_accuracy: 0.8889 - val_precision: 0.8771 - val_recall: 0.8971 - val_F1_Score: 0.8663\n",
      "Epoch 44/50\n",
      "44/45 [============================>.] - ETA: 0s - loss: 0.1350 - accuracy: 0.9396 - precision: 0.9439 - recall: 0.9427 - F1_Score: 0.9429\n",
      "Epoch 44: val_accuracy did not improve from 0.89722\n",
      "45/45 [==============================] - 0s 8ms/step - loss: 0.1360 - accuracy: 0.9395 - precision: 0.9439 - recall: 0.9426 - F1_Score: 0.9429 - val_loss: 0.4230 - val_accuracy: 0.8500 - val_precision: 0.8135 - val_recall: 0.8971 - val_F1_Score: 0.8469\n",
      "Epoch 45/50\n",
      "43/45 [===========================>..] - ETA: 0s - loss: 0.1021 - accuracy: 0.9600 - precision: 0.9669 - recall: 0.9576 - F1_Score: 0.9616\n",
      "Epoch 45: val_accuracy did not improve from 0.89722\n",
      "45/45 [==============================] - 0s 10ms/step - loss: 0.1013 - accuracy: 0.9604 - precision: 0.9659 - recall: 0.9596 - F1_Score: 0.9620 - val_loss: 0.4677 - val_accuracy: 0.8611 - val_precision: 0.8492 - val_recall: 0.8686 - val_F1_Score: 0.8466\n",
      "Epoch 46/50\n",
      "44/45 [============================>.] - ETA: 0s - loss: 0.0791 - accuracy: 0.9695 - precision: 0.9709 - recall: 0.9721 - F1_Score: 0.9682\n",
      "Epoch 46: val_accuracy did not improve from 0.89722\n",
      "45/45 [==============================] - 0s 9ms/step - loss: 0.0810 - accuracy: 0.9687 - precision: 0.9713 - recall: 0.9700 - F1_Score: 0.9671 - val_loss: 0.4118 - val_accuracy: 0.8806 - val_precision: 0.8750 - val_recall: 0.8800 - val_F1_Score: 0.8741\n",
      "Epoch 47/50\n",
      "38/45 [========================>.....] - ETA: 0s - loss: 0.0946 - accuracy: 0.9605 - precision: 0.9628 - recall: 0.9628 - F1_Score: 0.9616\n",
      "Epoch 47: val_accuracy did not improve from 0.89722\n",
      "45/45 [==============================] - 0s 8ms/step - loss: 0.0908 - accuracy: 0.9618 - precision: 0.9599 - recall: 0.9687 - F1_Score: 0.9633 - val_loss: 0.5336 - val_accuracy: 0.8889 - val_precision: 0.9193 - val_recall: 0.8457 - val_F1_Score: 0.8775\n",
      "Epoch 48/50\n",
      "45/45 [==============================] - ETA: 0s - loss: 0.0795 - accuracy: 0.9666 - precision: 0.9712 - recall: 0.9661 - F1_Score: 0.9667\n",
      "Epoch 48: val_accuracy improved from 0.89722 to 0.90556, saving model to /tmp/best_weights.h5\n",
      "45/45 [==============================] - 0s 10ms/step - loss: 0.0795 - accuracy: 0.9666 - precision: 0.9712 - recall: 0.9661 - F1_Score: 0.9667 - val_loss: 0.5034 - val_accuracy: 0.9056 - val_precision: 0.9325 - val_recall: 0.8686 - val_F1_Score: 0.8966\n",
      "Epoch 49/50\n",
      "38/45 [========================>.....] - ETA: 0s - loss: 0.0640 - accuracy: 0.9745 - precision: 0.9750 - recall: 0.9765 - F1_Score: 0.9752\n",
      "Epoch 49: val_accuracy did not improve from 0.90556\n",
      "45/45 [==============================] - 0s 8ms/step - loss: 0.0649 - accuracy: 0.9722 - precision: 0.9727 - recall: 0.9752 - F1_Score: 0.9735 - val_loss: 0.5538 - val_accuracy: 0.8417 - val_precision: 0.7980 - val_recall: 0.9029 - val_F1_Score: 0.8422\n",
      "Epoch 50/50\n",
      "39/45 [=========================>....] - ETA: 0s - loss: 0.0370 - accuracy: 0.9848 - precision: 0.9864 - recall: 0.9849 - F1_Score: 0.9860\n",
      "Epoch 50: val_accuracy did not improve from 0.90556\n",
      "45/45 [==============================] - 0s 7ms/step - loss: 0.0361 - accuracy: 0.9861 - precision: 0.9870 - recall: 0.9870 - F1_Score: 0.9872 - val_loss: 0.5778 - val_accuracy: 0.8556 - val_precision: 0.8122 - val_recall: 0.9143 - val_F1_Score: 0.8543\n",
      "15/15 [==============================] - 0s 3ms/step - loss: 0.7888 - accuracy: 0.8200 - precision: 0.8969 - recall: 0.7404 - F1_Score: 0.7477\n",
      "Test accuracy: 82.0%\n",
      "Test precision: 89.69%\n",
      "Test recall: 74.04%\n",
      "Test f1_score: 74.77%\n"
     ]
    }
   ],
   "source": [
    "fused_history, fused_model = train_fused_model()"
   ]
  },
  {
   "cell_type": "code",
   "execution_count": 156,
   "id": "ef3330e8-81f8-4104-899a-87974234ced1",
   "metadata": {},
   "outputs": [],
   "source": [
    "import pickle\n",
    "\n",
    "with open('training_history_resnet_trained_fused.pkl', 'wb') as file:\n",
    "    pickle.dump(fused_history.history, file)"
   ]
  },
  {
   "cell_type": "code",
   "execution_count": 181,
   "id": "569ce67c-e7bb-4206-883e-e9fb747ef1f8",
   "metadata": {},
   "outputs": [
    {
     "data": {
      "image/png": "[encoded data removed]",
      "text/plain": [
       "<Figure size 1200x400 with 2 Axes>"
      ]
     },
     "metadata": {},
     "output_type": "display_data"
    }
   ],
   "source": [
    "import matplotlib.pyplot as plt\n",
    "\n",
    "plt.figure(figsize=(12, 4))\n",
    "\n",
    "plt.subplot(1, 2, 1)\n",
    "plt.plot(fused_history.history['loss'], label='Train Loss')\n",
    "plt.plot(fused_history.history['val_loss'], label='Validation Loss')\n",
    "plt.xlabel('Epochs')\n",
    "plt.ylabel('Loss')\n",
    "plt.title('Loss over Epochs')\n",
    "plt.legend()\n",
    "\n",
    "# Plotting the accuracy for training and validation data\n",
    "plt.subplot(1, 2, 2)\n",
    "plt.plot(fused_history.history['accuracy'], label='Train Accuracy')\n",
    "plt.plot(fused_history.history['val_accuracy'], label='Validation Accuracy')\n",
    "plt.xlabel('Epochs')\n",
    "plt.ylabel('Accuracy')\n",
    "plt.title('Accuracy over Epochs')\n",
    "plt.legend()\n",
    "\n",
    "plt.savefig('fused_plots_resnet_trained.png', dpi=300)\n",
    "\n",
    "plt.tight_layout()\n",
    "plt.show()"
   ]
  }
 ],
 "metadata": {
  "kernelspec": {
   "display_name": "Python 3 (ipykernel)",
   "language": "python",
   "name": "python3"
  },
  "language_info": {
   "codemirror_mode": {
    "name": "ipython",
    "version": 3
   },
   "file_extension": ".py",
   "mimetype": "text/x-python",
   "name": "python",
   "nbconvert_exporter": "python",
   "pygments_lexer": "ipython3",
   "version": "3.9.1"
  }
 },
 "nbformat": 4,
 "nbformat_minor": 5
}
